{
 "cells": [
  {
   "cell_type": "markdown",
   "id": "485da00d-b687-4c10-aa5e-fb12608140b8",
   "metadata": {},
   "source": [
    "# Get Book Chapter Metadata"
   ]
  },
  {
   "cell_type": "markdown",
   "id": "17cb0357-3582-4711-bb5b-b95717eb31d9",
   "metadata": {},
   "source": [
    "This notebook gets metadata for BookChapter from a Excel file ('data/BookChapter_Metadata.xlsx'), create BookChapter node and link the TM nodes to it."
   ]
  },
  {
   "cell_type": "markdown",
   "id": "a4150f2e-de4a-41d9-a274-fec94fc0b418",
   "metadata": {},
   "source": [
    "## Import Libraries"
   ]
  },
  {
   "cell_type": "code",
   "execution_count": 25,
   "id": "3b03aa94-451a-4770-8a14-39728e13ade7",
   "metadata": {
    "tags": []
   },
   "outputs": [],
   "source": [
    "#import numpy as np\n",
    "import pandas as pd\n",
    "pd.set_option('display.max_columns', None)\n",
    "pd.set_option('display.max_rows', None)\n",
    "pd.set_option('display.max_colwidth', None)\n",
    "\n",
    "# import matplotlib.pyplot as plt \n",
    "# import seaborn as sns\n",
    "# sns.set_style('darkgrid')\n",
    "# sns.set_palette(\"colorblind\")\n",
    "# sns.set(rc={'figure.figsize':(11,6)})\n",
    "\n",
    "import os \n",
    "import configparser\n",
    "import csv\n",
    "from collections import defaultdict\n",
    "from metapub import PubMedFetcher\n",
    "fetch = PubMedFetcher()"
   ]
  },
  {
   "cell_type": "code",
   "execution_count": 26,
   "id": "7db70fa5-fdb6-4f5a-bac2-b2d16b4720dc",
   "metadata": {},
   "outputs": [
    {
     "name": "stdout",
     "output_type": "stream",
     "text": [
      "Successfully imported GraphDataScience\n"
     ]
    }
   ],
   "source": [
    "# install or import Neo4j GraphDataScience library\n",
    "try: \n",
    "  from graphdatascience import GraphDataScience\n",
    "  print('Successfully imported GraphDataScience')\n",
    "except ModuleNotFoundError:\n",
    "  !pip3 install graphdatascience\n",
    "  from graphdatascience import GraphDataScience\n",
    "  print('installed and imported GraphDataScience')"
   ]
  },
  {
   "cell_type": "markdown",
   "id": "7b5c4ce0-2834-4162-97a7-6483528210ef",
   "metadata": {},
   "source": [
    "# Custom Functions"
   ]
  },
  {
   "cell_type": "code",
   "execution_count": 27,
   "id": "3b4bda5b-e838-4acb-b10e-e30fa1b4cec6",
   "metadata": {
    "tags": []
   },
   "outputs": [],
   "source": [
    "# function adapted from Neo4j GDS Fraud Demo Notebook (h/t Zach B.)\n",
    "def read_neo4j_properties(NEO4J_PROPERTIES_FILE: str=None) -> str:\n",
    "  '''Parses Neo4j database or Aura connection details from provided .ini filepath.\n",
    "  Requirements:\n",
    "    configparser\n",
    "\n",
    "  Args:\n",
    "    NEO4J_PROPERTIES_FILE: path to a .ini file\n",
    "  \n",
    "  Returns:\n",
    "    HOST: link to Neo4j or Aura host \n",
    "    USERNAME: login username\n",
    "    PASSWORD: login password \n",
    "\n",
    "  Note: The .ini file should use the following syntax\n",
    "    [NEO4J]\n",
    "    PASSWORD=<password>\n",
    "    USERNAME=<database name>\n",
    "    HOST=<host uri>\n",
    "\n",
    "  If no path is passed, the function will return the defaults:\n",
    "    HOST = 'neo4j://localhost'\n",
    "    USERNAME = 'neo4j'\n",
    "    PASSWORD = 'password'\n",
    "  '''\n",
    "\n",
    "  if NEO4J_PROPERTIES_FILE is not None and os.path.exists(NEO4J_PROPERTIES_FILE):\n",
    "      config = configparser.RawConfigParser()\n",
    "      config.read(NEO4J_PROPERTIES_FILE)\n",
    "      HOST = config['NEO4J']['HOST']\n",
    "      USERNAME = config['NEO4J']['USERNAME']\n",
    "      PASSWORD = config['NEO4J']['PASSWORD']\n",
    "      print('Using HOST, USERNAME, PASSWORD from .ini file')\n",
    "      return HOST, USERNAME, PASSWORD\n",
    "  else:\n",
    "      print('Could not find database properties file, using defaults:')\n",
    "      HOST = 'neo4j://localhost'\n",
    "      USERNAME = 'neo4j'\n",
    "      PASSWORD = 'password'\n",
    "      print(f'HOST: {HOST} \\nUSERHAME: {USERNAME} \\nPASSWORD: {PASSWORD}')\n",
    "      return HOST, USERNAME, PASSWORD "
   ]
  },
  {
   "cell_type": "markdown",
   "id": "b46d1b55-bc72-4eb0-be33-a79344aea66b",
   "metadata": {},
   "source": [
    "# Connect to Neo4j DB\n",
    "It is recommended to store authentication credentials in a separate file and read them in to the notebook as variables. This code assumes the files are stored in a local auth directory."
   ]
  },
  {
   "cell_type": "code",
   "execution_count": 28,
   "id": "810cd43b-0b3a-4354-9409-ea3728a86d1d",
   "metadata": {
    "tags": []
   },
   "outputs": [
    {
     "name": "stdout",
     "output_type": "stream",
     "text": [
      "Using HOST, USERNAME, PASSWORD from .ini file\n"
     ]
    }
   ],
   "source": [
    "# get authentication credentials from local auth file\n",
    "NEO4J_PROPERTIES_FILE = 'auth/immerse_kg_auth.ini'\n",
    "HOST, USERNAME, PASSWORD = read_neo4j_properties(NEO4J_PROPERTIES_FILE=NEO4J_PROPERTIES_FILE)"
   ]
  },
  {
   "cell_type": "code",
   "execution_count": 29,
   "id": "84b8d0f5-2ae0-4b06-9646-846fed660e77",
   "metadata": {
    "tags": []
   },
   "outputs": [],
   "source": [
    "# connect to neo4j instance \n",
    "gds = GraphDataScience(HOST, auth=(USERNAME, PASSWORD), aura_ds=False)"
   ]
  },
  {
   "cell_type": "code",
   "execution_count": null,
   "id": "5e21483a-1f3e-45fa-bb98-18c0ba1fed91",
   "metadata": {
    "tags": []
   },
   "outputs": [],
   "source": [
    "# confirm connection with GDS version \n",
    "gds.version()"
   ]
  },
  {
   "cell_type": "markdown",
   "id": "9555b29a-9b28-464b-b8be-7d309e9a6f04",
   "metadata": {},
   "source": [
    "# Clean up BookChapter node"
   ]
  },
  {
   "cell_type": "code",
   "execution_count": 31,
   "id": "143ce115-6a56-449e-b31f-ffda9f7f642b",
   "metadata": {},
   "outputs": [
    {
     "data": {
      "text/html": [
       "<div>\n",
       "<style scoped>\n",
       "    .dataframe tbody tr th:only-of-type {\n",
       "        vertical-align: middle;\n",
       "    }\n",
       "\n",
       "    .dataframe tbody tr th {\n",
       "        vertical-align: top;\n",
       "    }\n",
       "\n",
       "    .dataframe thead th {\n",
       "        text-align: right;\n",
       "    }\n",
       "</style>\n",
       "<table border=\"1\" class=\"dataframe\">\n",
       "  <thead>\n",
       "    <tr style=\"text-align: right;\">\n",
       "      <th></th>\n",
       "    </tr>\n",
       "  </thead>\n",
       "  <tbody>\n",
       "  </tbody>\n",
       "</table>\n",
       "</div>"
      ],
      "text/plain": [
       "Empty DataFrame\n",
       "Columns: []\n",
       "Index: []"
      ]
     },
     "execution_count": 31,
     "metadata": {},
     "output_type": "execute_result"
    }
   ],
   "source": [
    "# if necessary, clean up the BookChapter node and their relationships\n",
    "gds.run_cypher('''\n",
    "                MATCH (n:BookChapter)\n",
    "                DETACH DELETE n\n",
    "                ''')"
   ]
  },
  {
   "cell_type": "markdown",
   "id": "6415098d-6b8a-4320-b34f-b3dcc2e9283a",
   "metadata": {},
   "source": [
    "# Create BookChapter Metadata"
   ]
  },
  {
   "cell_type": "code",
   "execution_count": 32,
   "id": "146b68b2-7a4d-4035-bdfc-b0d004003021",
   "metadata": {},
   "outputs": [],
   "source": [
    "book_chapter_meta = pd.read_excel('data/BookChapter_Metadata.xlsx').fillna('')"
   ]
  },
  {
   "cell_type": "code",
   "execution_count": 33,
   "id": "445031d8-d6c2-4172-b37f-8178739c6b5f",
   "metadata": {},
   "outputs": [
    {
     "data": {
      "text/html": [
       "<div>\n",
       "<style scoped>\n",
       "    .dataframe tbody tr th:only-of-type {\n",
       "        vertical-align: middle;\n",
       "    }\n",
       "\n",
       "    .dataframe tbody tr th {\n",
       "        vertical-align: top;\n",
       "    }\n",
       "\n",
       "    .dataframe thead th {\n",
       "        text-align: right;\n",
       "    }\n",
       "</style>\n",
       "<table border=\"1\" class=\"dataframe\">\n",
       "  <thead>\n",
       "    <tr style=\"text-align: right;\">\n",
       "      <th></th>\n",
       "      <th>isbn</th>\n",
       "      <th>title</th>\n",
       "      <th>authors</th>\n",
       "      <th>year</th>\n",
       "      <th>publisher</th>\n",
       "      <th>link</th>\n",
       "    </tr>\n",
       "  </thead>\n",
       "  <tbody>\n",
       "    <tr>\n",
       "      <th>0</th>\n",
       "      <td>978-1-4987-6285-4</td>\n",
       "      <td>Cell Culture Bioprocess Engineering (Second Edition)</td>\n",
       "      <td>Wei-Shou Hu</td>\n",
       "      <td>2020</td>\n",
       "      <td>CRC PressTaylor &amp; Francis Group</td>\n",
       "      <td>https://www.routledge.com/Cell-Culture-Bioprocess-Engineering-Second-Edition/Hu/p/book/9781498762854</td>\n",
       "    </tr>\n",
       "  </tbody>\n",
       "</table>\n",
       "</div>"
      ],
      "text/plain": [
       "                isbn                                                 title  \\\n",
       "0  978-1-4987-6285-4  Cell Culture Bioprocess Engineering (Second Edition)   \n",
       "\n",
       "       authors  year                        publisher  \\\n",
       "0  Wei-Shou Hu  2020  CRC PressTaylor & Francis Group   \n",
       "\n",
       "                                                                                                   link  \n",
       "0  https://www.routledge.com/Cell-Culture-Bioprocess-Engineering-Second-Edition/Hu/p/book/9781498762854  "
      ]
     },
     "execution_count": 33,
     "metadata": {},
     "output_type": "execute_result"
    }
   ],
   "source": [
    "book_chapter_meta"
   ]
  },
  {
   "cell_type": "code",
   "execution_count": 34,
   "id": "b1bf03cf-cd73-41d1-a427-205bc5942c5d",
   "metadata": {
    "tags": []
   },
   "outputs": [
    {
     "data": {
      "text/html": [
       "<div>\n",
       "<style scoped>\n",
       "    .dataframe tbody tr th:only-of-type {\n",
       "        vertical-align: middle;\n",
       "    }\n",
       "\n",
       "    .dataframe tbody tr th {\n",
       "        vertical-align: top;\n",
       "    }\n",
       "\n",
       "    .dataframe thead th {\n",
       "        text-align: right;\n",
       "    }\n",
       "</style>\n",
       "<table border=\"1\" class=\"dataframe\">\n",
       "  <thead>\n",
       "    <tr style=\"text-align: right;\">\n",
       "      <th></th>\n",
       "      <th>n</th>\n",
       "    </tr>\n",
       "  </thead>\n",
       "  <tbody>\n",
       "    <tr>\n",
       "      <th>0</th>\n",
       "      <td>(year, isbn, link, publisher, title, authors)</td>\n",
       "    </tr>\n",
       "  </tbody>\n",
       "</table>\n",
       "</div>"
      ],
      "text/plain": [
       "                                               n\n",
       "0  (year, isbn, link, publisher, title, authors)"
      ]
     },
     "execution_count": 34,
     "metadata": {},
     "output_type": "execute_result"
    }
   ],
   "source": [
    "# Create BookChapter nodes\n",
    "gds.run_cypher('''\n",
    "               UNWIND $book_chapter_meta AS node\n",
    "               CALL apoc.merge.node ([\"BookChapter\"], {isbn: node.isbn, title: node.title, authors: node.authors, year: toInteger(node.year), publisher: node.publisher, link: node.link})\n",
    "               YIELD node as n \n",
    "               RETURN n\n",
    "              ''', {'book_chapter_meta': book_chapter_meta.to_dict('records')})"
   ]
  },
  {
   "cell_type": "code",
   "execution_count": 35,
   "id": "ee34c7c3-251f-4c81-8d59-06fba6859452",
   "metadata": {
    "tags": []
   },
   "outputs": [
    {
     "name": "stderr",
     "output_type": "stream",
     "text": [
      "2024-04-19 23:55:42 UD-Q3J7G7FQ7J-D root[35495] INFO {'severity': 'INFORMATION', 'description': 'If a part of a query contains multiple disconnected patterns, this will build a cartesian product between all those parts. This may produce a large amount of data and slow down query processing. While occasionally intended, it may often be possible to reformulate the query that avoids the use of this cross product, perhaps by adding a relationship between the different parts or by using OPTIONAL MATCH (identifier is: (t))', 'code': 'Neo.ClientNotification.Statement.CartesianProduct', 'position': {'column': 1, 'offset': 5, 'line': 2}, 'title': 'This query builds a cartesian product between disconnected patterns.', 'category': 'PERFORMANCE'}\n"
     ]
    },
    {
     "data": {
      "text/html": [
       "<div>\n",
       "<style scoped>\n",
       "    .dataframe tbody tr th:only-of-type {\n",
       "        vertical-align: middle;\n",
       "    }\n",
       "\n",
       "    .dataframe tbody tr th {\n",
       "        vertical-align: top;\n",
       "    }\n",
       "\n",
       "    .dataframe thead th {\n",
       "        text-align: right;\n",
       "    }\n",
       "</style>\n",
       "<table border=\"1\" class=\"dataframe\">\n",
       "  <thead>\n",
       "    <tr style=\"text-align: right;\">\n",
       "      <th></th>\n",
       "    </tr>\n",
       "  </thead>\n",
       "  <tbody>\n",
       "  </tbody>\n",
       "</table>\n",
       "</div>"
      ],
      "text/plain": [
       "Empty DataFrame\n",
       "Columns: []\n",
       "Index: []"
      ]
     },
     "execution_count": 35,
     "metadata": {},
     "output_type": "execute_result"
    }
   ],
   "source": [
    "# Link Textming nodes to BookChapter node\n",
    "gds.run_cypher('''\n",
    "    MATCH (b:BookChapter), (t:TextMining)\n",
    "    WHERE t.isbn is not null and b.isbn = t.isbn\n",
    "    MERGE (t)-[:IS_MENTIONED_IN]->(b)\n",
    "    ''')"
   ]
  },
  {
   "cell_type": "code",
   "execution_count": 43,
   "id": "c4e95116-acb9-42c5-b847-826371f13f70",
   "metadata": {
    "tags": []
   },
   "outputs": [
    {
     "data": {
      "text/html": [
       "<div>\n",
       "<style scoped>\n",
       "    .dataframe tbody tr th:only-of-type {\n",
       "        vertical-align: middle;\n",
       "    }\n",
       "\n",
       "    .dataframe tbody tr th {\n",
       "        vertical-align: top;\n",
       "    }\n",
       "\n",
       "    .dataframe thead th {\n",
       "        text-align: right;\n",
       "    }\n",
       "</style>\n",
       "<table border=\"1\" class=\"dataframe\">\n",
       "  <thead>\n",
       "    <tr style=\"text-align: right;\">\n",
       "      <th></th>\n",
       "    </tr>\n",
       "  </thead>\n",
       "  <tbody>\n",
       "  </tbody>\n",
       "</table>\n",
       "</div>"
      ],
      "text/plain": [
       "Empty DataFrame\n",
       "Columns: []\n",
       "Index: []"
      ]
     },
     "execution_count": 43,
     "metadata": {},
     "output_type": "execute_result"
    }
   ],
   "source": [
    "# Create contraint on Concept nodes\n",
    "gds.run_cypher('''CREATE CONSTRAINT article IF NOT EXISTS FOR (b:BookChapter) REQUIRE b.isbn IS UNIQUE''')"
   ]
  },
  {
   "cell_type": "markdown",
   "id": "4323ccbe-e7cd-4b86-945b-02a6f4db3e94",
   "metadata": {},
   "source": [
    "Check existing constraints"
   ]
  },
  {
   "cell_type": "code",
   "execution_count": 44,
   "id": "5234bfcb-0f20-48ed-82c8-ff48572c8852",
   "metadata": {
    "tags": []
   },
   "outputs": [
    {
     "data": {
      "text/html": [
       "<div>\n",
       "<style scoped>\n",
       "    .dataframe tbody tr th:only-of-type {\n",
       "        vertical-align: middle;\n",
       "    }\n",
       "\n",
       "    .dataframe tbody tr th {\n",
       "        vertical-align: top;\n",
       "    }\n",
       "\n",
       "    .dataframe thead th {\n",
       "        text-align: right;\n",
       "    }\n",
       "</style>\n",
       "<table border=\"1\" class=\"dataframe\">\n",
       "  <thead>\n",
       "    <tr style=\"text-align: right;\">\n",
       "      <th></th>\n",
       "      <th>id</th>\n",
       "      <th>name</th>\n",
       "      <th>type</th>\n",
       "      <th>entityType</th>\n",
       "      <th>labelsOrTypes</th>\n",
       "      <th>properties</th>\n",
       "      <th>ownedIndex</th>\n",
       "      <th>propertyType</th>\n",
       "    </tr>\n",
       "  </thead>\n",
       "  <tbody>\n",
       "    <tr>\n",
       "      <th>0</th>\n",
       "      <td>11</td>\n",
       "      <td>article</td>\n",
       "      <td>UNIQUENESS</td>\n",
       "      <td>NODE</td>\n",
       "      <td>[BookChapter]</td>\n",
       "      <td>[isbn]</td>\n",
       "      <td>article</td>\n",
       "      <td>None</td>\n",
       "    </tr>\n",
       "    <tr>\n",
       "      <th>1</th>\n",
       "      <td>5</td>\n",
       "      <td>dictionary_concept</td>\n",
       "      <td>UNIQUENESS</td>\n",
       "      <td>NODE</td>\n",
       "      <td>[DictionaryConcept]</td>\n",
       "      <td>[id]</td>\n",
       "      <td>dictionary_concept</td>\n",
       "      <td>None</td>\n",
       "    </tr>\n",
       "    <tr>\n",
       "      <th>2</th>\n",
       "      <td>2</td>\n",
       "      <td>ontological_concept</td>\n",
       "      <td>UNIQUENESS</td>\n",
       "      <td>NODE</td>\n",
       "      <td>[OntologicalConcept]</td>\n",
       "      <td>[id]</td>\n",
       "      <td>ontological_concept</td>\n",
       "      <td>None</td>\n",
       "    </tr>\n",
       "    <tr>\n",
       "      <th>3</th>\n",
       "      <td>8</td>\n",
       "      <td>text_mining</td>\n",
       "      <td>UNIQUENESS</td>\n",
       "      <td>NODE</td>\n",
       "      <td>[TextMining]</td>\n",
       "      <td>[id]</td>\n",
       "      <td>text_mining</td>\n",
       "      <td>None</td>\n",
       "    </tr>\n",
       "  </tbody>\n",
       "</table>\n",
       "</div>"
      ],
      "text/plain": [
       "   id                 name        type entityType         labelsOrTypes  \\\n",
       "0  11              article  UNIQUENESS       NODE         [BookChapter]   \n",
       "1   5   dictionary_concept  UNIQUENESS       NODE   [DictionaryConcept]   \n",
       "2   2  ontological_concept  UNIQUENESS       NODE  [OntologicalConcept]   \n",
       "3   8          text_mining  UNIQUENESS       NODE          [TextMining]   \n",
       "\n",
       "  properties           ownedIndex propertyType  \n",
       "0     [isbn]              article         None  \n",
       "1       [id]   dictionary_concept         None  \n",
       "2       [id]  ontological_concept         None  \n",
       "3       [id]          text_mining         None  "
      ]
     },
     "execution_count": 44,
     "metadata": {},
     "output_type": "execute_result"
    }
   ],
   "source": [
    "gds.run_cypher('''SHOW CONSTRAINTS''')"
   ]
  },
  {
   "cell_type": "code",
   "execution_count": 45,
   "id": "414eb0d0-b40f-45ef-a42c-e6e062fc649d",
   "metadata": {
    "tags": []
   },
   "outputs": [
    {
     "data": {
      "text/html": [
       "<div>\n",
       "<style scoped>\n",
       "    .dataframe tbody tr th:only-of-type {\n",
       "        vertical-align: middle;\n",
       "    }\n",
       "\n",
       "    .dataframe tbody tr th {\n",
       "        vertical-align: top;\n",
       "    }\n",
       "\n",
       "    .dataframe thead th {\n",
       "        text-align: right;\n",
       "    }\n",
       "</style>\n",
       "<table border=\"1\" class=\"dataframe\">\n",
       "  <thead>\n",
       "    <tr style=\"text-align: right;\">\n",
       "      <th></th>\n",
       "    </tr>\n",
       "  </thead>\n",
       "  <tbody>\n",
       "  </tbody>\n",
       "</table>\n",
       "</div>"
      ],
      "text/plain": [
       "Empty DataFrame\n",
       "Columns: []\n",
       "Index: []"
      ]
     },
     "execution_count": 45,
     "metadata": {},
     "output_type": "execute_result"
    }
   ],
   "source": [
    "# Create fulltext index on BookChapter nodes\n",
    "gds.run_cypher('''CREATE FULLTEXT INDEX article_search IF NOT EXISTS FOR (b:BookChapter) ON EACH [b.isbm, b.title, b.authors, b.year, b.publisher]''')"
   ]
  },
  {
   "cell_type": "code",
   "execution_count": 46,
   "id": "5c7e9320-7d19-4f34-8e69-c35502fcfc1c",
   "metadata": {
    "tags": []
   },
   "outputs": [
    {
     "data": {
      "text/html": [
       "<div>\n",
       "<style scoped>\n",
       "    .dataframe tbody tr th:only-of-type {\n",
       "        vertical-align: middle;\n",
       "    }\n",
       "\n",
       "    .dataframe tbody tr th {\n",
       "        vertical-align: top;\n",
       "    }\n",
       "\n",
       "    .dataframe thead th {\n",
       "        text-align: right;\n",
       "    }\n",
       "</style>\n",
       "<table border=\"1\" class=\"dataframe\">\n",
       "  <thead>\n",
       "    <tr style=\"text-align: right;\">\n",
       "      <th></th>\n",
       "      <th>file</th>\n",
       "      <th>batches</th>\n",
       "      <th>source</th>\n",
       "      <th>format</th>\n",
       "      <th>nodes</th>\n",
       "      <th>relationships</th>\n",
       "      <th>properties</th>\n",
       "      <th>time</th>\n",
       "      <th>rows</th>\n",
       "      <th>batchSize</th>\n",
       "      <th>cypherStatements</th>\n",
       "      <th>nodeStatements</th>\n",
       "      <th>relationshipStatements</th>\n",
       "      <th>schemaStatements</th>\n",
       "      <th>cleanupStatements</th>\n",
       "    </tr>\n",
       "  </thead>\n",
       "  <tbody>\n",
       "    <tr>\n",
       "      <th>0</th>\n",
       "      <td>kg_export_after_load_article.cypher</td>\n",
       "      <td>1</td>\n",
       "      <td>database: nodes(3418), rels(5926)</td>\n",
       "      <td>cypher</td>\n",
       "      <td>3418</td>\n",
       "      <td>5926</td>\n",
       "      <td>48212</td>\n",
       "      <td>377</td>\n",
       "      <td>9344</td>\n",
       "      <td>20000</td>\n",
       "      <td>None</td>\n",
       "      <td>None</td>\n",
       "      <td>None</td>\n",
       "      <td>None</td>\n",
       "      <td>None</td>\n",
       "    </tr>\n",
       "  </tbody>\n",
       "</table>\n",
       "</div>"
      ],
      "text/plain": [
       "                                  file  batches  \\\n",
       "0  kg_export_after_load_article.cypher        1   \n",
       "\n",
       "                              source  format  nodes  relationships  \\\n",
       "0  database: nodes(3418), rels(5926)  cypher   3418           5926   \n",
       "\n",
       "   properties  time  rows  batchSize cypherStatements nodeStatements  \\\n",
       "0       48212   377  9344      20000             None           None   \n",
       "\n",
       "  relationshipStatements schemaStatements cleanupStatements  \n",
       "0                   None             None              None  "
      ]
     },
     "execution_count": 46,
     "metadata": {},
     "output_type": "execute_result"
    }
   ],
   "source": [
    "# (optional) exports the whole database incl. indexes as cypher statements to the provided file\n",
    "gds.run_cypher('''CALL apoc.export.cypher.all('kg_export_after_load_bookchapter.cypher',{format:'cypher-shell'})''')"
   ]
  }
 ],
 "metadata": {
  "kernelspec": {
   "display_name": "Python 3 (ipykernel)",
   "language": "python",
   "name": "python3"
  },
  "language_info": {
   "codemirror_mode": {
    "name": "ipython",
    "version": 3
   },
   "file_extension": ".py",
   "mimetype": "text/x-python",
   "name": "python",
   "nbconvert_exporter": "python",
   "pygments_lexer": "ipython3",
   "version": "3.9.11"
  }
 },
 "nbformat": 4,
 "nbformat_minor": 5
}
