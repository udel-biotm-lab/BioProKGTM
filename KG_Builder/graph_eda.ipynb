{
 "cells": [
  {
   "cell_type": "markdown",
   "id": "485da00d-b687-4c10-aa5e-fb12608140b8",
   "metadata": {},
   "source": [
    "# Graph Exploratory Data Analysis\n",
    "\n",
    "This notebook performs graph exploratory data analysis and generate some graph statistics"
   ]
  },
  {
   "cell_type": "markdown",
   "id": "a4150f2e-de4a-41d9-a274-fec94fc0b418",
   "metadata": {},
   "source": [
    "## Import Libraries"
   ]
  },
  {
   "cell_type": "code",
   "execution_count": 328,
   "id": "3b03aa94-451a-4770-8a14-39728e13ade7",
   "metadata": {
    "tags": []
   },
   "outputs": [],
   "source": [
    "#import numpy as np\n",
    "import pandas as pd\n",
    "pd.set_option('display.max_columns', None)\n",
    "pd.set_option('display.max_rows', None)\n",
    "pd.set_option('display.max_colwidth', None)\n",
    "\n",
    "import matplotlib.pyplot as plt\n",
    "import seaborn as sns\n",
    "sns.set_style('darkgrid')\n",
    "sns.set_palette(\"colorblind\")\n",
    "sns.set(rc={'figure.figsize':(11,6)})\n",
    "\n",
    "import os \n",
    "import configparser\n",
    "import csv\n",
    "import hashlib"
   ]
  },
  {
   "cell_type": "code",
   "execution_count": 329,
   "id": "7db70fa5-fdb6-4f5a-bac2-b2d16b4720dc",
   "metadata": {},
   "outputs": [
    {
     "name": "stdout",
     "output_type": "stream",
     "text": [
      "Successfully imported GraphDataScience\n"
     ]
    }
   ],
   "source": [
    "# install or import Neo4j GraphDataScience library\n",
    "try: \n",
    "  from graphdatascience import GraphDataScience\n",
    "  print('Successfully imported GraphDataScience')\n",
    "except ModuleNotFoundError:\n",
    "  !pip3 install graphdatascience\n",
    "  from graphdatascience import GraphDataScience\n",
    "  print('installed and imported GraphDataScience')"
   ]
  },
  {
   "cell_type": "markdown",
   "id": "7b5c4ce0-2834-4162-97a7-6483528210ef",
   "metadata": {},
   "source": [
    "# Custom Functions"
   ]
  },
  {
   "cell_type": "code",
   "execution_count": 330,
   "id": "3b4bda5b-e838-4acb-b10e-e30fa1b4cec6",
   "metadata": {
    "tags": []
   },
   "outputs": [],
   "source": [
    "# function adapted from Neo4j GDS Fraud Demo Notebook (h/t Zach B.)\n",
    "def read_neo4j_properties(NEO4J_PROPERTIES_FILE: str=None) -> str:\n",
    "  '''Parses Neo4j database or Aura connection details from provided .ini filepath.\n",
    "  Requirements:\n",
    "    configparser\n",
    "\n",
    "  Args:\n",
    "    NEO4J_PROPERTIES_FILE: path to a .ini file\n",
    "  \n",
    "  Returns:\n",
    "    HOST: link to Neo4j or Aura host \n",
    "    USERNAME: login username\n",
    "    PASSWORD: login password \n",
    "\n",
    "  Note: The .ini file should use the following syntax\n",
    "    [NEO4J]\n",
    "    PASSWORD=<password>\n",
    "    USERNAME=<database name>\n",
    "    HOST=<host uri>\n",
    "\n",
    "  If no path is passed, the function will return the defaults:\n",
    "    HOST = 'neo4j://localhost'\n",
    "    USERNAME = 'neo4j'\n",
    "    PASSWORD = 'password'\n",
    "  '''\n",
    "\n",
    "  if NEO4J_PROPERTIES_FILE is not None and os.path.exists(NEO4J_PROPERTIES_FILE):\n",
    "      config = configparser.RawConfigParser()\n",
    "      config.read(NEO4J_PROPERTIES_FILE)\n",
    "      HOST = config['NEO4J']['HOST']\n",
    "      USERNAME = config['NEO4J']['USERNAME']\n",
    "      PASSWORD = config['NEO4J']['PASSWORD']\n",
    "      print('Using HOST, USERNAME, PASSWORD from .ini file')\n",
    "      return HOST, USERNAME, PASSWORD\n",
    "  else:\n",
    "      print('Could not find database properties file, using defaults:')\n",
    "      HOST = 'neo4j://localhost'\n",
    "      USERNAME = 'neo4j'\n",
    "      PASSWORD = 'password'\n",
    "      print(f'HOST: {HOST} \\nUSERHAME: {USERNAME} \\nPASSWORD: {PASSWORD}')\n",
    "      return HOST, USERNAME, PASSWORD \n",
    "    "
   ]
  },
  {
   "cell_type": "code",
   "execution_count": 331,
   "id": "3abcece8-8a42-490f-a48f-a956341b7d46",
   "metadata": {
    "tags": []
   },
   "outputs": [],
   "source": [
    "# function to generate graph statistics in terms of nodeCount, labelCount, propertyKeyCount, relationshipCount and relationshipType count\n",
    "def gen_graph_counts(df: pd.DataFrame) -> None:\n",
    "  '''return count columns from output of apoc.meta.stats()\n",
    "\n",
    "  Args:\n",
    "    df: dataframe containing output of apoc.meta.stats()\n",
    "\n",
    "  Returns:\n",
    "    print count columns to notebook \n",
    "  '''\n",
    "\n",
    "  print(summary_df[['nodeCount', 'labelCount', 'propertyKeyCount', 'relCount', 'relTypeCount']].transpose())"
   ]
  },
  {
   "cell_type": "code",
   "execution_count": 332,
   "id": "a4a44c73-6e48-412b-884c-e39f6809a3e0",
   "metadata": {
    "tags": []
   },
   "outputs": [],
   "source": [
    "# function to generate node label count\n",
    "def gen_nodeLabel_count(summary_df: pd.DataFrame) -> None:\n",
    "  '''import summary_df and return dataframe with node label count\n",
    "  args:\n",
    "    summary_df: dataframe returned from apoc.meta.stats()\n",
    "  \n",
    "  returns:\n",
    "    Nothing; will print the dataframe to the notebook\n",
    "  '''\n",
    "  # generate a new dataframe from the nested dictionary in the 'labels' column\n",
    "  labels_df = pd.DataFrame(summary_df['labels']['values'].items()).set_index(0)\n",
    "\n",
    "  # rename the index and column\n",
    "  labels_df.columns = ['nodeCount']\n",
    "  labels_df.index.rename('nodeLabel', inplace=True)\n",
    "\n",
    "  # sort by descending count \n",
    "  labels_df.sort_values(by='nodeCount', ascending=False, inplace=True)\n",
    "  print(labels_df)"
   ]
  },
  {
   "cell_type": "code",
   "execution_count": 333,
   "id": "807ef0ce-9356-40dc-8eeb-232c3cb8e5f7",
   "metadata": {
    "tags": []
   },
   "outputs": [],
   "source": [
    "# function to generate node property statistics\n",
    "def gen_nodeLabel_properties() -> None:\n",
    "  '''cypher call for properties; return node properties table\n",
    "  args:\n",
    "    None\n",
    "\n",
    "  returns:\n",
    "    Nothing; prints dataframe to notebook\n",
    "  '''\n",
    "  # query for nodeProperty schema dataframe \n",
    "  node_properties_df = gds.run_cypher('''CALL db.schema.nodeTypeProperties()''')\n",
    "\n",
    "  # remove extra text from nodeType column and sort\n",
    "  node_properties_df['nodeType'] = node_properties_df['nodeType'].str.replace('`', '')\n",
    "  node_properties_df['nodeType'] = node_properties_df['nodeType'].str.replace(':', '', 1)\n",
    "  node_properties_df['nodeType'] = node_properties_df['nodeType'].str.replace(':', '|')\n",
    "  node_properties_df.sort_values(by=['nodeType', 'propertyName'], inplace=True)\n",
    "\n",
    "  # view dimensions \n",
    "  print(node_properties_df)"
   ]
  },
  {
   "cell_type": "code",
   "execution_count": 334,
   "id": "b9589aea-8ff8-4401-8289-e73d5bba97f2",
   "metadata": {
    "tags": []
   },
   "outputs": [],
   "source": [
    "# function to generate graph relationship patterns.\n",
    "def gen_graph_rel_patterns(summary_df: pd.DataFrame) -> None:\n",
    "  '''generate list of graph relationship patterns from apoc.meta.stats()\n",
    "  '''\n",
    "  # extract nested dictionary into a dataframe \n",
    "  graphPatterns_df = pd.DataFrame(summary_df['relTypes']['values'].items())\n",
    "\n",
    "  # # rename columns and set an index \n",
    "  graphPatterns_df.rename(columns = {0: 'relPattern', 1:'relCount'}, inplace=True)\n",
    "  graphPatterns_df.set_index('relPattern', inplace=True)\n",
    "\n",
    "  # sort descending\n",
    "  graphPatterns_df.sort_values(by=['relCount', 'relPattern'], ascending=False, inplace=True)\n",
    "\n",
    "  print(graphPatterns_df)"
   ]
  },
  {
   "cell_type": "code",
   "execution_count": 335,
   "id": "57acb86c-066a-4f2a-a189-d591abe79297",
   "metadata": {
    "tags": []
   },
   "outputs": [],
   "source": [
    "# function to genereate relationship type count\n",
    "def gen_relType_count(summary_df: pd.DataFrame) -> None:\n",
    "  '''generate relationship type count from apoc.meta.stats()\n",
    "  inputs:\n",
    "    summary_df: output from apoc.meta.stats()\n",
    "  '''\n",
    "  # generate a new dataframe from the nested dictionary in the 'labels' column\n",
    "  relTypes_df = pd.DataFrame(summary_df['relTypesCount']['values'].items()).set_index(0)\n",
    "\n",
    "  # rename the index and column\n",
    "  relTypes_df.columns = ['relCount']\n",
    "  relTypes_df.index.rename('relType', inplace=True)\n",
    "\n",
    "  # sort by descending count \n",
    "  relTypes_df.sort_values(by='relCount', ascending=False, inplace=True)\n",
    "  print(relTypes_df)"
   ]
  },
  {
   "cell_type": "code",
   "execution_count": 336,
   "id": "8ad51984-1b80-4307-b743-9f32a6795070",
   "metadata": {
    "tags": []
   },
   "outputs": [],
   "source": [
    "# function to generate relationship properties\n",
    "def gen_relType_properties() -> None:\n",
    "  '''generate and print table of relationship properties\n",
    "  inputs:\n",
    "    None\n",
    "\n",
    "  outputs:\n",
    "    None; prints table to notebook\n",
    "  '''\n",
    "  # query for schema dataframe \n",
    "  rel_properties_df = gds.run_cypher('''CALL db.schema.relTypeProperties()''')\n",
    "\n",
    "  # remove extra text from nodeType column\n",
    "  rel_properties_df['relType'] = rel_properties_df['relType'].str.replace('`', '')\n",
    "  rel_properties_df['relType'] = rel_properties_df['relType'].str.replace(':', '')\n",
    "\n",
    "  # view dimensions \n",
    "  print(rel_properties_df.sort_values(by='relType', ascending=True))"
   ]
  },
  {
   "cell_type": "code",
   "execution_count": 337,
   "id": "534fc1f5-e764-4cdd-ac4c-cf353983967a",
   "metadata": {
    "tags": []
   },
   "outputs": [],
   "source": [
    "# function to generate statistics from an array of node degree values\n",
    "def gen_apoc_stats(df: pd.DataFrame, col: str) -> None:\n",
    "  '''generate statistics from an array of node degree values\n",
    "  inputs:\n",
    "    df: dataframe containing the degree values\n",
    "    col: df column to perform the calculation on\n",
    "  '''\n",
    "  return round(df[col].describe(percentiles=[.25, .5, .75, .9, .95, .99]), 2)"
   ]
  },
  {
   "cell_type": "markdown",
   "id": "b46d1b55-bc72-4eb0-be33-a79344aea66b",
   "metadata": {},
   "source": [
    "# Connect to Neo4j DB\n",
    "It is recommended to store authentication credentials in a separate file and read them in to the notebook as variables. This code assumes the files are stored in a local auth directory."
   ]
  },
  {
   "cell_type": "code",
   "execution_count": 338,
   "id": "810cd43b-0b3a-4354-9409-ea3728a86d1d",
   "metadata": {
    "tags": []
   },
   "outputs": [
    {
     "name": "stdout",
     "output_type": "stream",
     "text": [
      "Using HOST, USERNAME, PASSWORD from .ini file\n"
     ]
    }
   ],
   "source": [
    "# get authentication credentials from local auth file\n",
    "NEO4J_PROPERTIES_FILE = 'auth/immerse_kg_auth.ini'\n",
    "HOST, USERNAME, PASSWORD = read_neo4j_properties(NEO4J_PROPERTIES_FILE=NEO4J_PROPERTIES_FILE)"
   ]
  },
  {
   "cell_type": "code",
   "execution_count": 339,
   "id": "84b8d0f5-2ae0-4b06-9646-846fed660e77",
   "metadata": {
    "tags": []
   },
   "outputs": [],
   "source": [
    "# connect to neo4j instance \n",
    "gds = GraphDataScience(HOST, auth=(USERNAME, PASSWORD), aura_ds=False)"
   ]
  },
  {
   "cell_type": "code",
   "execution_count": 340,
   "id": "5e21483a-1f3e-45fa-bb98-18c0ba1fed91",
   "metadata": {
    "tags": []
   },
   "outputs": [
    {
     "data": {
      "text/plain": [
       "'2.5.2'"
      ]
     },
     "execution_count": 340,
     "metadata": {},
     "output_type": "execute_result"
    }
   ],
   "source": [
    "# confirm connection with GDS version \n",
    "gds.version()"
   ]
  },
  {
   "cell_type": "markdown",
   "id": "33aa6444-c627-41f7-988a-224ea26a3bdf",
   "metadata": {},
   "source": [
    "# High-Level Graph Database overview"
   ]
  },
  {
   "cell_type": "markdown",
   "id": "46e08fa1-bd9b-402a-93ff-42c8d554a3b3",
   "metadata": {},
   "source": [
    "## View Graph Database Schema in Browser\n",
    "* There is no one 'right way' to perform Exploratory Data Analysis (EDA) on a data set and Graph EDA is an emerging area of Graph Data Science (GDS) with few established best practices. \n",
    "* Neo4j has multiple tools available and we want to use any and all of them that can be most beneficial.\n",
    "* It is always recommended to call `CALL db.schema.visualization()` on the data from the Neo4j Browser to view the data model. It will not render if called from the Python GDS client.\n",
    "  * At a minimum, review the schema and confirm it passes the *common sense test* especially if you loaded the data manually. \n",
    "  * If possible, compare it to an expected model as well to identify any potential errors or other data schema issues. "
   ]
  },
  {
   "cell_type": "markdown",
   "id": "1f9562ea-4a70-46f7-8ddf-2c13f04e28f8",
   "metadata": {},
   "source": [
    "## Data Summary\n",
    "Calling `apoc.meta.stats()` will yield an output (or in this case, a DataFrame) containing several high level statistics about the contents of our graph database.  \n",
    "\n",
    "There are multiple ways we can work with this data, either in Python itself or through multiple Cypher calls to the database. However it may be preferrable for some to make one Cypher call to the database and then work with the returned DataFrame."
   ]
  },
  {
   "cell_type": "code",
   "execution_count": 341,
   "id": "0641d2c6-1e7e-4d59-b10e-b6e6412d1cb3",
   "metadata": {
    "tags": []
   },
   "outputs": [
    {
     "data": {
      "text/plain": [
       "(1, 9)"
      ]
     },
     "execution_count": 341,
     "metadata": {},
     "output_type": "execute_result"
    }
   ],
   "source": [
    "# return full dataframe of summary data \n",
    "summary_df = gds.run_cypher('''\n",
    "                            CALL apoc.meta.stats()\n",
    "                            YIELD *\n",
    "                            ''')\n",
    "\n",
    "# set a named index, rather than the default 0\n",
    "summary_df.index = ['values']\n",
    "\n",
    "# view dimensions of dataframe\n",
    "summary_df.shape"
   ]
  },
  {
   "cell_type": "markdown",
   "id": "123c527a-cd43-4644-ac43-b42a1b500ae7",
   "metadata": {},
   "source": [
    "## Summary Statistics"
   ]
  },
  {
   "cell_type": "code",
   "execution_count": 342,
   "id": "105b8fb1-18a6-4e0b-b90c-2f4e87625722",
   "metadata": {
    "tags": []
   },
   "outputs": [
    {
     "data": {
      "text/html": [
       "<div>\n",
       "<style scoped>\n",
       "    .dataframe tbody tr th:only-of-type {\n",
       "        vertical-align: middle;\n",
       "    }\n",
       "\n",
       "    .dataframe tbody tr th {\n",
       "        vertical-align: top;\n",
       "    }\n",
       "\n",
       "    .dataframe thead th {\n",
       "        text-align: right;\n",
       "    }\n",
       "</style>\n",
       "<table border=\"1\" class=\"dataframe\">\n",
       "  <thead>\n",
       "    <tr style=\"text-align: right;\">\n",
       "      <th></th>\n",
       "      <th>labelCount</th>\n",
       "      <th>relTypeCount</th>\n",
       "      <th>propertyKeyCount</th>\n",
       "      <th>nodeCount</th>\n",
       "      <th>relCount</th>\n",
       "      <th>labels</th>\n",
       "      <th>relTypes</th>\n",
       "      <th>relTypesCount</th>\n",
       "      <th>stats</th>\n",
       "    </tr>\n",
       "  </thead>\n",
       "  <tbody>\n",
       "    <tr>\n",
       "      <th>values</th>\n",
       "      <td>7</td>\n",
       "      <td>12</td>\n",
       "      <td>40</td>\n",
       "      <td>3507</td>\n",
       "      <td>8016</td>\n",
       "      <td>{'OntologicalConcept': 66, 'Effector': 1292, 'TextMining': 2713, 'DictionaryConcept': 638, 'BookChapter': 1, 'Affected': 1420, 'Article': 89}</td>\n",
       "      <td>{'(:TextMining)-[:NEGATIVELY_CORRELATED]-&gt;()': 194, '()-[:POSITIVELY_CORRELATED]-&gt;(:Affected)': 420, '()-[:CORRELATED_NOT_SPECIFIED]-&gt;(:TextMining)': 1241, '(:Affected)-[:HAS_CANONICAL_NAME]-&gt;()': 1419, '(:OntologicalConcept)-[:IS_OBJECT_OF_CATALYST]-&gt;()': 1, '(:OntologicalConcept)-[:SUB_CLASS_OF]-&gt;()': 47, '()-[:CORRELATED_NOT_SPECIFIED]-&gt;(:Affected)': 1240, '()-[:IS_MENTIONED_IN]-&gt;(:Article)': 2106, '(:Effector)-[:POSITIVELY_CORRELATED]-&gt;()': 420, '()-[:HAS_CANONICAL_NAME]-&gt;()': 2710, '()-[:IS_OBJECT_OF_CATALYST]-&gt;(:OntologicalConcept)': 1, '(:Effector)-[:NOT_CORRELATED]-&gt;()': 55, '()-[:IS_CATALYST_OF]-&gt;(:OntologicalConcept)': 1, '(:OntologicalConcept)-[:IS_CATALYST_OF]-&gt;()': 1, '()-[:IS_RESULT_OF]-&gt;()': 1, '()-[:NOT_CORRELATED]-&gt;(:Affected)': 55, '()-[:NEGATIVELY_CORRELATED]-&gt;(:TextMining)': 194, '()-[:IS_OBJECT_OF_CATALYST]-&gt;()': 1, '()-[:POSITIVELY_CORRELATED]-&gt;(:TextMining)': 420, '(:DictionaryConcept)-[:IS_INSTANCE_OF]-&gt;()': 632, '(:OntologicalConcept)-[:PLAY_ROLE_OF]-&gt;()': 1, '(:Effector)-[:CORRELATED_NOT_SPECIFIED]-&gt;()': 1241, '()-[:NOT_CORRELATED]-&gt;(:TextMining)': 55, '()-[:IS_MENTIONED_IN]-&gt;()': 2713, '(:Affected)-[:IS_MENTIONED_IN]-&gt;()': 1420, '()-[:SUB_CLASS_OF]-&gt;(:OntologicalConcept)': 47, '()-[:PLAY_ROLE_OF]-&gt;(:OntologicalConcept)': 1, '()-[:IS_CATALYST_OF]-&gt;()': 1, '()-[:POSITIVELY_CORRELATED]-&gt;()': 420, '(:Effector)-[:NEGATIVELY_CORRELATED]-&gt;()': 194, '()-[:NEGATIVELY_CORRELATED]-&gt;(:Affected)': 194, '()-[:CORRELATED_NOT_SPECIFIED]-&gt;()': 1241, '(:TextMining)-[:NOT_CORRELATED]-&gt;()': 55, '()-[:IS_MENTIONED_IN]-&gt;(:BookChapter)': 607, '(:Effector)-[:HAS_CANONICAL_NAME]-&gt;()': 1291, '(:TextMining)-[:CORRELATED_NOT_SPECIFIED]-&gt;()': 1241, '()-[:IS_INSTANCE_OF]-&gt;(:OntologicalConcept)': 632, '(:Effector)-[:IS_MENTIONED_IN]-&gt;()': 1292, '()-[:IS_INSTANCE_OF]-&gt;()': 632, '(:TextMining)-[:IS_MENTIONED_IN]-&gt;()': 2713, '()-[:NOT_CORRELATED]-&gt;()': 55, '(:OntologicalConcept)-[:IS_RESULT_OF]-&gt;()': 1, '(:TextMining)-[:HAS_CANONICAL_NAME]-&gt;()': 2710, '()-[:SUB_CLASS_OF]-&gt;()': 47, '()-[:NEGATIVELY_CORRELATED]-&gt;()': 194, '()-[:PLAY_ROLE_OF]-&gt;()': 1, '()-[:IS_RESULT_OF]-&gt;(:OntologicalConcept)': 1, '(:TextMining)-[:POSITIVELY_CORRELATED]-&gt;()': 420, '()-[:HAS_CANONICAL_NAME]-&gt;(:DictionaryConcept)': 2710}</td>\n",
       "      <td>{'NOT_CORRELATED': 55, 'IS_OBJECT_OF_CATALYST': 1, 'HAS_CANONICAL_NAME': 2710, 'NEGATIVELY_CORRELATED': 194, 'IS_MENTIONED_IN': 2713, 'IS_INSTANCE_OF': 632, 'PLAY_ROLE_OF': 1, 'IS_RESULT_OF': 1, 'CORRELATED_NOT_SPECIFIED': 1241, 'IS_CATALYST_OF': 1, 'POSITIVELY_CORRELATED': 420, 'SUB_CLASS_OF': 47}</td>\n",
       "      <td>{'relTypeCount': 12, 'labelCount': 7, 'relTypes': {'(:TextMining)-[:NEGATIVELY_CORRELATED]-&gt;()': 194, '()-[:POSITIVELY_CORRELATED]-&gt;(:Affected)': 420, '()-[:CORRELATED_NOT_SPECIFIED]-&gt;(:TextMining)': 1241, '(:Affected)-[:HAS_CANONICAL_NAME]-&gt;()': 1419, '(:OntologicalConcept)-[:IS_OBJECT_OF_CATALYST]-&gt;()': 1, '(:OntologicalConcept)-[:SUB_CLASS_OF]-&gt;()': 47, '()-[:CORRELATED_NOT_SPECIFIED]-&gt;(:Affected)': 1240, '()-[:IS_MENTIONED_IN]-&gt;(:Article)': 2106, '(:Effector)-[:POSITIVELY_CORRELATED]-&gt;()': 420, '()-[:HAS_CANONICAL_NAME]-&gt;()': 2710, '()-[:IS_OBJECT_OF_CATALYST]-&gt;(:OntologicalConcept)': 1, '(:Effector)-[:NOT_CORRELATED]-&gt;()': 55, '()-[:IS_CATALYST_OF]-&gt;(:OntologicalConcept)': 1, '(:OntologicalConcept)-[:IS_CATALYST_OF]-&gt;()': 1, '()-[:IS_RESULT_OF]-&gt;()': 1, '()-[:NOT_CORRELATED]-&gt;(:Affected)': 55, '()-[:NEGATIVELY_CORRELATED]-&gt;(:TextMining)': 194, '()-[:IS_OBJECT_OF_CATALYST]-&gt;()': 1, '()-[:POSITIVELY_CORRELATED]-&gt;(:TextMining)': 420, '(:DictionaryConcept)-[:IS_INSTANCE_OF]-&gt;()': 632, '(:OntologicalConcept)-[:PLAY_ROLE_OF]-&gt;()': 1, '(:Effector)-[:CORRELATED_NOT_SPECIFIED]-&gt;()': 1241, '()-[:NOT_CORRELATED]-&gt;(:TextMining)': 55, '()-[:IS_MENTIONED_IN]-&gt;()': 2713, '(:Affected)-[:IS_MENTIONED_IN]-&gt;()': 1420, '()-[:SUB_CLASS_OF]-&gt;(:OntologicalConcept)': 47, '()-[:PLAY_ROLE_OF]-&gt;(:OntologicalConcept)': 1, '()-[:IS_CATALYST_OF]-&gt;()': 1, '()-[:POSITIVELY_CORRELATED]-&gt;()': 420, '(:Effector)-[:NEGATIVELY_CORRELATED]-&gt;()': 194, '()-[:NEGATIVELY_CORRELATED]-&gt;(:Affected)': 194, '()-[:CORRELATED_NOT_SPECIFIED]-&gt;()': 1241, '(:TextMining)-[:NOT_CORRELATED]-&gt;()': 55, '()-[:IS_MENTIONED_IN]-&gt;(:BookChapter)': 607, '(:Effector)-[:HAS_CANONICAL_NAME]-&gt;()': 1291, '(:TextMining)-[:CORRELATED_NOT_SPECIFIED]-&gt;()': 1241, '()-[:IS_INSTANCE_OF]-&gt;(:OntologicalConcept)': 632, '(:Effector)-[:IS_MENTIONED_IN]-&gt;()': 1292, '()-[:IS_INSTANCE_OF]-&gt;()': 632, '(:TextMining)-[:IS_MENTIONED_IN]-&gt;()': 2713, '()-[:NOT_CORRELATED]-&gt;()': 55, '(:OntologicalConcept)-[:IS_RESULT_OF]-&gt;()': 1, '(:TextMining)-[:HAS_CANONICAL_NAME]-&gt;()': 2710, '()-[:SUB_CLASS_OF]-&gt;()': 47, '()-[:NEGATIVELY_CORRELATED]-&gt;()': 194, '()-[:PLAY_ROLE_OF]-&gt;()': 1, '()-[:IS_RESULT_OF]-&gt;(:OntologicalConcept)': 1, '(:TextMining)-[:POSITIVELY_CORRELATED]-&gt;()': 420, '()-[:HAS_CANONICAL_NAME]-&gt;(:DictionaryConcept)': 2710}, 'relCount': 8016, 'labels': {'OntologicalConcept': 66, 'Effector': 1292, 'TextMining': 2713, 'DictionaryConcept': 638, 'BookChapter': 1, 'Affected': 1420, 'Article': 89}, 'propertyKeyCount': 40, 'nodeCount': 3507}</td>\n",
       "    </tr>\n",
       "  </tbody>\n",
       "</table>\n",
       "</div>"
      ],
      "text/plain": [
       "        labelCount  relTypeCount  propertyKeyCount  nodeCount  relCount  \\\n",
       "values           7            12                40       3507      8016   \n",
       "\n",
       "                                                                                                                                               labels  \\\n",
       "values  {'OntologicalConcept': 66, 'Effector': 1292, 'TextMining': 2713, 'DictionaryConcept': 638, 'BookChapter': 1, 'Affected': 1420, 'Article': 89}   \n",
       "\n",
       "                                                                                                                                                                                                                                                                                                                                                                                                                                                                                                                                                                                                                                                                                                                                                                                                                                                                                                                                                                                                                                                                                                                                                                                                                                                                                                                                                                                                                                                                                                                                                                                                                                                                                                                                                                                                                                                                                                                                                                                                                                                                                                                                                                                                                                                                                                                        relTypes  \\\n",
       "values  {'(:TextMining)-[:NEGATIVELY_CORRELATED]->()': 194, '()-[:POSITIVELY_CORRELATED]->(:Affected)': 420, '()-[:CORRELATED_NOT_SPECIFIED]->(:TextMining)': 1241, '(:Affected)-[:HAS_CANONICAL_NAME]->()': 1419, '(:OntologicalConcept)-[:IS_OBJECT_OF_CATALYST]->()': 1, '(:OntologicalConcept)-[:SUB_CLASS_OF]->()': 47, '()-[:CORRELATED_NOT_SPECIFIED]->(:Affected)': 1240, '()-[:IS_MENTIONED_IN]->(:Article)': 2106, '(:Effector)-[:POSITIVELY_CORRELATED]->()': 420, '()-[:HAS_CANONICAL_NAME]->()': 2710, '()-[:IS_OBJECT_OF_CATALYST]->(:OntologicalConcept)': 1, '(:Effector)-[:NOT_CORRELATED]->()': 55, '()-[:IS_CATALYST_OF]->(:OntologicalConcept)': 1, '(:OntologicalConcept)-[:IS_CATALYST_OF]->()': 1, '()-[:IS_RESULT_OF]->()': 1, '()-[:NOT_CORRELATED]->(:Affected)': 55, '()-[:NEGATIVELY_CORRELATED]->(:TextMining)': 194, '()-[:IS_OBJECT_OF_CATALYST]->()': 1, '()-[:POSITIVELY_CORRELATED]->(:TextMining)': 420, '(:DictionaryConcept)-[:IS_INSTANCE_OF]->()': 632, '(:OntologicalConcept)-[:PLAY_ROLE_OF]->()': 1, '(:Effector)-[:CORRELATED_NOT_SPECIFIED]->()': 1241, '()-[:NOT_CORRELATED]->(:TextMining)': 55, '()-[:IS_MENTIONED_IN]->()': 2713, '(:Affected)-[:IS_MENTIONED_IN]->()': 1420, '()-[:SUB_CLASS_OF]->(:OntologicalConcept)': 47, '()-[:PLAY_ROLE_OF]->(:OntologicalConcept)': 1, '()-[:IS_CATALYST_OF]->()': 1, '()-[:POSITIVELY_CORRELATED]->()': 420, '(:Effector)-[:NEGATIVELY_CORRELATED]->()': 194, '()-[:NEGATIVELY_CORRELATED]->(:Affected)': 194, '()-[:CORRELATED_NOT_SPECIFIED]->()': 1241, '(:TextMining)-[:NOT_CORRELATED]->()': 55, '()-[:IS_MENTIONED_IN]->(:BookChapter)': 607, '(:Effector)-[:HAS_CANONICAL_NAME]->()': 1291, '(:TextMining)-[:CORRELATED_NOT_SPECIFIED]->()': 1241, '()-[:IS_INSTANCE_OF]->(:OntologicalConcept)': 632, '(:Effector)-[:IS_MENTIONED_IN]->()': 1292, '()-[:IS_INSTANCE_OF]->()': 632, '(:TextMining)-[:IS_MENTIONED_IN]->()': 2713, '()-[:NOT_CORRELATED]->()': 55, '(:OntologicalConcept)-[:IS_RESULT_OF]->()': 1, '(:TextMining)-[:HAS_CANONICAL_NAME]->()': 2710, '()-[:SUB_CLASS_OF]->()': 47, '()-[:NEGATIVELY_CORRELATED]->()': 194, '()-[:PLAY_ROLE_OF]->()': 1, '()-[:IS_RESULT_OF]->(:OntologicalConcept)': 1, '(:TextMining)-[:POSITIVELY_CORRELATED]->()': 420, '()-[:HAS_CANONICAL_NAME]->(:DictionaryConcept)': 2710}   \n",
       "\n",
       "                                                                                                                                                                                                                                                                                                      relTypesCount  \\\n",
       "values  {'NOT_CORRELATED': 55, 'IS_OBJECT_OF_CATALYST': 1, 'HAS_CANONICAL_NAME': 2710, 'NEGATIVELY_CORRELATED': 194, 'IS_MENTIONED_IN': 2713, 'IS_INSTANCE_OF': 632, 'PLAY_ROLE_OF': 1, 'IS_RESULT_OF': 1, 'CORRELATED_NOT_SPECIFIED': 1241, 'IS_CATALYST_OF': 1, 'POSITIVELY_CORRELATED': 420, 'SUB_CLASS_OF': 47}   \n",
       "\n",
       "                                                                                                                                                                                                                                                                                                                                                                                                                                                                                                                                                                                                                                                                                                                                                                                                                                                                                                                                                                                                                                                                                                                                                                                                                                                                                                                                                                                                                                                                                                                                                                                                                                                                                                                                                                                                                                                                                                                                                                                                                                                                                                                                                                                                                                                                                                                                                                                                                                                                                                                                                                                                    stats  \n",
       "values  {'relTypeCount': 12, 'labelCount': 7, 'relTypes': {'(:TextMining)-[:NEGATIVELY_CORRELATED]->()': 194, '()-[:POSITIVELY_CORRELATED]->(:Affected)': 420, '()-[:CORRELATED_NOT_SPECIFIED]->(:TextMining)': 1241, '(:Affected)-[:HAS_CANONICAL_NAME]->()': 1419, '(:OntologicalConcept)-[:IS_OBJECT_OF_CATALYST]->()': 1, '(:OntologicalConcept)-[:SUB_CLASS_OF]->()': 47, '()-[:CORRELATED_NOT_SPECIFIED]->(:Affected)': 1240, '()-[:IS_MENTIONED_IN]->(:Article)': 2106, '(:Effector)-[:POSITIVELY_CORRELATED]->()': 420, '()-[:HAS_CANONICAL_NAME]->()': 2710, '()-[:IS_OBJECT_OF_CATALYST]->(:OntologicalConcept)': 1, '(:Effector)-[:NOT_CORRELATED]->()': 55, '()-[:IS_CATALYST_OF]->(:OntologicalConcept)': 1, '(:OntologicalConcept)-[:IS_CATALYST_OF]->()': 1, '()-[:IS_RESULT_OF]->()': 1, '()-[:NOT_CORRELATED]->(:Affected)': 55, '()-[:NEGATIVELY_CORRELATED]->(:TextMining)': 194, '()-[:IS_OBJECT_OF_CATALYST]->()': 1, '()-[:POSITIVELY_CORRELATED]->(:TextMining)': 420, '(:DictionaryConcept)-[:IS_INSTANCE_OF]->()': 632, '(:OntologicalConcept)-[:PLAY_ROLE_OF]->()': 1, '(:Effector)-[:CORRELATED_NOT_SPECIFIED]->()': 1241, '()-[:NOT_CORRELATED]->(:TextMining)': 55, '()-[:IS_MENTIONED_IN]->()': 2713, '(:Affected)-[:IS_MENTIONED_IN]->()': 1420, '()-[:SUB_CLASS_OF]->(:OntologicalConcept)': 47, '()-[:PLAY_ROLE_OF]->(:OntologicalConcept)': 1, '()-[:IS_CATALYST_OF]->()': 1, '()-[:POSITIVELY_CORRELATED]->()': 420, '(:Effector)-[:NEGATIVELY_CORRELATED]->()': 194, '()-[:NEGATIVELY_CORRELATED]->(:Affected)': 194, '()-[:CORRELATED_NOT_SPECIFIED]->()': 1241, '(:TextMining)-[:NOT_CORRELATED]->()': 55, '()-[:IS_MENTIONED_IN]->(:BookChapter)': 607, '(:Effector)-[:HAS_CANONICAL_NAME]->()': 1291, '(:TextMining)-[:CORRELATED_NOT_SPECIFIED]->()': 1241, '()-[:IS_INSTANCE_OF]->(:OntologicalConcept)': 632, '(:Effector)-[:IS_MENTIONED_IN]->()': 1292, '()-[:IS_INSTANCE_OF]->()': 632, '(:TextMining)-[:IS_MENTIONED_IN]->()': 2713, '()-[:NOT_CORRELATED]->()': 55, '(:OntologicalConcept)-[:IS_RESULT_OF]->()': 1, '(:TextMining)-[:HAS_CANONICAL_NAME]->()': 2710, '()-[:SUB_CLASS_OF]->()': 47, '()-[:NEGATIVELY_CORRELATED]->()': 194, '()-[:PLAY_ROLE_OF]->()': 1, '()-[:IS_RESULT_OF]->(:OntologicalConcept)': 1, '(:TextMining)-[:POSITIVELY_CORRELATED]->()': 420, '()-[:HAS_CANONICAL_NAME]->(:DictionaryConcept)': 2710}, 'relCount': 8016, 'labels': {'OntologicalConcept': 66, 'Effector': 1292, 'TextMining': 2713, 'DictionaryConcept': 638, 'BookChapter': 1, 'Affected': 1420, 'Article': 89}, 'propertyKeyCount': 40, 'nodeCount': 3507}  "
      ]
     },
     "execution_count": 342,
     "metadata": {},
     "output_type": "execute_result"
    }
   ],
   "source": [
    "summary_df"
   ]
  },
  {
   "cell_type": "markdown",
   "id": "ff0a7b12-4a27-418e-ad77-db179ac16370",
   "metadata": {},
   "source": [
    "## Graph Value Counts"
   ]
  },
  {
   "cell_type": "code",
   "execution_count": 343,
   "id": "8bc446e1-26c6-4868-a449-9dff391b5e7c",
   "metadata": {
    "tags": []
   },
   "outputs": [
    {
     "name": "stdout",
     "output_type": "stream",
     "text": [
      "                  values\n",
      "nodeCount           3507\n",
      "labelCount             7\n",
      "propertyKeyCount      40\n",
      "relCount            8016\n",
      "relTypeCount          12\n"
     ]
    }
   ],
   "source": [
    "# use function defined above\n",
    "gen_graph_counts(df=summary_df)"
   ]
  },
  {
   "cell_type": "markdown",
   "id": "952e06e8-abf7-4262-b872-537e9055a963",
   "metadata": {},
   "source": [
    "# Nodes"
   ]
  },
  {
   "cell_type": "markdown",
   "id": "6880cbe7-cfb5-4518-98a1-6383c62da069",
   "metadata": {},
   "source": [
    "## Node Label Count"
   ]
  },
  {
   "cell_type": "code",
   "execution_count": 344,
   "id": "fee49d1a-7c69-4f51-89d8-cefe6d71f48d",
   "metadata": {
    "tags": []
   },
   "outputs": [
    {
     "name": "stdout",
     "output_type": "stream",
     "text": [
      "                    nodeCount\n",
      "nodeLabel                    \n",
      "TextMining               2713\n",
      "Affected                 1420\n",
      "Effector                 1292\n",
      "DictionaryConcept         638\n",
      "Article                    89\n",
      "OntologicalConcept         66\n",
      "BookChapter                 1\n"
     ]
    }
   ],
   "source": [
    "# use function defined above\n",
    "gen_nodeLabel_count(summary_df=summary_df)"
   ]
  },
  {
   "cell_type": "markdown",
   "id": "04967ac9-7e3b-4bed-9490-427a9f81bb65",
   "metadata": {},
   "source": [
    "## Node Label Properties"
   ]
  },
  {
   "cell_type": "code",
   "execution_count": 345,
   "id": "354f3a07-12f9-4a5f-9825-5ca372a89c12",
   "metadata": {
    "tags": []
   },
   "outputs": [
    {
     "name": "stdout",
     "output_type": "stream",
     "text": [
      "               nodeType              nodeLabels    propertyName propertyTypes  \\\n",
      "38  Affected|TextMining  [Affected, TextMining]        arg_type      [String]   \n",
      "39  Affected|TextMining  [Affected, TextMining]            base      [String]   \n",
      "44  Affected|TextMining  [Affected, TextMining]            coid      [String]   \n",
      "47  Affected|TextMining  [Affected, TextMining]          doc_id      [String]   \n",
      "48  Affected|TextMining  [Affected, TextMining]     doc_id_type      [String]   \n",
      "33  Affected|TextMining  [Affected, TextMining]            head      [String]   \n",
      "32  Affected|TextMining  [Affected, TextMining]              id      [String]   \n",
      "46  Affected|TextMining  [Affected, TextMining]            isbn      [String]   \n",
      "40  Affected|TextMining  [Affected, TextMining]            kgDC      [Double]   \n",
      "43  Affected|TextMining  [Affected, TextMining]      kgPageRank      [Double]   \n",
      "42  Affected|TextMining  [Affected, TextMining]           kgScc        [Long]   \n",
      "41  Affected|TextMining  [Affected, TextMining]           kgWcc        [Long]   \n",
      "34  Affected|TextMining  [Affected, TextMining]              np      [String]   \n",
      "49  Affected|TextMining  [Affected, TextMining]           pmcid      [String]   \n",
      "37  Affected|TextMining  [Affected, TextMining]            pmid      [String]   \n",
      "45  Affected|TextMining  [Affected, TextMining]         section      [String]   \n",
      "35  Affected|TextMining  [Affected, TextMining]            term      [String]   \n",
      "36  Affected|TextMining  [Affected, TextMining]            type      [String]   \n",
      "8               Article               [Article]        abstract      [String]   \n",
      "12              Article               [Article]         authors      [String]   \n",
      "14              Article               [Article]        citation      [String]   \n",
      "10              Article               [Article]     doc_context      [String]   \n",
      "6               Article               [Article]           issue      [String]   \n",
      "5               Article               [Article]         journal      [String]   \n",
      "1               Article               [Article]            kgDC      [Double]   \n",
      "4               Article               [Article]      kgPageRank      [Double]   \n",
      "3               Article               [Article]           kgScc        [Long]   \n",
      "2               Article               [Article]           kgWcc        [Long]   \n",
      "7               Article               [Article]            link      [String]   \n",
      "11              Article               [Article]           pmcid      [String]   \n",
      "0               Article               [Article]            pmid      [String]   \n",
      "13              Article               [Article]           title      [String]   \n",
      "15              Article               [Article]          voulme      [String]   \n",
      "9               Article               [Article]            year        [Long]   \n",
      "94          BookChapter           [BookChapter]         authors      [String]   \n",
      "92          BookChapter           [BookChapter]            isbn      [String]   \n",
      "85          BookChapter           [BookChapter]            kgDC      [Double]   \n",
      "88          BookChapter           [BookChapter]      kgPageRank      [Double]   \n",
      "87          BookChapter           [BookChapter]           kgScc        [Long]   \n",
      "86          BookChapter           [BookChapter]           kgWcc        [Long]   \n",
      "89          BookChapter           [BookChapter]            link      [String]   \n",
      "93          BookChapter           [BookChapter]       publisher      [String]   \n",
      "90          BookChapter           [BookChapter]           title      [String]   \n",
      "91          BookChapter           [BookChapter]            year        [Long]   \n",
      "31    DictionaryConcept     [DictionaryConcept]     alter_names      [String]   \n",
      "28    DictionaryConcept     [DictionaryConcept]  canonical_name      [String]   \n",
      "30    DictionaryConcept     [DictionaryConcept]    concept_name      [String]   \n",
      "22    DictionaryConcept     [DictionaryConcept]              id      [String]   \n",
      "24    DictionaryConcept     [DictionaryConcept]            kgDC      [Double]   \n",
      "27    DictionaryConcept     [DictionaryConcept]      kgPageRank      [Double]   \n",
      "26    DictionaryConcept     [DictionaryConcept]           kgScc        [Long]   \n",
      "25    DictionaryConcept     [DictionaryConcept]           kgWcc        [Long]   \n",
      "23    DictionaryConcept     [DictionaryConcept]            type      [String]   \n",
      "29    DictionaryConcept     [DictionaryConcept]         type_id      [String]   \n",
      "56  Effector|TextMining  [Effector, TextMining]        arg_type      [String]   \n",
      "57  Effector|TextMining  [Effector, TextMining]            base      [String]   \n",
      "62  Effector|TextMining  [Effector, TextMining]            coid      [String]   \n",
      "65  Effector|TextMining  [Effector, TextMining]          doc_id      [String]   \n",
      "66  Effector|TextMining  [Effector, TextMining]     doc_id_type      [String]   \n",
      "51  Effector|TextMining  [Effector, TextMining]            head      [String]   \n",
      "50  Effector|TextMining  [Effector, TextMining]              id      [String]   \n",
      "64  Effector|TextMining  [Effector, TextMining]            isbn      [String]   \n",
      "58  Effector|TextMining  [Effector, TextMining]            kgDC      [Double]   \n",
      "61  Effector|TextMining  [Effector, TextMining]      kgPageRank      [Double]   \n",
      "60  Effector|TextMining  [Effector, TextMining]           kgScc        [Long]   \n",
      "59  Effector|TextMining  [Effector, TextMining]           kgWcc        [Long]   \n",
      "52  Effector|TextMining  [Effector, TextMining]              np      [String]   \n",
      "67  Effector|TextMining  [Effector, TextMining]           pmcid      [String]   \n",
      "55  Effector|TextMining  [Effector, TextMining]            pmid      [String]   \n",
      "63  Effector|TextMining  [Effector, TextMining]         section      [String]   \n",
      "53  Effector|TextMining  [Effector, TextMining]            term      [String]   \n",
      "54  Effector|TextMining  [Effector, TextMining]            type      [String]   \n",
      "16   OntologicalConcept    [OntologicalConcept]              id      [String]   \n",
      "18   OntologicalConcept    [OntologicalConcept]            kgDC      [Double]   \n",
      "21   OntologicalConcept    [OntologicalConcept]      kgPageRank      [Double]   \n",
      "20   OntologicalConcept    [OntologicalConcept]           kgScc        [Long]   \n",
      "19   OntologicalConcept    [OntologicalConcept]           kgWcc        [Long]   \n",
      "17   OntologicalConcept    [OntologicalConcept]            name      [String]   \n",
      "74           TextMining            [TextMining]        arg_type      [String]   \n",
      "75           TextMining            [TextMining]            base      [String]   \n",
      "80           TextMining            [TextMining]            coid      [String]   \n",
      "82           TextMining            [TextMining]          doc_id      [String]   \n",
      "83           TextMining            [TextMining]     doc_id_type      [String]   \n",
      "69           TextMining            [TextMining]            head      [String]   \n",
      "68           TextMining            [TextMining]              id      [String]   \n",
      "76           TextMining            [TextMining]            kgDC      [Double]   \n",
      "79           TextMining            [TextMining]      kgPageRank      [Double]   \n",
      "78           TextMining            [TextMining]           kgScc        [Long]   \n",
      "77           TextMining            [TextMining]           kgWcc        [Long]   \n",
      "70           TextMining            [TextMining]              np      [String]   \n",
      "84           TextMining            [TextMining]           pmcid      [String]   \n",
      "73           TextMining            [TextMining]            pmid      [String]   \n",
      "81           TextMining            [TextMining]         section      [String]   \n",
      "71           TextMining            [TextMining]            term      [String]   \n",
      "72           TextMining            [TextMining]            type      [String]   \n",
      "\n",
      "    mandatory  \n",
      "38       True  \n",
      "39       True  \n",
      "44       True  \n",
      "47       True  \n",
      "48       True  \n",
      "33       True  \n",
      "32       True  \n",
      "46      False  \n",
      "40       True  \n",
      "43       True  \n",
      "42       True  \n",
      "41       True  \n",
      "34       True  \n",
      "49      False  \n",
      "37      False  \n",
      "45       True  \n",
      "35       True  \n",
      "36      False  \n",
      "8        True  \n",
      "12       True  \n",
      "14       True  \n",
      "10      False  \n",
      "6       False  \n",
      "5        True  \n",
      "1        True  \n",
      "4        True  \n",
      "3        True  \n",
      "2        True  \n",
      "7        True  \n",
      "11       True  \n",
      "0        True  \n",
      "13       True  \n",
      "15       True  \n",
      "9        True  \n",
      "94       True  \n",
      "92       True  \n",
      "85       True  \n",
      "88       True  \n",
      "87       True  \n",
      "86       True  \n",
      "89       True  \n",
      "93       True  \n",
      "90       True  \n",
      "91       True  \n",
      "31       True  \n",
      "28       True  \n",
      "30       True  \n",
      "22       True  \n",
      "24       True  \n",
      "27       True  \n",
      "26       True  \n",
      "25       True  \n",
      "23       True  \n",
      "29       True  \n",
      "56       True  \n",
      "57       True  \n",
      "62       True  \n",
      "65       True  \n",
      "66       True  \n",
      "51       True  \n",
      "50       True  \n",
      "64      False  \n",
      "58       True  \n",
      "61       True  \n",
      "60       True  \n",
      "59       True  \n",
      "52       True  \n",
      "67      False  \n",
      "55      False  \n",
      "63       True  \n",
      "53       True  \n",
      "54      False  \n",
      "16       True  \n",
      "18       True  \n",
      "21       True  \n",
      "20       True  \n",
      "19       True  \n",
      "17       True  \n",
      "74       True  \n",
      "75       True  \n",
      "80       True  \n",
      "82       True  \n",
      "83       True  \n",
      "69       True  \n",
      "68       True  \n",
      "76       True  \n",
      "79       True  \n",
      "78       True  \n",
      "77       True  \n",
      "70       True  \n",
      "84       True  \n",
      "73       True  \n",
      "81       True  \n",
      "71       True  \n",
      "72       True  \n"
     ]
    }
   ],
   "source": [
    "# use function defined above\n",
    "gen_nodeLabel_properties()"
   ]
  },
  {
   "cell_type": "markdown",
   "id": "57d2cb9c-16b7-498a-aea4-95b870187b98",
   "metadata": {},
   "source": [
    "# Relationships"
   ]
  },
  {
   "cell_type": "markdown",
   "id": "48299f6e-7a55-43e8-b191-1197ec33ddb7",
   "metadata": {},
   "source": [
    "## Relationship Type Count"
   ]
  },
  {
   "cell_type": "code",
   "execution_count": 346,
   "id": "98939750-b705-44e7-a0dc-23d920118e57",
   "metadata": {
    "tags": []
   },
   "outputs": [
    {
     "name": "stdout",
     "output_type": "stream",
     "text": [
      "                          relCount\n",
      "relType                           \n",
      "IS_MENTIONED_IN               2713\n",
      "HAS_CANONICAL_NAME            2710\n",
      "CORRELATED_NOT_SPECIFIED      1241\n",
      "IS_INSTANCE_OF                 632\n",
      "POSITIVELY_CORRELATED          420\n",
      "NEGATIVELY_CORRELATED          194\n",
      "NOT_CORRELATED                  55\n",
      "SUB_CLASS_OF                    47\n",
      "IS_OBJECT_OF_CATALYST            1\n",
      "PLAY_ROLE_OF                     1\n",
      "IS_RESULT_OF                     1\n",
      "IS_CATALYST_OF                   1\n"
     ]
    }
   ],
   "source": [
    "# using the summary_df \n",
    "gen_relType_count(summary_df)\n",
    "#gen_relType_count(summary_df[summary_df['relType']!='NA'])"
   ]
  },
  {
   "cell_type": "markdown",
   "id": "a40c305b-3f71-416d-b8c6-859e3cd891a3",
   "metadata": {},
   "source": [
    "## Relationship Type Properties"
   ]
  },
  {
   "cell_type": "code",
   "execution_count": 347,
   "id": "5629bc75-dd61-4f95-b5e4-651616d8e1e6",
   "metadata": {
    "tags": []
   },
   "outputs": [
    {
     "name": "stdout",
     "output_type": "stream",
     "text": [
      "                     relType propertyName propertyTypes  mandatory\n",
      "4   CORRELATED_NOT_SPECIFIED    sent_text      [String]       True\n",
      "5   CORRELATED_NOT_SPECIFIED      trigger      [String]       True\n",
      "6   CORRELATED_NOT_SPECIFIED      section      [String]       True\n",
      "7   CORRELATED_NOT_SPECIFIED  doc_id_type      [String]       True\n",
      "8   CORRELATED_NOT_SPECIFIED       doc_id      [String]       True\n",
      "20        HAS_CANONICAL_NAME         None          None      False\n",
      "2             IS_CATALYST_OF         None          None      False\n",
      "27            IS_INSTANCE_OF         None          None      False\n",
      "19           IS_MENTIONED_IN         None          None      False\n",
      "21     IS_OBJECT_OF_CATALYST         None          None      False\n",
      "1               IS_RESULT_OF         None          None      False\n",
      "18     NEGATIVELY_CORRELATED       doc_id      [String]       True\n",
      "17     NEGATIVELY_CORRELATED  doc_id_type      [String]       True\n",
      "16     NEGATIVELY_CORRELATED      section      [String]       True\n",
      "14     NEGATIVELY_CORRELATED    sent_text      [String]       True\n",
      "15     NEGATIVELY_CORRELATED      trigger      [String]       True\n",
      "13            NOT_CORRELATED       doc_id      [String]       True\n",
      "12            NOT_CORRELATED  doc_id_type      [String]       True\n",
      "11            NOT_CORRELATED      section      [String]       True\n",
      "10            NOT_CORRELATED      trigger      [String]       True\n",
      "9             NOT_CORRELATED    sent_text      [String]       True\n",
      "3               PLAY_ROLE_OF         None          None      False\n",
      "22     POSITIVELY_CORRELATED    sent_text      [String]       True\n",
      "23     POSITIVELY_CORRELATED      trigger      [String]       True\n",
      "24     POSITIVELY_CORRELATED      section      [String]       True\n",
      "25     POSITIVELY_CORRELATED  doc_id_type      [String]       True\n",
      "26     POSITIVELY_CORRELATED       doc_id      [String]       True\n",
      "0               SUB_CLASS_OF         None          None      False\n"
     ]
    }
   ],
   "source": [
    "gen_relType_properties()"
   ]
  },
  {
   "cell_type": "markdown",
   "id": "de7846ff-e365-4fb9-a8b5-9a11f02558d2",
   "metadata": {},
   "source": [
    "## Relationship Patterns"
   ]
  },
  {
   "cell_type": "code",
   "execution_count": 348,
   "id": "25e86b4c-c785-42ae-aa51-4a854c14eaf9",
   "metadata": {
    "tags": []
   },
   "outputs": [
    {
     "name": "stdout",
     "output_type": "stream",
     "text": [
      "                                                    relCount\n",
      "relPattern                                                  \n",
      "(:TextMining)-[:IS_MENTIONED_IN]->()                    2713\n",
      "()-[:IS_MENTIONED_IN]->()                               2713\n",
      "(:TextMining)-[:HAS_CANONICAL_NAME]->()                 2710\n",
      "()-[:HAS_CANONICAL_NAME]->(:DictionaryConcept)          2710\n",
      "()-[:HAS_CANONICAL_NAME]->()                            2710\n",
      "()-[:IS_MENTIONED_IN]->(:Article)                       2106\n",
      "(:Affected)-[:IS_MENTIONED_IN]->()                      1420\n",
      "(:Affected)-[:HAS_CANONICAL_NAME]->()                   1419\n",
      "(:Effector)-[:IS_MENTIONED_IN]->()                      1292\n",
      "(:Effector)-[:HAS_CANONICAL_NAME]->()                   1291\n",
      "(:TextMining)-[:CORRELATED_NOT_SPECIFIED]->()           1241\n",
      "(:Effector)-[:CORRELATED_NOT_SPECIFIED]->()             1241\n",
      "()-[:CORRELATED_NOT_SPECIFIED]->(:TextMining)           1241\n",
      "()-[:CORRELATED_NOT_SPECIFIED]->()                      1241\n",
      "()-[:CORRELATED_NOT_SPECIFIED]->(:Affected)             1240\n",
      "(:DictionaryConcept)-[:IS_INSTANCE_OF]->()               632\n",
      "()-[:IS_INSTANCE_OF]->(:OntologicalConcept)              632\n",
      "()-[:IS_INSTANCE_OF]->()                                 632\n",
      "()-[:IS_MENTIONED_IN]->(:BookChapter)                    607\n",
      "(:TextMining)-[:POSITIVELY_CORRELATED]->()               420\n",
      "(:Effector)-[:POSITIVELY_CORRELATED]->()                 420\n",
      "()-[:POSITIVELY_CORRELATED]->(:TextMining)               420\n",
      "()-[:POSITIVELY_CORRELATED]->(:Affected)                 420\n",
      "()-[:POSITIVELY_CORRELATED]->()                          420\n",
      "(:TextMining)-[:NEGATIVELY_CORRELATED]->()               194\n",
      "(:Effector)-[:NEGATIVELY_CORRELATED]->()                 194\n",
      "()-[:NEGATIVELY_CORRELATED]->(:TextMining)               194\n",
      "()-[:NEGATIVELY_CORRELATED]->(:Affected)                 194\n",
      "()-[:NEGATIVELY_CORRELATED]->()                          194\n",
      "(:TextMining)-[:NOT_CORRELATED]->()                       55\n",
      "(:Effector)-[:NOT_CORRELATED]->()                         55\n",
      "()-[:NOT_CORRELATED]->(:TextMining)                       55\n",
      "()-[:NOT_CORRELATED]->(:Affected)                         55\n",
      "()-[:NOT_CORRELATED]->()                                  55\n",
      "(:OntologicalConcept)-[:SUB_CLASS_OF]->()                 47\n",
      "()-[:SUB_CLASS_OF]->(:OntologicalConcept)                 47\n",
      "()-[:SUB_CLASS_OF]->()                                    47\n",
      "(:OntologicalConcept)-[:PLAY_ROLE_OF]->()                  1\n",
      "(:OntologicalConcept)-[:IS_RESULT_OF]->()                  1\n",
      "(:OntologicalConcept)-[:IS_OBJECT_OF_CATALYST]->()         1\n",
      "(:OntologicalConcept)-[:IS_CATALYST_OF]->()                1\n",
      "()-[:PLAY_ROLE_OF]->(:OntologicalConcept)                  1\n",
      "()-[:PLAY_ROLE_OF]->()                                     1\n",
      "()-[:IS_RESULT_OF]->(:OntologicalConcept)                  1\n",
      "()-[:IS_RESULT_OF]->()                                     1\n",
      "()-[:IS_OBJECT_OF_CATALYST]->(:OntologicalConcept)         1\n",
      "()-[:IS_OBJECT_OF_CATALYST]->()                            1\n",
      "()-[:IS_CATALYST_OF]->(:OntologicalConcept)                1\n",
      "()-[:IS_CATALYST_OF]->()                                   1\n"
     ]
    }
   ],
   "source": [
    "gen_graph_rel_patterns(summary_df)"
   ]
  },
  {
   "cell_type": "markdown",
   "id": "bd788cd3-f066-4da1-aade-90e86bba0ccb",
   "metadata": {},
   "source": [
    "# Node Degree Statistics\n",
    "The objective is to calculate the in-degree or out-degree of specific node and relationship combinations. \n",
    "\n",
    "Can generate aggregate node statistics using multiple approaches:\n",
    "* Cypher query passing the results to `apoc.agg.statistics()`\n",
    "* Return array to a pandas DataFrame and pass to `.describe()`."
   ]
  },
  {
   "cell_type": "markdown",
   "id": "7d4f74f1-e76d-412e-9d6a-4d2c19aea0aa",
   "metadata": {},
   "source": [
    "## All Nodes"
   ]
  },
  {
   "cell_type": "code",
   "execution_count": 349,
   "id": "3419d57d-9d64-46c6-be41-674af7f8c83b",
   "metadata": {
    "tags": []
   },
   "outputs": [
    {
     "data": {
      "text/plain": [
       "{'total': 3507,\n",
       " 'min': 0,\n",
       " '0.5': 1,\n",
       " 'stdev': 12.869303250344752,\n",
       " '0.99': 41,\n",
       " 'minNonZero': 1.0,\n",
       " 'max': 607,\n",
       " '0.95': 8,\n",
       " 'mean': 2.2857142857142856,\n",
       " '0.9': 3,\n",
       " '0.75': 1}"
      ]
     },
     "execution_count": 349,
     "metadata": {},
     "output_type": "execute_result"
    }
   ],
   "source": [
    "# Use apoc.agg.statistics() to calculate the inDegree statistics of all nodes\n",
    "inDegree_stats = gds.run_cypher('''\n",
    "    MATCH (n)\n",
    "    WITH n, \n",
    "      COUNT { (n)<-[]-() } AS inDegree\n",
    "    RETURN apoc.agg.statistics(inDegree) AS stats\n",
    "    ''')\n",
    "\n",
    "inDegree_stats['stats'][0]"
   ]
  },
  {
   "cell_type": "code",
   "execution_count": 350,
   "id": "98f31096-ab60-4c1a-bd2d-34cde76f9e94",
   "metadata": {
    "tags": []
   },
   "outputs": [
    {
     "data": {
      "text/plain": [
       "(794, 1)"
      ]
     },
     "execution_count": 350,
     "metadata": {},
     "output_type": "execute_result"
    }
   ],
   "source": [
    "# Generate a pandas DataFrame for the inDegree of all nodes\n",
    "inDegree_data = gds.run_cypher('''\n",
    "  MATCH (n)\n",
    "  WITH n \n",
    "  RETURN COUNT { (n)<-[]-() } AS inDegree\n",
    "''')\n",
    "\n",
    "inDegree_data.shape"
   ]
  },
  {
   "cell_type": "code",
   "execution_count": 351,
   "id": "72a582d0-0b51-4b1f-bc88-a20fbe93322b",
   "metadata": {
    "tags": []
   },
   "outputs": [
    {
     "data": {
      "text/plain": [
       "count    794.00\n",
       "mean       7.69\n",
       "std       26.30\n",
       "min        0.00\n",
       "25%        0.00\n",
       "50%        1.00\n",
       "75%        6.00\n",
       "90%       17.70\n",
       "95%       37.05\n",
       "99%       75.19\n",
       "max      607.00\n",
       "Name: inDegree, dtype: float64"
      ]
     },
     "execution_count": 351,
     "metadata": {},
     "output_type": "execute_result"
    }
   ],
   "source": [
    "# Generate statistics from an array of all nodes inDegree values using .describe() \n",
    "gen_apoc_stats(df=inDegree_data, col='inDegree')"
   ]
  },
  {
   "cell_type": "code",
   "execution_count": 352,
   "id": "a673192d-f290-4db0-b17b-4fe9672622e8",
   "metadata": {
    "tags": []
   },
   "outputs": [
    {
     "data": {
      "image/png": "[encoded data removed]",
      "text/plain": [
       "<Figure size 1100x600 with 1 Axes>"
      ]
     },
     "metadata": {},
     "output_type": "display_data"
    }
   ],
   "source": [
    "# Plot the distribution of all nodes inDegree values\n",
    "sns.histplot(inDegree_data, bins=10).set(title='Distribution of All Nodes InDegree Values { (n)<-[]-() }')\n",
    "plt.show()"
   ]
  },
  {
   "cell_type": "code",
   "execution_count": 353,
   "id": "1a940600-747d-4d1b-9a9c-90d4eaa32312",
   "metadata": {
    "tags": []
   },
   "outputs": [
    {
     "data": {
      "text/plain": [
       "{'total': 3507,\n",
       " 'min': 0,\n",
       " '0.5': 2,\n",
       " 'stdev': 1.1899342935465662,\n",
       " '0.99': 6,\n",
       " 'minNonZero': 1.0,\n",
       " 'max': 13,\n",
       " '0.95': 4,\n",
       " 'mean': 2.2857142857142856,\n",
       " '0.9': 4,\n",
       " '0.75': 3}"
      ]
     },
     "execution_count": 353,
     "metadata": {},
     "output_type": "execute_result"
    }
   ],
   "source": [
    "# Use apoc.agg.statistics() to calculate the outDegree statistics of all nodes\n",
    "outDegree_stats = gds.run_cypher('''\n",
    "    MATCH (n)\n",
    "    WITH n, \n",
    "      COUNT { (n)-[]->() } AS outDegree\n",
    "    RETURN apoc.agg.statistics(outDegree) AS stats\n",
    "    ''')\n",
    "\n",
    "outDegree_stats['stats'][0]"
   ]
  },
  {
   "cell_type": "code",
   "execution_count": 354,
   "id": "c39abbca-b047-4a5d-b480-6ba81ee00610",
   "metadata": {
    "tags": []
   },
   "outputs": [
    {
     "data": {
      "text/plain": [
       "(3507, 1)"
      ]
     },
     "execution_count": 354,
     "metadata": {},
     "output_type": "execute_result"
    }
   ],
   "source": [
    "# Generate a pandas DataFrame for the outDegree of all nodes\n",
    "outDegree_data = gds.run_cypher('''\n",
    "  MATCH (n)\n",
    "  WITH n \n",
    "  RETURN COUNT { (n)-[]->() } AS outDegree\n",
    "''')\n",
    "\n",
    "outDegree_data.shape"
   ]
  },
  {
   "cell_type": "code",
   "execution_count": 355,
   "id": "489ba443-2bbb-43da-8ad0-93214ea5a6c6",
   "metadata": {
    "tags": []
   },
   "outputs": [
    {
     "data": {
      "text/plain": [
       "count    3507.00\n",
       "mean        2.29\n",
       "std         1.19\n",
       "min         0.00\n",
       "25%         2.00\n",
       "50%         2.00\n",
       "75%         3.00\n",
       "90%         4.00\n",
       "95%         4.00\n",
       "99%         6.00\n",
       "max        13.00\n",
       "Name: outDegree, dtype: float64"
      ]
     },
     "execution_count": 355,
     "metadata": {},
     "output_type": "execute_result"
    }
   ],
   "source": [
    "# Generate statistics from an array of all nodes outDegree values using .describe() \n",
    "gen_apoc_stats(df=outDegree_data, col='outDegree')"
   ]
  },
  {
   "cell_type": "code",
   "execution_count": 356,
   "id": "0510ccd9-0d28-4dae-afe6-7b17e34aa356",
   "metadata": {
    "tags": []
   },
   "outputs": [
    {
     "data": {
      "image/png": "[encoded data removed]",
      "text/plain": [
       "<Figure size 1100x600 with 1 Axes>"
      ]
     },
     "metadata": {},
     "output_type": "display_data"
    }
   ],
   "source": [
    "# Plot the distribution of all nodes outDegree values\n",
    "sns.histplot(outDegree_data, bins=10).set(title='Distribution of All Nodes OutDegree Values { (n)-[]->() }')\n",
    "plt.show()"
   ]
  },
  {
   "cell_type": "markdown",
   "id": "8829bdab-b145-456d-9fe2-a45fd7784451",
   "metadata": {},
   "source": [
    "## Ontological Concept Nodes"
   ]
  },
  {
   "cell_type": "code",
   "execution_count": 357,
   "id": "896e71cb-9f1d-48d7-bf88-4f040409113c",
   "metadata": {
    "tags": []
   },
   "outputs": [
    {
     "data": {
      "text/plain": [
       "{'total': 66,\n",
       " 'min': 1,\n",
       " '0.5': 6,\n",
       " 'stdev': 10.963427389669633,\n",
       " '0.99': 45,\n",
       " 'minNonZero': 1.0,\n",
       " 'max': 64,\n",
       " '0.95': 29,\n",
       " 'mean': 10.348484848484848,\n",
       " '0.9': 20,\n",
       " '0.75': 14}"
      ]
     },
     "execution_count": 357,
     "metadata": {},
     "output_type": "execute_result"
    }
   ],
   "source": [
    "# Use apoc.agg.statistics() to calculate the inDegree statistics of ontological concept nodes\n",
    "ontological_concept_inDegree_stats = gds.run_cypher('''\n",
    "    MATCH (c:OntologicalConcept)\n",
    "    WITH c, \n",
    "      COUNT { (c)<-[]-() } AS inDegree\n",
    "    RETURN apoc.agg.statistics(inDegree) AS stats\n",
    "    ''')\n",
    "\n",
    "ontological_concept_inDegree_stats['stats'][0]"
   ]
  },
  {
   "cell_type": "code",
   "execution_count": 358,
   "id": "01f89a02-5db9-4099-8db2-f40522d00e0a",
   "metadata": {
    "tags": []
   },
   "outputs": [
    {
     "data": {
      "text/plain": [
       "(66, 1)"
      ]
     },
     "execution_count": 358,
     "metadata": {},
     "output_type": "execute_result"
    }
   ],
   "source": [
    "# Generate a pandas DataFrame for the inDegree of ontological concept nodes\n",
    "ontological_concept_inDegree_data = gds.run_cypher('''\n",
    "  MATCH (c:OntologicalConcept)\n",
    "  WITH c \n",
    "  RETURN COUNT { (c)<-[]-() } AS inDegree\n",
    "''')\n",
    "\n",
    "ontological_concept_inDegree_data.shape"
   ]
  },
  {
   "cell_type": "code",
   "execution_count": 359,
   "id": "6d595e62-222a-4adb-957f-ca59612a59f6",
   "metadata": {
    "tags": []
   },
   "outputs": [
    {
     "data": {
      "text/plain": [
       "count    66.00\n",
       "mean     10.35\n",
       "std      11.05\n",
       "min       1.00\n",
       "25%       3.00\n",
       "50%       6.50\n",
       "75%      14.00\n",
       "90%      20.50\n",
       "95%      28.75\n",
       "99%      51.65\n",
       "max      64.00\n",
       "Name: inDegree, dtype: float64"
      ]
     },
     "execution_count": 359,
     "metadata": {},
     "output_type": "execute_result"
    }
   ],
   "source": [
    "# Generate statistics from an array of ontological concept nodes inDegree values using .describe() \n",
    "gen_apoc_stats(df=ontological_concept_inDegree_data, col='inDegree')"
   ]
  },
  {
   "cell_type": "code",
   "execution_count": 360,
   "id": "434f7b1f-1796-4ddc-9cac-ecccf41f319a",
   "metadata": {
    "tags": []
   },
   "outputs": [
    {
     "data": {
      "image/png": "[encoded data removed]",
      "text/plain": [
       "<Figure size 1100x600 with 1 Axes>"
      ]
     },
     "metadata": {},
     "output_type": "display_data"
    }
   ],
   "source": [
    "# Plot the distribution of ontological concept nodes inDegree values\n",
    "sns.histplot(ontological_concept_inDegree_data, bins=10).set(title='Distribution of Ontological Concept Nodes InDegree Values { (c:OntologicalConcept)<-[]-() }')\n",
    "plt.show()"
   ]
  },
  {
   "cell_type": "code",
   "execution_count": 361,
   "id": "dc5ad5ab-eec3-4d90-a4e4-b501c1f41f47",
   "metadata": {
    "tags": []
   },
   "outputs": [
    {
     "data": {
      "text/plain": [
       "{'total': 66,\n",
       " 'min': 0,\n",
       " '0.5': 1,\n",
       " 'stdev': 0.4537872464203617,\n",
       " '0.99': 1,\n",
       " 'minNonZero': 1.0,\n",
       " 'max': 2,\n",
       " '0.95': 1,\n",
       " 'mean': 0.7727272727272727,\n",
       " '0.9': 1,\n",
       " '0.75': 1}"
      ]
     },
     "execution_count": 361,
     "metadata": {},
     "output_type": "execute_result"
    }
   ],
   "source": [
    "# Use apoc.agg.statistics() to calculate the outDegree statistics of ontological concept nodes\n",
    "ontological_concept_outDegree_stats = gds.run_cypher('''\n",
    "    MATCH (c:OntologicalConcept)\n",
    "    WITH c, \n",
    "      COUNT { (c)-[]->() } AS outDegree\n",
    "    RETURN apoc.agg.statistics(outDegree) AS stats\n",
    "    ''')\n",
    "\n",
    "ontological_concept_outDegree_stats['stats'][0]"
   ]
  },
  {
   "cell_type": "code",
   "execution_count": 362,
   "id": "bb323ab5-c449-4615-86a9-87b534148d79",
   "metadata": {
    "tags": []
   },
   "outputs": [
    {
     "data": {
      "text/plain": [
       "(66, 1)"
      ]
     },
     "execution_count": 362,
     "metadata": {},
     "output_type": "execute_result"
    }
   ],
   "source": [
    "# Generate a pandas DataFrame for the outDegree of ontological concept nodes\n",
    "ontological_concept_outDegree_data = gds.run_cypher('''\n",
    "  MATCH (c:OntologicalConcept)\n",
    "  WITH c \n",
    "  RETURN COUNT { (c)-[]->() } AS outDegree\n",
    "''')\n",
    "\n",
    "ontological_concept_outDegree_data.shape"
   ]
  },
  {
   "cell_type": "code",
   "execution_count": 363,
   "id": "76f0a015-6368-44d3-80af-5738ab1ec808",
   "metadata": {
    "tags": []
   },
   "outputs": [
    {
     "data": {
      "text/plain": [
       "count    66.00\n",
       "mean      0.77\n",
       "std       0.46\n",
       "min       0.00\n",
       "25%       1.00\n",
       "50%       1.00\n",
       "75%       1.00\n",
       "90%       1.00\n",
       "95%       1.00\n",
       "99%       1.35\n",
       "max       2.00\n",
       "Name: outDegree, dtype: float64"
      ]
     },
     "execution_count": 363,
     "metadata": {},
     "output_type": "execute_result"
    }
   ],
   "source": [
    "# Generate statistics from an array of ontological concept outDegree values using .describe() \n",
    "gen_apoc_stats(df=ontological_concept_outDegree_data, col='outDegree')"
   ]
  },
  {
   "cell_type": "code",
   "execution_count": 364,
   "id": "26afcc51-af2b-4747-99c8-e2b293216d10",
   "metadata": {
    "tags": []
   },
   "outputs": [
    {
     "data": {
      "image/png": "[encoded data removed]",
      "text/plain": [
       "<Figure size 1100x600 with 1 Axes>"
      ]
     },
     "metadata": {},
     "output_type": "display_data"
    }
   ],
   "source": [
    "# Plot the distribution of ontological concept nodes outDegree values\n",
    "sns.histplot(ontological_concept_outDegree_data, bins=10).set(title='Distribution of Ontological Concept Nodes OutDegree Values { (c:OntologicalConcept)-[]->() }')\n",
    "plt.show()"
   ]
  },
  {
   "cell_type": "markdown",
   "id": "a5810f75-32f7-4917-90a1-283e144629a0",
   "metadata": {},
   "source": [
    "# Dictionary Concept Nodes"
   ]
  },
  {
   "cell_type": "code",
   "execution_count": 365,
   "id": "0f9524e3-b767-4c55-ae28-442844048360",
   "metadata": {},
   "outputs": [
    {
     "data": {
      "text/plain": [
       "{'total': 638,\n",
       " 'min': 0,\n",
       " '0.5': 1,\n",
       " 'stdev': 9.873404912510473,\n",
       " '0.99': 60,\n",
       " 'minNonZero': 1.0,\n",
       " 'max': 68,\n",
       " '0.95': 20,\n",
       " 'mean': 4.247648902821316,\n",
       " '0.9': 13,\n",
       " '0.75': 3}"
      ]
     },
     "execution_count": 365,
     "metadata": {},
     "output_type": "execute_result"
    }
   ],
   "source": [
    "# Use apoc.agg.statistics() to calculate the inDegree statistics of dictionary concept nodes\n",
    "dictionary_concept_inDegree_stats = gds.run_cypher('''\n",
    "    MATCH (c:DictionaryConcept)\n",
    "    WITH c, \n",
    "      COUNT { (c)<-[]-() } AS inDegree\n",
    "    RETURN apoc.agg.statistics(inDegree) AS stats\n",
    "    ''')\n",
    "\n",
    "dictionary_concept_inDegree_stats['stats'][0]"
   ]
  },
  {
   "cell_type": "code",
   "execution_count": 366,
   "id": "da44d5a4-1461-4f2c-ab15-1d0148716570",
   "metadata": {},
   "outputs": [
    {
     "data": {
      "text/plain": [
       "(638, 1)"
      ]
     },
     "execution_count": 366,
     "metadata": {},
     "output_type": "execute_result"
    }
   ],
   "source": [
    "# Generate a pandas DataFrame for the inDegree of dictionary concept nodes\n",
    "dictionary_concept_inDegree_data = gds.run_cypher('''\n",
    "  MATCH (c:DictionaryConcept)\n",
    "  WITH c \n",
    "  RETURN COUNT { (c)<-[]-() } AS inDegree\n",
    "''')\n",
    "\n",
    "dictionary_concept_inDegree_data.shape"
   ]
  },
  {
   "cell_type": "code",
   "execution_count": 367,
   "id": "71ede0cf-8cc3-4974-947b-d1c462c8e276",
   "metadata": {},
   "outputs": [
    {
     "data": {
      "text/plain": [
       "count    638.00\n",
       "mean       4.25\n",
       "std        9.88\n",
       "min        0.00\n",
       "25%        0.00\n",
       "50%        1.00\n",
       "75%        3.00\n",
       "90%       13.00\n",
       "95%       20.00\n",
       "99%       58.15\n",
       "max       68.00\n",
       "Name: inDegree, dtype: float64"
      ]
     },
     "execution_count": 367,
     "metadata": {},
     "output_type": "execute_result"
    }
   ],
   "source": [
    "# Generate statistics from an array of dictionary concept nodes inDegree values using .describe() \n",
    "gen_apoc_stats(df=dictionary_concept_inDegree_data, col='inDegree')"
   ]
  },
  {
   "cell_type": "code",
   "execution_count": 368,
   "id": "078c23ea-8525-4a8a-89d7-77390ea74e75",
   "metadata": {},
   "outputs": [
    {
     "data": {
      "image/png": "[encoded data removed]",
      "text/plain": [
       "<Figure size 1100x600 with 1 Axes>"
      ]
     },
     "metadata": {},
     "output_type": "display_data"
    }
   ],
   "source": [
    "# Plot the distribution of dictionary concept nodes inDegree values\n",
    "sns.histplot(dictionary_concept_inDegree_data, bins=10).set(title='Distribution of Dictionary Concept Nodes InDegree Values { (c:DictionaryConcept)<-[]-() }')\n",
    "plt.show()"
   ]
  },
  {
   "cell_type": "code",
   "execution_count": 369,
   "id": "b1822d55-5789-4dff-9725-7e49af087b78",
   "metadata": {},
   "outputs": [
    {
     "data": {
      "text/plain": [
       "{'total': 638,\n",
       " 'min': 0,\n",
       " '0.5': 1,\n",
       " 'stdev': 0.09651914933128936,\n",
       " '0.99': 1,\n",
       " 'minNonZero': 1.0,\n",
       " 'max': 1,\n",
       " '0.95': 1,\n",
       " 'mean': 0.9905956112852664,\n",
       " '0.9': 1,\n",
       " '0.75': 1}"
      ]
     },
     "execution_count": 369,
     "metadata": {},
     "output_type": "execute_result"
    }
   ],
   "source": [
    "# Use apoc.agg.statistics() to calculate the outDegree statistics of dictionary concept nodes\n",
    "dictionary_concept_outDegree_stats = gds.run_cypher('''\n",
    "    MATCH (c:DictionaryConcept)\n",
    "    WITH c, \n",
    "      COUNT { (c)-[]->() } AS outDegree\n",
    "    RETURN apoc.agg.statistics(outDegree) AS stats\n",
    "    ''')\n",
    "\n",
    "dictionary_concept_outDegree_stats['stats'][0]"
   ]
  },
  {
   "cell_type": "code",
   "execution_count": 370,
   "id": "1d7107e4-b4e7-4350-ad7d-c40e1f246c7b",
   "metadata": {},
   "outputs": [
    {
     "data": {
      "text/plain": [
       "(638, 1)"
      ]
     },
     "execution_count": 370,
     "metadata": {},
     "output_type": "execute_result"
    }
   ],
   "source": [
    "# Generate a pandas DataFrame for the outDegree of dictionary concept nodes\n",
    "dictionary_concept_outDegree_data = gds.run_cypher('''\n",
    "  MATCH (c:DictionaryConcept)\n",
    "  WITH c \n",
    "  RETURN COUNT { (c)-[]->() } AS outDegree\n",
    "''')\n",
    "\n",
    "dictionary_concept_outDegree_data.shape"
   ]
  },
  {
   "cell_type": "code",
   "execution_count": 371,
   "id": "dedaa820-c39f-4af4-98dc-d8d6e7b3d062",
   "metadata": {},
   "outputs": [
    {
     "data": {
      "text/plain": [
       "count    638.00\n",
       "mean       0.99\n",
       "std        0.10\n",
       "min        0.00\n",
       "25%        1.00\n",
       "50%        1.00\n",
       "75%        1.00\n",
       "90%        1.00\n",
       "95%        1.00\n",
       "99%        1.00\n",
       "max        1.00\n",
       "Name: outDegree, dtype: float64"
      ]
     },
     "execution_count": 371,
     "metadata": {},
     "output_type": "execute_result"
    }
   ],
   "source": [
    "# Generate statistics from an array of dictionary concept outDegree values using .describe() \n",
    "gen_apoc_stats(df=dictionary_concept_outDegree_data, col='outDegree')"
   ]
  },
  {
   "cell_type": "code",
   "execution_count": 372,
   "id": "d4a89735-c917-4004-8d45-cf6991ac5a8a",
   "metadata": {},
   "outputs": [
    {
     "data": {
      "image/png": "[encoded data removed]",
      "text/plain": [
       "<Figure size 1100x600 with 1 Axes>"
      ]
     },
     "metadata": {},
     "output_type": "display_data"
    }
   ],
   "source": [
    "# Plot the distribution of dictionary concept nodes outDegree values\n",
    "sns.histplot(dictionary_concept_outDegree_data, bins=10).set(title='Distribution of Dictionary Concept Nodes OutDegree Values { (c:DictionaryConcept)-[]->() }')\n",
    "plt.show()"
   ]
  },
  {
   "cell_type": "markdown",
   "id": "b266b83f-605e-4ec2-912b-090ffcf637b1",
   "metadata": {},
   "source": [
    "## Effector Nodes"
   ]
  },
  {
   "cell_type": "code",
   "execution_count": 373,
   "id": "28fc6e67-4ec0-4f64-9c48-0107325dc2ed",
   "metadata": {
    "tags": []
   },
   "outputs": [
    {
     "data": {
      "text/plain": [
       "{'total': 1292,\n",
       " 'min': 0,\n",
       " '0.5': 0,\n",
       " 'stdev': 0.0,\n",
       " '0.99': 0,\n",
       " 'minNonZero': 9.223372036854776e+18,\n",
       " 'max': 0,\n",
       " '0.95': 0,\n",
       " 'mean': 0.0,\n",
       " '0.9': 0,\n",
       " '0.75': 0}"
      ]
     },
     "execution_count": 373,
     "metadata": {},
     "output_type": "execute_result"
    }
   ],
   "source": [
    "# Use apoc.agg.statistics() to calculate the inDegree statistics of Effector nodes\n",
    "effector_inDegree_stats = gds.run_cypher('''\n",
    "    MATCH (e:Effector)\n",
    "    WITH e, \n",
    "      COUNT { (e)<-[]-() } AS inDegree\n",
    "    RETURN apoc.agg.statistics(inDegree) AS stats\n",
    "    ''')\n",
    "\n",
    "effector_inDegree_stats['stats'][0]"
   ]
  },
  {
   "cell_type": "code",
   "execution_count": 374,
   "id": "78db6784-407c-41a3-88fe-aaeebe334be7",
   "metadata": {
    "tags": []
   },
   "outputs": [
    {
     "data": {
      "text/plain": [
       "(1292, 1)"
      ]
     },
     "execution_count": 374,
     "metadata": {},
     "output_type": "execute_result"
    }
   ],
   "source": [
    "# Generate a pandas DataFrame for the inDegree of Effector nodes\n",
    "effector_inDegree_data = gds.run_cypher('''\n",
    "  MATCH (e:Effector)\n",
    "  WITH e \n",
    "  RETURN COUNT { (e)<-[]-() } AS inDegree\n",
    "''')\n",
    "\n",
    "effector_inDegree_data.shape"
   ]
  },
  {
   "cell_type": "code",
   "execution_count": 375,
   "id": "c1ee3792-de90-4a64-be7c-479a541213d7",
   "metadata": {
    "tags": []
   },
   "outputs": [
    {
     "data": {
      "text/plain": [
       "count    1292.0\n",
       "mean        0.0\n",
       "std         0.0\n",
       "min         0.0\n",
       "25%         0.0\n",
       "50%         0.0\n",
       "75%         0.0\n",
       "90%         0.0\n",
       "95%         0.0\n",
       "99%         0.0\n",
       "max         0.0\n",
       "Name: inDegree, dtype: float64"
      ]
     },
     "execution_count": 375,
     "metadata": {},
     "output_type": "execute_result"
    }
   ],
   "source": [
    "# Generate statistics from an array of Effector nodes inDegree values using .describe() \n",
    "gen_apoc_stats(df=effector_inDegree_data, col='inDegree')"
   ]
  },
  {
   "cell_type": "code",
   "execution_count": 376,
   "id": "e3a6c339-3c21-4320-bbcf-0fd2e3dd27fe",
   "metadata": {
    "tags": []
   },
   "outputs": [
    {
     "data": {
      "image/png": "[encoded data removed]",
      "text/plain": [
       "<Figure size 1100x600 with 1 Axes>"
      ]
     },
     "metadata": {},
     "output_type": "display_data"
    }
   ],
   "source": [
    "# Plot the distribution of Effector nodes inDegree values\n",
    "sns.histplot(effector_inDegree_data, bins=10).set(title='Distribution of Effector Nodes InDegree Values { (e:Effector)<-[]-() }')\n",
    "plt.show()"
   ]
  },
  {
   "cell_type": "code",
   "execution_count": 377,
   "id": "a52ad267-786b-47f2-8dd0-789f00e1ed95",
   "metadata": {
    "tags": []
   },
   "outputs": [
    {
     "data": {
      "text/plain": [
       "{'total': 1292,\n",
       " 'min': 2,\n",
       " '0.5': 3,\n",
       " 'stdev': 1.0032258616171712,\n",
       " '0.99': 8,\n",
       " 'minNonZero': 2.0,\n",
       " 'max': 13,\n",
       " '0.95': 5,\n",
       " 'mean': 3.4775541795665634,\n",
       " '0.9': 5,\n",
       " '0.75': 4}"
      ]
     },
     "execution_count": 377,
     "metadata": {},
     "output_type": "execute_result"
    }
   ],
   "source": [
    "# Use apoc.agg.statistics() to calculate the outDegree statistics of Effector nodes\n",
    "effector_outDegree_stats = gds.run_cypher('''\n",
    "    MATCH (e:Effector)\n",
    "    WITH e, \n",
    "      COUNT { (e)-[]->() } AS outDegree\n",
    "    RETURN apoc.agg.statistics(outDegree) AS stats\n",
    "    ''')\n",
    "\n",
    "effector_outDegree_stats['stats'][0]"
   ]
  },
  {
   "cell_type": "code",
   "execution_count": 378,
   "id": "7c88b86b-45b6-419c-80f1-f15acab36da0",
   "metadata": {
    "tags": []
   },
   "outputs": [
    {
     "data": {
      "text/plain": [
       "(1292, 1)"
      ]
     },
     "execution_count": 378,
     "metadata": {},
     "output_type": "execute_result"
    }
   ],
   "source": [
    "# Generate a pandas DataFrame for the outDegree of Effector nodes\n",
    "effector_outDegree_data = gds.run_cypher('''\n",
    "  MATCH (e:Effector)\n",
    "  WITH e \n",
    "  RETURN COUNT { (e)-[]->() } AS outDegree\n",
    "''')\n",
    "\n",
    "effector_outDegree_data.shape"
   ]
  },
  {
   "cell_type": "code",
   "execution_count": 379,
   "id": "5b89bf65-291e-45d8-ac0b-d01400c04d09",
   "metadata": {
    "tags": []
   },
   "outputs": [
    {
     "data": {
      "text/plain": [
       "count    1292.00\n",
       "mean        3.48\n",
       "std         1.00\n",
       "min         2.00\n",
       "25%         3.00\n",
       "50%         3.00\n",
       "75%         4.00\n",
       "90%         5.00\n",
       "95%         5.00\n",
       "99%         8.00\n",
       "max        13.00\n",
       "Name: outDegree, dtype: float64"
      ]
     },
     "execution_count": 379,
     "metadata": {},
     "output_type": "execute_result"
    }
   ],
   "source": [
    "# Generate statistics from an array of Effector nodes outDegree values using .describe() \n",
    "gen_apoc_stats(df=effector_outDegree_data, col='outDegree')"
   ]
  },
  {
   "cell_type": "code",
   "execution_count": 380,
   "id": "702903f5-0d0e-4358-8491-461bf74e9fb0",
   "metadata": {
    "tags": []
   },
   "outputs": [
    {
     "data": {
      "image/png": "[encoded data removed]",
      "text/plain": [
       "<Figure size 1100x600 with 1 Axes>"
      ]
     },
     "metadata": {},
     "output_type": "display_data"
    }
   ],
   "source": [
    "# Plot the distribution of Effector nodes outDegree values\n",
    "sns.histplot(effector_outDegree_data, bins=10).set(title='Distribution of Effector Nodes OutDegree Values { (e:Effector)-[]->() }')\n",
    "plt.show()"
   ]
  },
  {
   "cell_type": "markdown",
   "id": "bd0f56f1-6542-4875-812f-2a0be0f27f97",
   "metadata": {},
   "source": [
    "## Affected Nodes"
   ]
  },
  {
   "cell_type": "code",
   "execution_count": 381,
   "id": "a4451fdb-957b-40e5-9388-06142238ef4f",
   "metadata": {
    "tags": []
   },
   "outputs": [
    {
     "data": {
      "text/plain": [
       "{'total': 1420,\n",
       " 'min': 0,\n",
       " '0.5': 1,\n",
       " 'stdev': 0.8181931869990948,\n",
       " '0.99': 5,\n",
       " 'minNonZero': 1.0,\n",
       " 'max': 9,\n",
       " '0.95': 3,\n",
       " 'mean': 1.3443661971830987,\n",
       " '0.9': 2,\n",
       " '0.75': 1}"
      ]
     },
     "execution_count": 381,
     "metadata": {},
     "output_type": "execute_result"
    }
   ],
   "source": [
    "# Use apoc.agg.statistics() to calculate the inDegree statistics of Affected nodes\n",
    "affected_inDegree_stats = gds.run_cypher('''\n",
    "    MATCH (a:Affected)\n",
    "    WITH a, \n",
    "      COUNT { (a)<-[]-() } AS inDegree\n",
    "    RETURN apoc.agg.statistics(inDegree) AS stats\n",
    "    ''')\n",
    "\n",
    "affected_inDegree_stats['stats'][0]"
   ]
  },
  {
   "cell_type": "code",
   "execution_count": 382,
   "id": "0601111f-7650-4561-9050-9b377d46444a",
   "metadata": {
    "tags": []
   },
   "outputs": [
    {
     "data": {
      "text/plain": [
       "(1420, 1)"
      ]
     },
     "execution_count": 382,
     "metadata": {},
     "output_type": "execute_result"
    }
   ],
   "source": [
    "# Generate a pandas DataFrame for the inDegree of Affected nodes\n",
    "affected_inDegree_data = gds.run_cypher('''\n",
    "  MATCH (a:Affected)\n",
    "  WITH a \n",
    "  RETURN COUNT { (a)<-[]-() } AS inDegree\n",
    "''')\n",
    "\n",
    "affected_inDegree_data.shape"
   ]
  },
  {
   "cell_type": "code",
   "execution_count": 383,
   "id": "97dcf6d0-7800-4139-9b4d-85ccdae1173f",
   "metadata": {
    "tags": []
   },
   "outputs": [
    {
     "data": {
      "text/plain": [
       "count    1420.00\n",
       "mean        1.34\n",
       "std         0.82\n",
       "min         0.00\n",
       "25%         1.00\n",
       "50%         1.00\n",
       "75%         1.00\n",
       "90%         2.00\n",
       "95%         3.00\n",
       "99%         5.00\n",
       "max         9.00\n",
       "Name: inDegree, dtype: float64"
      ]
     },
     "execution_count": 383,
     "metadata": {},
     "output_type": "execute_result"
    }
   ],
   "source": [
    "# Generate statistics from an array of Affected nodes inDegree values using .describe() \n",
    "gen_apoc_stats(df=affected_inDegree_data, col='inDegree')"
   ]
  },
  {
   "cell_type": "code",
   "execution_count": 384,
   "id": "6b7b6005-8416-4f78-b740-59ad53006886",
   "metadata": {
    "tags": []
   },
   "outputs": [
    {
     "data": {
      "image/png": "[encoded data removed]",
      "text/plain": [
       "<Figure size 1100x600 with 1 Axes>"
      ]
     },
     "metadata": {},
     "output_type": "display_data"
    }
   ],
   "source": [
    "# Plot the distribution of Affected nodes inDegree values\n",
    "sns.histplot(affected_inDegree_data, bins=10).set(title='Distribution of Affected Nodes InDegree Values { (a:Affected)<-[]-() }')\n",
    "plt.show()"
   ]
  },
  {
   "cell_type": "code",
   "execution_count": 385,
   "id": "e92e95ee-fe28-4ac0-93c6-f53786d4dc79",
   "metadata": {
    "tags": []
   },
   "outputs": [
    {
     "data": {
      "text/plain": [
       "{'total': 1420,\n",
       " 'min': 1,\n",
       " '0.5': 2,\n",
       " 'stdev': 0.026527898875827273,\n",
       " '0.99': 2,\n",
       " 'minNonZero': 1.0,\n",
       " 'max': 2,\n",
       " '0.95': 2,\n",
       " 'mean': 1.9992957746478872,\n",
       " '0.9': 2,\n",
       " '0.75': 2}"
      ]
     },
     "execution_count": 385,
     "metadata": {},
     "output_type": "execute_result"
    }
   ],
   "source": [
    "# Use apoc.agg.statistics() to calculate the outDegree statistics of Affected nodes\n",
    "affected_outDegree_stats = gds.run_cypher('''\n",
    "    MATCH (a:Affected)\n",
    "    WITH a, \n",
    "      COUNT { (a)-[]->() } AS outDegree\n",
    "    RETURN apoc.agg.statistics(outDegree) AS stats\n",
    "    ''')\n",
    "\n",
    "affected_outDegree_stats['stats'][0]"
   ]
  },
  {
   "cell_type": "code",
   "execution_count": 386,
   "id": "dee15679-9e90-4eed-9d13-199678cf164c",
   "metadata": {
    "tags": []
   },
   "outputs": [
    {
     "data": {
      "text/plain": [
       "(1420, 1)"
      ]
     },
     "execution_count": 386,
     "metadata": {},
     "output_type": "execute_result"
    }
   ],
   "source": [
    "# Generate a pandas DataFrame for the outDegree of Affected nodes\n",
    "affected_outDegree_data = gds.run_cypher('''\n",
    "  MATCH (a:Affected)\n",
    "  WITH a \n",
    "  RETURN COUNT { (a)-[]->() } AS outDegree\n",
    "''')\n",
    "\n",
    "affected_outDegree_data.shape"
   ]
  },
  {
   "cell_type": "code",
   "execution_count": 387,
   "id": "3facd029-8adb-4208-bd67-b093375345d1",
   "metadata": {
    "tags": []
   },
   "outputs": [
    {
     "data": {
      "text/plain": [
       "count    1420.00\n",
       "mean        2.00\n",
       "std         0.03\n",
       "min         1.00\n",
       "25%         2.00\n",
       "50%         2.00\n",
       "75%         2.00\n",
       "90%         2.00\n",
       "95%         2.00\n",
       "99%         2.00\n",
       "max         2.00\n",
       "Name: outDegree, dtype: float64"
      ]
     },
     "execution_count": 387,
     "metadata": {},
     "output_type": "execute_result"
    }
   ],
   "source": [
    "# Generate statistics from an array of Affected nodes outDegree values using .describe() \n",
    "gen_apoc_stats(df=affected_outDegree_data, col='outDegree')"
   ]
  },
  {
   "cell_type": "code",
   "execution_count": 388,
   "id": "0a0e1e6b-3476-4f56-921c-a4546f9c5a87",
   "metadata": {
    "tags": []
   },
   "outputs": [
    {
     "data": {
      "image/png": "[encoded data removed]",
      "text/plain": [
       "<Figure size 1100x600 with 1 Axes>"
      ]
     },
     "metadata": {},
     "output_type": "display_data"
    }
   ],
   "source": [
    "# Plot the distribution of Affected nodes outDegree values\n",
    "sns.histplot(affected_outDegree_data, bins=10).set(title='Distribution of Affected Nodes OutDegree Values { (a:Affected)-[]->() }')\n",
    "plt.show()"
   ]
  },
  {
   "cell_type": "markdown",
   "id": "056676ed-c391-4ec1-98f8-c631e8e051c8",
   "metadata": {
    "tags": []
   },
   "source": [
    "## Article Nodes"
   ]
  },
  {
   "cell_type": "code",
   "execution_count": 389,
   "id": "7b40e5ea-4015-44bd-b9c3-d65a02c6dd17",
   "metadata": {
    "tags": []
   },
   "outputs": [
    {
     "data": {
      "text/plain": [
       "{'total': 89,\n",
       " 'min': 2,\n",
       " '0.5': 9,\n",
       " 'stdev': 31.558735616512188,\n",
       " '0.99': 115,\n",
       " 'minNonZero': 2.0,\n",
       " 'max': 162,\n",
       " '0.95': 96,\n",
       " 'mean': 23.662921348314608,\n",
       " '0.9': 69,\n",
       " '0.75': 21}"
      ]
     },
     "execution_count": 389,
     "metadata": {},
     "output_type": "execute_result"
    }
   ],
   "source": [
    "# Use apoc.agg.statistics() to calculate the inDegree statistics of Article nodes\n",
    "article_inDegree_stats = gds.run_cypher('''\n",
    "    MATCH (a:Article)\n",
    "    WITH a, \n",
    "      COUNT { (a)<-[]-() } AS inDegree\n",
    "    RETURN apoc.agg.statistics(inDegree) AS stats\n",
    "    ''')\n",
    "\n",
    "article_inDegree_stats['stats'][0]"
   ]
  },
  {
   "cell_type": "code",
   "execution_count": 390,
   "id": "c52b12b6-fbfa-498c-9747-0cef7340713a",
   "metadata": {
    "tags": []
   },
   "outputs": [
    {
     "data": {
      "text/plain": [
       "(89, 1)"
      ]
     },
     "execution_count": 390,
     "metadata": {},
     "output_type": "execute_result"
    }
   ],
   "source": [
    "# Generate a pandas DataFrame for the inDegree of Article nodes\n",
    "article_inDegree_data = gds.run_cypher('''\n",
    "  MATCH (a:Article)\n",
    "  WITH a \n",
    "  RETURN COUNT { (a)<-[]-() } AS inDegree\n",
    "''')\n",
    "\n",
    "article_inDegree_data.shape"
   ]
  },
  {
   "cell_type": "code",
   "execution_count": 391,
   "id": "0906eeab-fb4f-469d-bc8b-717f6158fbc8",
   "metadata": {
    "tags": []
   },
   "outputs": [
    {
     "data": {
      "text/plain": [
       "count     89.00\n",
       "mean      23.66\n",
       "std       31.74\n",
       "min        2.00\n",
       "25%        5.00\n",
       "50%        9.00\n",
       "75%       21.00\n",
       "90%       69.60\n",
       "95%       94.00\n",
       "99%      120.64\n",
       "max      162.00\n",
       "Name: inDegree, dtype: float64"
      ]
     },
     "execution_count": 391,
     "metadata": {},
     "output_type": "execute_result"
    }
   ],
   "source": [
    "# Generate statistics from an array of Article nodes inDegree values using .describe() \n",
    "gen_apoc_stats(df=article_inDegree_data, col='inDegree')"
   ]
  },
  {
   "cell_type": "code",
   "execution_count": 392,
   "id": "96696cee-7754-42df-9426-786faa266117",
   "metadata": {
    "tags": []
   },
   "outputs": [
    {
     "data": {
      "image/png": "[encoded data removed]",
      "text/plain": [
       "<Figure size 1100x600 with 1 Axes>"
      ]
     },
     "metadata": {},
     "output_type": "display_data"
    }
   ],
   "source": [
    "# Plot the distribution of Article nodes inDegree values\n",
    "sns.histplot(article_inDegree_data, bins=10).set(title='Distribution of Article Nodes InDegree Values { (a:Article)<-[]-() }')\n",
    "plt.show()"
   ]
  },
  {
   "cell_type": "code",
   "execution_count": 393,
   "id": "6a27eb03-fef9-4ca3-a282-6546938ff8a5",
   "metadata": {
    "tags": []
   },
   "outputs": [
    {
     "data": {
      "text/plain": [
       "{'total': 89,\n",
       " 'min': 0,\n",
       " '0.5': 0,\n",
       " 'stdev': 0.0,\n",
       " '0.99': 0,\n",
       " 'minNonZero': 9.223372036854776e+18,\n",
       " 'max': 0,\n",
       " '0.95': 0,\n",
       " 'mean': 0.0,\n",
       " '0.9': 0,\n",
       " '0.75': 0}"
      ]
     },
     "execution_count": 393,
     "metadata": {},
     "output_type": "execute_result"
    }
   ],
   "source": [
    "# Use apoc.agg.statistics() to calculate the outDegree statistics of Article nodes\n",
    "article_outDegree_stats = gds.run_cypher('''\n",
    "    MATCH (a:Article)\n",
    "    WITH a, \n",
    "      COUNT { (a)-[]->() } AS outDegree\n",
    "    RETURN apoc.agg.statistics(outDegree) AS stats\n",
    "    ''')\n",
    "\n",
    "article_outDegree_stats['stats'][0]"
   ]
  },
  {
   "cell_type": "code",
   "execution_count": 394,
   "id": "8e24b970-4a76-4eb1-9cff-fd5bde37734c",
   "metadata": {
    "tags": []
   },
   "outputs": [
    {
     "data": {
      "text/plain": [
       "(89, 1)"
      ]
     },
     "execution_count": 394,
     "metadata": {},
     "output_type": "execute_result"
    }
   ],
   "source": [
    "# Generate a pandas DataFrame for the outDegree of Article nodes\n",
    "article_outDegree_data = gds.run_cypher('''\n",
    "  MATCH (a:Article)\n",
    "  WITH a \n",
    "  RETURN COUNT { (a)-[]->() } AS outDegree\n",
    "''')\n",
    "\n",
    "article_outDegree_data.shape"
   ]
  },
  {
   "cell_type": "code",
   "execution_count": 395,
   "id": "1dd91c33-4d5d-4c51-98a8-55ac4107a55f",
   "metadata": {
    "tags": []
   },
   "outputs": [
    {
     "data": {
      "text/plain": [
       "count    89.0\n",
       "mean      0.0\n",
       "std       0.0\n",
       "min       0.0\n",
       "25%       0.0\n",
       "50%       0.0\n",
       "75%       0.0\n",
       "90%       0.0\n",
       "95%       0.0\n",
       "99%       0.0\n",
       "max       0.0\n",
       "Name: outDegree, dtype: float64"
      ]
     },
     "execution_count": 395,
     "metadata": {},
     "output_type": "execute_result"
    }
   ],
   "source": [
    "# Generate statistics from an array of Article nodes outDegree values using .describe() \n",
    "gen_apoc_stats(df=article_outDegree_data, col='outDegree')"
   ]
  },
  {
   "cell_type": "code",
   "execution_count": 396,
   "id": "eab56998-5e8a-4bdf-8fab-fa816bd1e32c",
   "metadata": {
    "tags": []
   },
   "outputs": [
    {
     "data": {
      "image/png": "[encoded data removed]",
      "text/plain": [
       "<Figure size 1100x600 with 1 Axes>"
      ]
     },
     "metadata": {},
     "output_type": "display_data"
    }
   ],
   "source": [
    "# Plot the distribution of Article nodes outDegree values\n",
    "sns.histplot(article_outDegree_data, bins=10).set(title='Distribution of Article Nodes OutDegree Values { (a:Article)-[]->() }')\n",
    "plt.show()"
   ]
  },
  {
   "cell_type": "markdown",
   "id": "cba66bf2-59fc-4c7c-bd93-9bbf7faeee51",
   "metadata": {},
   "source": [
    "# Analysis of Textmining Nodes"
   ]
  },
  {
   "cell_type": "markdown",
   "id": "29ef25c5-4aa7-4bab-8f40-d05db9b6cad4",
   "metadata": {
    "tags": []
   },
   "source": [
    "## Distinct dictionary terms mapped for Textmining nodes"
   ]
  },
  {
   "cell_type": "code",
   "execution_count": 397,
   "id": "fa38e269-96d0-4e14-b387-373a94a45e37",
   "metadata": {
    "tags": []
   },
   "outputs": [
    {
     "data": {
      "text/html": [
       "<div>\n",
       "<style scoped>\n",
       "    .dataframe tbody tr th:only-of-type {\n",
       "        vertical-align: middle;\n",
       "    }\n",
       "\n",
       "    .dataframe tbody tr th {\n",
       "        vertical-align: top;\n",
       "    }\n",
       "\n",
       "    .dataframe thead th {\n",
       "        text-align: right;\n",
       "    }\n",
       "</style>\n",
       "<table border=\"1\" class=\"dataframe\">\n",
       "  <thead>\n",
       "    <tr style=\"text-align: right;\">\n",
       "      <th></th>\n",
       "      <th>Term</th>\n",
       "      <th>Count</th>\n",
       "    </tr>\n",
       "  </thead>\n",
       "  <tbody>\n",
       "    <tr>\n",
       "      <th>0</th>\n",
       "      <td>growth</td>\n",
       "      <td>64</td>\n",
       "    </tr>\n",
       "    <tr>\n",
       "      <th>1</th>\n",
       "      <td>lactate</td>\n",
       "      <td>64</td>\n",
       "    </tr>\n",
       "    <tr>\n",
       "      <th>2</th>\n",
       "      <td>pH</td>\n",
       "      <td>63</td>\n",
       "    </tr>\n",
       "    <tr>\n",
       "      <th>3</th>\n",
       "      <td>glucose</td>\n",
       "      <td>59</td>\n",
       "    </tr>\n",
       "    <tr>\n",
       "      <th>4</th>\n",
       "      <td>glycosylation</td>\n",
       "      <td>51</td>\n",
       "    </tr>\n",
       "    <tr>\n",
       "      <th>5</th>\n",
       "      <td>cell growth</td>\n",
       "      <td>49</td>\n",
       "    </tr>\n",
       "    <tr>\n",
       "      <th>6</th>\n",
       "      <td>galactosylation</td>\n",
       "      <td>43</td>\n",
       "    </tr>\n",
       "    <tr>\n",
       "      <th>7</th>\n",
       "      <td>productivity</td>\n",
       "      <td>40</td>\n",
       "    </tr>\n",
       "    <tr>\n",
       "      <th>8</th>\n",
       "      <td>time</td>\n",
       "      <td>40</td>\n",
       "    </tr>\n",
       "    <tr>\n",
       "      <th>9</th>\n",
       "      <td>sialylation</td>\n",
       "      <td>40</td>\n",
       "    </tr>\n",
       "  </tbody>\n",
       "</table>\n",
       "</div>"
      ],
      "text/plain": [
       "              Term  Count\n",
       "0           growth     64\n",
       "1          lactate     64\n",
       "2               pH     63\n",
       "3          glucose     59\n",
       "4    glycosylation     51\n",
       "5      cell growth     49\n",
       "6  galactosylation     43\n",
       "7     productivity     40\n",
       "8             time     40\n",
       "9      sialylation     40"
      ]
     },
     "execution_count": 397,
     "metadata": {},
     "output_type": "execute_result"
    }
   ],
   "source": [
    "# Top 10 of distinct dictionary terms mapped for TextMining nodes\n",
    "gds.run_cypher('''\n",
    "  MATCH (t:TextMining)\n",
    "  WHERE t.term IS NOT NULL\n",
    "  RETURN t.term AS Term, COUNT(t.term) AS Count\n",
    "  ORDER BY Count DESC LIMIT 10\n",
    "''')"
   ]
  },
  {
   "cell_type": "markdown",
   "id": "60bde1ae-a862-437d-ac86-c31ff4d6d36d",
   "metadata": {
    "tags": []
   },
   "source": [
    "## Distinct dictionary concepts mapped for Textmining nodes"
   ]
  },
  {
   "cell_type": "code",
   "execution_count": 398,
   "id": "70a74e50-8dc5-4a8a-b9ae-e457948a4835",
   "metadata": {},
   "outputs": [
    {
     "data": {
      "text/html": [
       "<div>\n",
       "<style scoped>\n",
       "    .dataframe tbody tr th:only-of-type {\n",
       "        vertical-align: middle;\n",
       "    }\n",
       "\n",
       "    .dataframe tbody tr th {\n",
       "        vertical-align: top;\n",
       "    }\n",
       "\n",
       "    .dataframe thead th {\n",
       "        text-align: right;\n",
       "    }\n",
       "</style>\n",
       "<table border=\"1\" class=\"dataframe\">\n",
       "  <thead>\n",
       "    <tr style=\"text-align: right;\">\n",
       "      <th></th>\n",
       "      <th>COID</th>\n",
       "      <th>CanonicalName</th>\n",
       "      <th>Count</th>\n",
       "    </tr>\n",
       "  </thead>\n",
       "  <tbody>\n",
       "    <tr>\n",
       "      <th>0</th>\n",
       "      <td>COID250920</td>\n",
       "      <td>lactate</td>\n",
       "      <td>68</td>\n",
       "    </tr>\n",
       "    <tr>\n",
       "      <th>1</th>\n",
       "      <td>COID367406</td>\n",
       "      <td>glucose</td>\n",
       "      <td>66</td>\n",
       "    </tr>\n",
       "    <tr>\n",
       "      <th>2</th>\n",
       "      <td>COID702829</td>\n",
       "      <td>cell line</td>\n",
       "      <td>65</td>\n",
       "    </tr>\n",
       "    <tr>\n",
       "      <th>3</th>\n",
       "      <td>COID731421</td>\n",
       "      <td>productivity</td>\n",
       "      <td>64</td>\n",
       "    </tr>\n",
       "    <tr>\n",
       "      <th>4</th>\n",
       "      <td>COID203666</td>\n",
       "      <td>growth</td>\n",
       "      <td>64</td>\n",
       "    </tr>\n",
       "    <tr>\n",
       "      <th>5</th>\n",
       "      <td>COID893209</td>\n",
       "      <td>ph</td>\n",
       "      <td>63</td>\n",
       "    </tr>\n",
       "    <tr>\n",
       "      <th>6</th>\n",
       "      <td>COID278523</td>\n",
       "      <td>antibody</td>\n",
       "      <td>60</td>\n",
       "    </tr>\n",
       "    <tr>\n",
       "      <th>7</th>\n",
       "      <td>COID626759</td>\n",
       "      <td>glycan</td>\n",
       "      <td>55</td>\n",
       "    </tr>\n",
       "    <tr>\n",
       "      <th>8</th>\n",
       "      <td>COID119643</td>\n",
       "      <td>glycosylation</td>\n",
       "      <td>54</td>\n",
       "    </tr>\n",
       "    <tr>\n",
       "      <th>9</th>\n",
       "      <td>COID242255</td>\n",
       "      <td>monoclonal antibody</td>\n",
       "      <td>51</td>\n",
       "    </tr>\n",
       "  </tbody>\n",
       "</table>\n",
       "</div>"
      ],
      "text/plain": [
       "         COID        CanonicalName  Count\n",
       "0  COID250920              lactate     68\n",
       "1  COID367406              glucose     66\n",
       "2  COID702829            cell line     65\n",
       "3  COID731421         productivity     64\n",
       "4  COID203666               growth     64\n",
       "5  COID893209                   ph     63\n",
       "6  COID278523             antibody     60\n",
       "7  COID626759               glycan     55\n",
       "8  COID119643        glycosylation     54\n",
       "9  COID242255  monoclonal antibody     51"
      ]
     },
     "execution_count": 398,
     "metadata": {},
     "output_type": "execute_result"
    }
   ],
   "source": [
    "# Top 10 of distinct dictionary concepts mapped for TextMining nodes\n",
    "gds.run_cypher('''\n",
    "    MATCH (t:TextMining)-[:HAS_CANONICAL_NAME]->(dc:DictionaryConcept)\n",
    "    RETURN dc.id AS COID , dc.canonical_name AS CanonicalName, count(dc.canonical_name) AS Count\n",
    "    ORDER BY Count DESC LIMIT 10\n",
    "''')"
   ]
  },
  {
   "cell_type": "markdown",
   "id": "d23e51fc-10c7-407d-94c9-95aeda941310",
   "metadata": {
    "tags": []
   },
   "source": [
    "## Distinct ontological concepts mapped for Textmining nodes"
   ]
  },
  {
   "cell_type": "code",
   "execution_count": 399,
   "id": "0b42ccf2-c3f7-4f6c-a2d1-3fe711631057",
   "metadata": {},
   "outputs": [
    {
     "data": {
      "text/html": [
       "<div>\n",
       "<style scoped>\n",
       "    .dataframe tbody tr th:only-of-type {\n",
       "        vertical-align: middle;\n",
       "    }\n",
       "\n",
       "    .dataframe tbody tr th {\n",
       "        vertical-align: top;\n",
       "    }\n",
       "\n",
       "    .dataframe thead th {\n",
       "        text-align: right;\n",
       "    }\n",
       "</style>\n",
       "<table border=\"1\" class=\"dataframe\">\n",
       "  <thead>\n",
       "    <tr style=\"text-align: right;\">\n",
       "      <th></th>\n",
       "      <th>OntoID</th>\n",
       "      <th>OntoName</th>\n",
       "      <th>Count</th>\n",
       "    </tr>\n",
       "  </thead>\n",
       "  <tbody>\n",
       "    <tr>\n",
       "      <th>0</th>\n",
       "      <td>C27</td>\n",
       "      <td>sugar</td>\n",
       "      <td>340</td>\n",
       "    </tr>\n",
       "    <tr>\n",
       "      <th>1</th>\n",
       "      <td>C61</td>\n",
       "      <td>glycosylation</td>\n",
       "      <td>214</td>\n",
       "    </tr>\n",
       "    <tr>\n",
       "      <th>2</th>\n",
       "      <td>C15</td>\n",
       "      <td>cell culture parameters</td>\n",
       "      <td>203</td>\n",
       "    </tr>\n",
       "    <tr>\n",
       "      <th>3</th>\n",
       "      <td>C11</td>\n",
       "      <td>process parameters or process control</td>\n",
       "      <td>150</td>\n",
       "    </tr>\n",
       "    <tr>\n",
       "      <th>4</th>\n",
       "      <td>C19</td>\n",
       "      <td>process condition</td>\n",
       "      <td>116</td>\n",
       "    </tr>\n",
       "    <tr>\n",
       "      <th>5</th>\n",
       "      <td>C24</td>\n",
       "      <td>clinical outcomes</td>\n",
       "      <td>113</td>\n",
       "    </tr>\n",
       "    <tr>\n",
       "      <th>6</th>\n",
       "      <td>C14</td>\n",
       "      <td>bioreactor conditions</td>\n",
       "      <td>108</td>\n",
       "    </tr>\n",
       "    <tr>\n",
       "      <th>7</th>\n",
       "      <td>C63</td>\n",
       "      <td>antibody</td>\n",
       "      <td>102</td>\n",
       "    </tr>\n",
       "    <tr>\n",
       "      <th>8</th>\n",
       "      <td>C9</td>\n",
       "      <td>by-product or waste</td>\n",
       "      <td>86</td>\n",
       "    </tr>\n",
       "    <tr>\n",
       "      <th>9</th>\n",
       "      <td>C43</td>\n",
       "      <td>media characteristics</td>\n",
       "      <td>75</td>\n",
       "    </tr>\n",
       "  </tbody>\n",
       "</table>\n",
       "</div>"
      ],
      "text/plain": [
       "  OntoID                               OntoName  Count\n",
       "0    C27                                  sugar    340\n",
       "1    C61                          glycosylation    214\n",
       "2    C15                cell culture parameters    203\n",
       "3    C11  process parameters or process control    150\n",
       "4    C19                      process condition    116\n",
       "5    C24                      clinical outcomes    113\n",
       "6    C14                  bioreactor conditions    108\n",
       "7    C63                               antibody    102\n",
       "8     C9                    by-product or waste     86\n",
       "9    C43                  media characteristics     75"
      ]
     },
     "execution_count": 399,
     "metadata": {},
     "output_type": "execute_result"
    }
   ],
   "source": [
    "# Top 10 of distinct ontological concepts mapped for TextMining nodes\n",
    "gds.run_cypher('''\n",
    "    MATCH (t:TextMining)-[:HAS_CANONICAL_NAME]->(dc:DictionaryConcept)-[:IS_INSTANCE_OF]->(oc:OntologicalConcept)\n",
    "    RETURN oc.id AS OntoID,  oc.name AS OntoName, count(oc.id) AS Count\n",
    "    ORDER BY Count DESC LIMIT 10\n",
    "''')"
   ]
  },
  {
   "cell_type": "markdown",
   "id": "299e0cce-582c-45be-bc8a-4f6b20acb704",
   "metadata": {},
   "source": [
    "# Analysis of Effector Nodes"
   ]
  },
  {
   "cell_type": "markdown",
   "id": "0665426f-9c5d-400e-8b48-5467e2b37185",
   "metadata": {
    "tags": []
   },
   "source": [
    "## Distinct terms mapped for Effector nodes"
   ]
  },
  {
   "cell_type": "code",
   "execution_count": null,
   "id": "805341e8",
   "metadata": {
    "tags": []
   },
   "outputs": [],
   "source": [
    "# Top 10 of distinct terms mapped for Effector nodes\n",
    "gds.run_cypher('''\n",
    "  MATCH (t:Effector)\n",
    "  WHERE t.term IS NOT NULL\n",
    "  RETURN t.term AS Term, COUNT(t.term) AS Count\n",
    "  ORDER BY Count DESC LIMIT 10\n",
    "''')"
   ]
  },
  {
   "cell_type": "markdown",
   "id": "7c504810-8732-43d0-b0ed-62ca5092cf30",
   "metadata": {},
   "source": [
    "## Distinct dictionary concepts mapped for Effector nodes"
   ]
  },
  {
   "cell_type": "code",
   "execution_count": 401,
   "id": "3f3cbdf7-e8e8-4619-af3c-41ee091cc28e",
   "metadata": {},
   "outputs": [
    {
     "data": {
      "text/html": [
       "<div>\n",
       "<style scoped>\n",
       "    .dataframe tbody tr th:only-of-type {\n",
       "        vertical-align: middle;\n",
       "    }\n",
       "\n",
       "    .dataframe tbody tr th {\n",
       "        vertical-align: top;\n",
       "    }\n",
       "\n",
       "    .dataframe thead th {\n",
       "        text-align: right;\n",
       "    }\n",
       "</style>\n",
       "<table border=\"1\" class=\"dataframe\">\n",
       "  <thead>\n",
       "    <tr style=\"text-align: right;\">\n",
       "      <th></th>\n",
       "      <th>COID</th>\n",
       "      <th>CanonicalName</th>\n",
       "      <th>Count</th>\n",
       "    </tr>\n",
       "  </thead>\n",
       "  <tbody>\n",
       "    <tr>\n",
       "      <th>0</th>\n",
       "      <td>COID893209</td>\n",
       "      <td>ph</td>\n",
       "      <td>45</td>\n",
       "    </tr>\n",
       "    <tr>\n",
       "      <th>1</th>\n",
       "      <td>COID702829</td>\n",
       "      <td>cell line</td>\n",
       "      <td>42</td>\n",
       "    </tr>\n",
       "    <tr>\n",
       "      <th>2</th>\n",
       "      <td>COID250920</td>\n",
       "      <td>lactate</td>\n",
       "      <td>32</td>\n",
       "    </tr>\n",
       "    <tr>\n",
       "      <th>3</th>\n",
       "      <td>COID367406</td>\n",
       "      <td>glucose</td>\n",
       "      <td>32</td>\n",
       "    </tr>\n",
       "    <tr>\n",
       "      <th>4</th>\n",
       "      <td>COID626759</td>\n",
       "      <td>glycan</td>\n",
       "      <td>29</td>\n",
       "    </tr>\n",
       "    <tr>\n",
       "      <th>5</th>\n",
       "      <td>COID913636</td>\n",
       "      <td>media</td>\n",
       "      <td>25</td>\n",
       "    </tr>\n",
       "    <tr>\n",
       "      <th>6</th>\n",
       "      <td>COID806780</td>\n",
       "      <td>CHO</td>\n",
       "      <td>25</td>\n",
       "    </tr>\n",
       "    <tr>\n",
       "      <th>7</th>\n",
       "      <td>COID742277</td>\n",
       "      <td>time</td>\n",
       "      <td>24</td>\n",
       "    </tr>\n",
       "    <tr>\n",
       "      <th>8</th>\n",
       "      <td>COID921897</td>\n",
       "      <td>medium</td>\n",
       "      <td>22</td>\n",
       "    </tr>\n",
       "    <tr>\n",
       "      <th>9</th>\n",
       "      <td>COID203666</td>\n",
       "      <td>growth</td>\n",
       "      <td>20</td>\n",
       "    </tr>\n",
       "  </tbody>\n",
       "</table>\n",
       "</div>"
      ],
      "text/plain": [
       "         COID CanonicalName  Count\n",
       "0  COID893209            ph     45\n",
       "1  COID702829     cell line     42\n",
       "2  COID250920       lactate     32\n",
       "3  COID367406       glucose     32\n",
       "4  COID626759        glycan     29\n",
       "5  COID913636         media     25\n",
       "6  COID806780           CHO     25\n",
       "7  COID742277          time     24\n",
       "8  COID921897        medium     22\n",
       "9  COID203666        growth     20"
      ]
     },
     "execution_count": 401,
     "metadata": {},
     "output_type": "execute_result"
    }
   ],
   "source": [
    "# Top 10 of distinct dictionary concepts mapped for Effector nodes\n",
    "gds.run_cypher('''\n",
    "    MATCH (e:Effector)-[:HAS_CANONICAL_NAME]->(dc:DictionaryConcept)\n",
    "    RETURN dc.id AS COID , dc.canonical_name AS CanonicalName, count(dc.canonical_name) AS Count\n",
    "    ORDER BY Count DESC LIMIT 10\n",
    "''')"
   ]
  },
  {
   "cell_type": "markdown",
   "id": "34f5e5be-d0c1-4739-8c93-6d34764b2cd9",
   "metadata": {},
   "source": [
    "## Distinct ontological concepts mapped for Effector nodes"
   ]
  },
  {
   "cell_type": "code",
   "execution_count": 402,
   "id": "097c0864-047b-4aa5-9812-4c5b48d3fbce",
   "metadata": {
    "tags": []
   },
   "outputs": [
    {
     "data": {
      "text/html": [
       "<div>\n",
       "<style scoped>\n",
       "    .dataframe tbody tr th:only-of-type {\n",
       "        vertical-align: middle;\n",
       "    }\n",
       "\n",
       "    .dataframe tbody tr th {\n",
       "        vertical-align: top;\n",
       "    }\n",
       "\n",
       "    .dataframe thead th {\n",
       "        text-align: right;\n",
       "    }\n",
       "</style>\n",
       "<table border=\"1\" class=\"dataframe\">\n",
       "  <thead>\n",
       "    <tr style=\"text-align: right;\">\n",
       "      <th></th>\n",
       "      <th>OntoID</th>\n",
       "      <th>OntoName</th>\n",
       "      <th>Count</th>\n",
       "    </tr>\n",
       "  </thead>\n",
       "  <tbody>\n",
       "    <tr>\n",
       "      <th>0</th>\n",
       "      <td>C27</td>\n",
       "      <td>sugar</td>\n",
       "      <td>162</td>\n",
       "    </tr>\n",
       "    <tr>\n",
       "      <th>1</th>\n",
       "      <td>C11</td>\n",
       "      <td>process parameters or process control</td>\n",
       "      <td>77</td>\n",
       "    </tr>\n",
       "    <tr>\n",
       "      <th>2</th>\n",
       "      <td>C14</td>\n",
       "      <td>bioreactor conditions</td>\n",
       "      <td>74</td>\n",
       "    </tr>\n",
       "    <tr>\n",
       "      <th>3</th>\n",
       "      <td>C61</td>\n",
       "      <td>glycosylation</td>\n",
       "      <td>70</td>\n",
       "    </tr>\n",
       "    <tr>\n",
       "      <th>4</th>\n",
       "      <td>C15</td>\n",
       "      <td>cell culture parameters</td>\n",
       "      <td>69</td>\n",
       "    </tr>\n",
       "    <tr>\n",
       "      <th>5</th>\n",
       "      <td>C43</td>\n",
       "      <td>media characteristics</td>\n",
       "      <td>62</td>\n",
       "    </tr>\n",
       "    <tr>\n",
       "      <th>6</th>\n",
       "      <td>C25</td>\n",
       "      <td>secondary raw materials</td>\n",
       "      <td>55</td>\n",
       "    </tr>\n",
       "    <tr>\n",
       "      <th>7</th>\n",
       "      <td>C56</td>\n",
       "      <td>cell line</td>\n",
       "      <td>45</td>\n",
       "    </tr>\n",
       "    <tr>\n",
       "      <th>8</th>\n",
       "      <td>C9</td>\n",
       "      <td>by-product or waste</td>\n",
       "      <td>43</td>\n",
       "    </tr>\n",
       "    <tr>\n",
       "      <th>9</th>\n",
       "      <td>C12</td>\n",
       "      <td>vessel or process parameter or production scale</td>\n",
       "      <td>42</td>\n",
       "    </tr>\n",
       "  </tbody>\n",
       "</table>\n",
       "</div>"
      ],
      "text/plain": [
       "  OntoID                                         OntoName  Count\n",
       "0    C27                                            sugar    162\n",
       "1    C11            process parameters or process control     77\n",
       "2    C14                            bioreactor conditions     74\n",
       "3    C61                                    glycosylation     70\n",
       "4    C15                          cell culture parameters     69\n",
       "5    C43                            media characteristics     62\n",
       "6    C25                          secondary raw materials     55\n",
       "7    C56                                        cell line     45\n",
       "8     C9                              by-product or waste     43\n",
       "9    C12  vessel or process parameter or production scale     42"
      ]
     },
     "execution_count": 402,
     "metadata": {},
     "output_type": "execute_result"
    }
   ],
   "source": [
    "# Top 10 of distinct ontological concepts mapped for Effector nodes\n",
    "gds.run_cypher('''\n",
    "    MATCH (e:Effector)-[:HAS_CANONICAL_NAME]->(dc:DictionaryConcept)-[:IS_INSTANCE_OF]->(oc:OntologicalConcept)\n",
    "    RETURN oc.id AS OntoID,  oc.name AS OntoName, count(oc.id) AS Count\n",
    "    ORDER BY Count DESC LIMIT 10\n",
    "''')"
   ]
  },
  {
   "cell_type": "markdown",
   "id": "d83c7224-42bb-45c8-ac46-75b843684310",
   "metadata": {},
   "source": [
    "# Analysis of Affected Nodes"
   ]
  },
  {
   "cell_type": "markdown",
   "id": "3c794ec7-76ea-4ae8-bf24-b25503df6f66",
   "metadata": {},
   "source": [
    "## Distinct terms mapped for Affected nodes"
   ]
  },
  {
   "cell_type": "code",
   "execution_count": 403,
   "id": "b311a3b4-83ca-4bf2-86ee-e80271457dbd",
   "metadata": {
    "tags": []
   },
   "outputs": [
    {
     "data": {
      "text/html": [
       "<div>\n",
       "<style scoped>\n",
       "    .dataframe tbody tr th:only-of-type {\n",
       "        vertical-align: middle;\n",
       "    }\n",
       "\n",
       "    .dataframe tbody tr th {\n",
       "        vertical-align: top;\n",
       "    }\n",
       "\n",
       "    .dataframe thead th {\n",
       "        text-align: right;\n",
       "    }\n",
       "</style>\n",
       "<table border=\"1\" class=\"dataframe\">\n",
       "  <thead>\n",
       "    <tr style=\"text-align: right;\">\n",
       "      <th></th>\n",
       "      <th>Term</th>\n",
       "      <th>Count</th>\n",
       "    </tr>\n",
       "  </thead>\n",
       "  <tbody>\n",
       "    <tr>\n",
       "      <th>0</th>\n",
       "      <td>growth</td>\n",
       "      <td>44</td>\n",
       "    </tr>\n",
       "    <tr>\n",
       "      <th>1</th>\n",
       "      <td>glycosylation</td>\n",
       "      <td>43</td>\n",
       "    </tr>\n",
       "    <tr>\n",
       "      <th>2</th>\n",
       "      <td>cell growth</td>\n",
       "      <td>39</td>\n",
       "    </tr>\n",
       "    <tr>\n",
       "      <th>3</th>\n",
       "      <td>lactate</td>\n",
       "      <td>34</td>\n",
       "    </tr>\n",
       "    <tr>\n",
       "      <th>4</th>\n",
       "      <td>productivity</td>\n",
       "      <td>33</td>\n",
       "    </tr>\n",
       "    <tr>\n",
       "      <th>5</th>\n",
       "      <td>glucose</td>\n",
       "      <td>30</td>\n",
       "    </tr>\n",
       "    <tr>\n",
       "      <th>6</th>\n",
       "      <td>galactosylation</td>\n",
       "      <td>29</td>\n",
       "    </tr>\n",
       "    <tr>\n",
       "      <th>7</th>\n",
       "      <td>sialylation</td>\n",
       "      <td>28</td>\n",
       "    </tr>\n",
       "    <tr>\n",
       "      <th>8</th>\n",
       "      <td>antibody</td>\n",
       "      <td>28</td>\n",
       "    </tr>\n",
       "    <tr>\n",
       "      <th>9</th>\n",
       "      <td>IgG</td>\n",
       "      <td>23</td>\n",
       "    </tr>\n",
       "  </tbody>\n",
       "</table>\n",
       "</div>"
      ],
      "text/plain": [
       "              Term  Count\n",
       "0           growth     44\n",
       "1    glycosylation     43\n",
       "2      cell growth     39\n",
       "3          lactate     34\n",
       "4     productivity     33\n",
       "5          glucose     30\n",
       "6  galactosylation     29\n",
       "7      sialylation     28\n",
       "8         antibody     28\n",
       "9              IgG     23"
      ]
     },
     "execution_count": 403,
     "metadata": {},
     "output_type": "execute_result"
    }
   ],
   "source": [
    "# Top 10 of distinct dictionary terms mapped for Affected nodes\n",
    "gds.run_cypher('''\n",
    "  MATCH (a:Affected)\n",
    "  WHERE a.term IS NOT NULL\n",
    "  RETURN a.term AS Term, COUNT(a.term) AS Count\n",
    "  ORDER BY Count DESC LIMIT 10\n",
    "''')"
   ]
  },
  {
   "cell_type": "markdown",
   "id": "f2f06024-7547-4d63-8230-50675de4b04a",
   "metadata": {},
   "source": [
    "## Distinct dictionary concepts of Affectd nodes"
   ]
  },
  {
   "cell_type": "code",
   "execution_count": 404,
   "id": "7a4300fd-4564-44de-a843-c205abb9f339",
   "metadata": {},
   "outputs": [
    {
     "data": {
      "text/html": [
       "<div>\n",
       "<style scoped>\n",
       "    .dataframe tbody tr th:only-of-type {\n",
       "        vertical-align: middle;\n",
       "    }\n",
       "\n",
       "    .dataframe tbody tr th {\n",
       "        vertical-align: top;\n",
       "    }\n",
       "\n",
       "    .dataframe thead th {\n",
       "        text-align: right;\n",
       "    }\n",
       "</style>\n",
       "<table border=\"1\" class=\"dataframe\">\n",
       "  <thead>\n",
       "    <tr style=\"text-align: right;\">\n",
       "      <th></th>\n",
       "      <th>COID</th>\n",
       "      <th>CanonicalName</th>\n",
       "      <th>Count</th>\n",
       "    </tr>\n",
       "  </thead>\n",
       "  <tbody>\n",
       "    <tr>\n",
       "      <th>0</th>\n",
       "      <td>COID731421</td>\n",
       "      <td>productivity</td>\n",
       "      <td>49</td>\n",
       "    </tr>\n",
       "    <tr>\n",
       "      <th>1</th>\n",
       "      <td>COID278523</td>\n",
       "      <td>antibody</td>\n",
       "      <td>45</td>\n",
       "    </tr>\n",
       "    <tr>\n",
       "      <th>2</th>\n",
       "      <td>COID203666</td>\n",
       "      <td>growth</td>\n",
       "      <td>44</td>\n",
       "    </tr>\n",
       "    <tr>\n",
       "      <th>3</th>\n",
       "      <td>COID119643</td>\n",
       "      <td>glycosylation</td>\n",
       "      <td>44</td>\n",
       "    </tr>\n",
       "    <tr>\n",
       "      <th>4</th>\n",
       "      <td>COID093598</td>\n",
       "      <td>cell growth</td>\n",
       "      <td>40</td>\n",
       "    </tr>\n",
       "    <tr>\n",
       "      <th>5</th>\n",
       "      <td>COID250920</td>\n",
       "      <td>lactate</td>\n",
       "      <td>36</td>\n",
       "    </tr>\n",
       "    <tr>\n",
       "      <th>6</th>\n",
       "      <td>COID367406</td>\n",
       "      <td>glucose</td>\n",
       "      <td>34</td>\n",
       "    </tr>\n",
       "    <tr>\n",
       "      <th>7</th>\n",
       "      <td>COID242255</td>\n",
       "      <td>monoclonal antibody</td>\n",
       "      <td>32</td>\n",
       "    </tr>\n",
       "    <tr>\n",
       "      <th>8</th>\n",
       "      <td>COID475750</td>\n",
       "      <td>galactosylation</td>\n",
       "      <td>30</td>\n",
       "    </tr>\n",
       "    <tr>\n",
       "      <th>9</th>\n",
       "      <td>COID713543</td>\n",
       "      <td>immunoglobulin</td>\n",
       "      <td>29</td>\n",
       "    </tr>\n",
       "  </tbody>\n",
       "</table>\n",
       "</div>"
      ],
      "text/plain": [
       "         COID        CanonicalName  Count\n",
       "0  COID731421         productivity     49\n",
       "1  COID278523             antibody     45\n",
       "2  COID203666               growth     44\n",
       "3  COID119643        glycosylation     44\n",
       "4  COID093598          cell growth     40\n",
       "5  COID250920              lactate     36\n",
       "6  COID367406              glucose     34\n",
       "7  COID242255  monoclonal antibody     32\n",
       "8  COID475750      galactosylation     30\n",
       "9  COID713543       immunoglobulin     29"
      ]
     },
     "execution_count": 404,
     "metadata": {},
     "output_type": "execute_result"
    }
   ],
   "source": [
    "# Top 10 of distinct dictionary concepts mapped for Effector nodes\n",
    "gds.run_cypher('''\n",
    "    MATCH (a:Affected)-[:HAS_CANONICAL_NAME]->(dc:DictionaryConcept)\n",
    "    RETURN dc.id AS COID , dc.canonical_name AS CanonicalName, count(dc.canonical_name) AS Count\n",
    "    ORDER BY Count DESC LIMIT 10\n",
    "''')"
   ]
  },
  {
   "cell_type": "markdown",
   "id": "4a09381a-3217-4dbc-952c-1a3c946cf82f",
   "metadata": {},
   "source": [
    "## Distinct ontological concepts mapped for Affected nodes"
   ]
  },
  {
   "cell_type": "code",
   "execution_count": 405,
   "id": "85381e5f-864a-41aa-95fb-d95e790d2d8b",
   "metadata": {
    "tags": []
   },
   "outputs": [
    {
     "data": {
      "text/html": [
       "<div>\n",
       "<style scoped>\n",
       "    .dataframe tbody tr th:only-of-type {\n",
       "        vertical-align: middle;\n",
       "    }\n",
       "\n",
       "    .dataframe tbody tr th {\n",
       "        vertical-align: top;\n",
       "    }\n",
       "\n",
       "    .dataframe thead th {\n",
       "        text-align: right;\n",
       "    }\n",
       "</style>\n",
       "<table border=\"1\" class=\"dataframe\">\n",
       "  <thead>\n",
       "    <tr style=\"text-align: right;\">\n",
       "      <th></th>\n",
       "      <th>OntoID</th>\n",
       "      <th>OntoName</th>\n",
       "      <th>Count</th>\n",
       "    </tr>\n",
       "  </thead>\n",
       "  <tbody>\n",
       "    <tr>\n",
       "      <th>0</th>\n",
       "      <td>C27</td>\n",
       "      <td>sugar</td>\n",
       "      <td>178</td>\n",
       "    </tr>\n",
       "    <tr>\n",
       "      <th>1</th>\n",
       "      <td>C61</td>\n",
       "      <td>glycosylation</td>\n",
       "      <td>144</td>\n",
       "    </tr>\n",
       "    <tr>\n",
       "      <th>2</th>\n",
       "      <td>C15</td>\n",
       "      <td>cell culture parameters</td>\n",
       "      <td>134</td>\n",
       "    </tr>\n",
       "    <tr>\n",
       "      <th>3</th>\n",
       "      <td>C24</td>\n",
       "      <td>clinical outcomes</td>\n",
       "      <td>84</td>\n",
       "    </tr>\n",
       "    <tr>\n",
       "      <th>4</th>\n",
       "      <td>C19</td>\n",
       "      <td>process condition</td>\n",
       "      <td>76</td>\n",
       "    </tr>\n",
       "    <tr>\n",
       "      <th>5</th>\n",
       "      <td>C63</td>\n",
       "      <td>antibody</td>\n",
       "      <td>75</td>\n",
       "    </tr>\n",
       "    <tr>\n",
       "      <th>6</th>\n",
       "      <td>C11</td>\n",
       "      <td>process parameters or process control</td>\n",
       "      <td>73</td>\n",
       "    </tr>\n",
       "    <tr>\n",
       "      <th>7</th>\n",
       "      <td>C51</td>\n",
       "      <td>product quality attributes</td>\n",
       "      <td>61</td>\n",
       "    </tr>\n",
       "    <tr>\n",
       "      <th>8</th>\n",
       "      <td>C9</td>\n",
       "      <td>by-product or waste</td>\n",
       "      <td>43</td>\n",
       "    </tr>\n",
       "    <tr>\n",
       "      <th>9</th>\n",
       "      <td>C54</td>\n",
       "      <td>monoclonal antibody</td>\n",
       "      <td>43</td>\n",
       "    </tr>\n",
       "  </tbody>\n",
       "</table>\n",
       "</div>"
      ],
      "text/plain": [
       "  OntoID                               OntoName  Count\n",
       "0    C27                                  sugar    178\n",
       "1    C61                          glycosylation    144\n",
       "2    C15                cell culture parameters    134\n",
       "3    C24                      clinical outcomes     84\n",
       "4    C19                      process condition     76\n",
       "5    C63                               antibody     75\n",
       "6    C11  process parameters or process control     73\n",
       "7    C51             product quality attributes     61\n",
       "8     C9                    by-product or waste     43\n",
       "9    C54                    monoclonal antibody     43"
      ]
     },
     "execution_count": 405,
     "metadata": {},
     "output_type": "execute_result"
    }
   ],
   "source": [
    "# Top 10 of distinct ontological concepts mapped for Affected nodes\n",
    "gds.run_cypher('''\n",
    "    MATCH (a:Affected)-[:HAS_CANONICAL_NAME]->(dc:DictionaryConcept)-[:IS_INSTANCE_OF]->(oc:OntologicalConcept)\n",
    "    RETURN oc.id AS OntoID,  oc.name AS OntoName, count(oc.id) AS Count\n",
    "    ORDER BY Count DESC LIMIT 10\n",
    "''')"
   ]
  },
  {
   "cell_type": "markdown",
   "id": "51d48391-fb1a-4dde-97df-2f3da6297a2e",
   "metadata": {},
   "source": [
    "# Analysis of Article Nodes"
   ]
  },
  {
   "cell_type": "markdown",
   "id": "ffd9c422-7aa6-4310-8e9c-2bfdb0d893fc",
   "metadata": {},
   "source": [
    "## Distinct years of Article nodes"
   ]
  },
  {
   "cell_type": "code",
   "execution_count": 406,
   "id": "16ccc172-6cf7-401e-8097-e650b823f54b",
   "metadata": {
    "tags": []
   },
   "outputs": [
    {
     "data": {
      "text/html": [
       "<div>\n",
       "<style scoped>\n",
       "    .dataframe tbody tr th:only-of-type {\n",
       "        vertical-align: middle;\n",
       "    }\n",
       "\n",
       "    .dataframe tbody tr th {\n",
       "        vertical-align: top;\n",
       "    }\n",
       "\n",
       "    .dataframe thead th {\n",
       "        text-align: right;\n",
       "    }\n",
       "</style>\n",
       "<table border=\"1\" class=\"dataframe\">\n",
       "  <thead>\n",
       "    <tr style=\"text-align: right;\">\n",
       "      <th></th>\n",
       "      <th>Year</th>\n",
       "      <th>Count</th>\n",
       "    </tr>\n",
       "  </thead>\n",
       "  <tbody>\n",
       "    <tr>\n",
       "      <th>0</th>\n",
       "      <td>2019</td>\n",
       "      <td>13</td>\n",
       "    </tr>\n",
       "    <tr>\n",
       "      <th>1</th>\n",
       "      <td>2018</td>\n",
       "      <td>12</td>\n",
       "    </tr>\n",
       "    <tr>\n",
       "      <th>2</th>\n",
       "      <td>2021</td>\n",
       "      <td>10</td>\n",
       "    </tr>\n",
       "    <tr>\n",
       "      <th>3</th>\n",
       "      <td>2014</td>\n",
       "      <td>9</td>\n",
       "    </tr>\n",
       "    <tr>\n",
       "      <th>4</th>\n",
       "      <td>2016</td>\n",
       "      <td>8</td>\n",
       "    </tr>\n",
       "  </tbody>\n",
       "</table>\n",
       "</div>"
      ],
      "text/plain": [
       "   Year  Count\n",
       "0  2019     13\n",
       "1  2018     12\n",
       "2  2021     10\n",
       "3  2014      9\n",
       "4  2016      8"
      ]
     },
     "execution_count": 406,
     "metadata": {},
     "output_type": "execute_result"
    }
   ],
   "source": [
    "# Count of distinct years of Article nodes\n",
    "gds.run_cypher('''\n",
    "  MATCH (a:Article)\n",
    "  RETURN a.year AS Year, COUNT(a.year) AS Count\n",
    "  ORDER BY Count DESC limit 10\n",
    "''')"
   ]
  },
  {
   "cell_type": "markdown",
   "id": "649c140b-4e7d-44e3-bb62-66abe5a8e81a",
   "metadata": {
    "tags": []
   },
   "source": [
    "## Distinct journals of Article nodes"
   ]
  },
  {
   "cell_type": "code",
   "execution_count": 407,
   "id": "18dc87ca-7e54-45e6-9fb1-3f248f639423",
   "metadata": {
    "tags": []
   },
   "outputs": [
    {
     "data": {
      "text/html": [
       "<div>\n",
       "<style scoped>\n",
       "    .dataframe tbody tr th:only-of-type {\n",
       "        vertical-align: middle;\n",
       "    }\n",
       "\n",
       "    .dataframe tbody tr th {\n",
       "        vertical-align: top;\n",
       "    }\n",
       "\n",
       "    .dataframe thead th {\n",
       "        text-align: right;\n",
       "    }\n",
       "</style>\n",
       "<table border=\"1\" class=\"dataframe\">\n",
       "  <thead>\n",
       "    <tr style=\"text-align: right;\">\n",
       "      <th></th>\n",
       "      <th>Journal</th>\n",
       "      <th>Count</th>\n",
       "    </tr>\n",
       "  </thead>\n",
       "  <tbody>\n",
       "    <tr>\n",
       "      <th>0</th>\n",
       "      <td>Biotechnology and bioengineering</td>\n",
       "      <td>24</td>\n",
       "    </tr>\n",
       "    <tr>\n",
       "      <th>1</th>\n",
       "      <td>Biotechnology progress</td>\n",
       "      <td>19</td>\n",
       "    </tr>\n",
       "    <tr>\n",
       "      <th>2</th>\n",
       "      <td>Journal of biotechnology</td>\n",
       "      <td>7</td>\n",
       "    </tr>\n",
       "    <tr>\n",
       "      <th>3</th>\n",
       "      <td>mAbs</td>\n",
       "      <td>5</td>\n",
       "    </tr>\n",
       "    <tr>\n",
       "      <th>4</th>\n",
       "      <td>Biotechnology journal</td>\n",
       "      <td>4</td>\n",
       "    </tr>\n",
       "  </tbody>\n",
       "</table>\n",
       "</div>"
      ],
      "text/plain": [
       "                            Journal  Count\n",
       "0  Biotechnology and bioengineering     24\n",
       "1            Biotechnology progress     19\n",
       "2          Journal of biotechnology      7\n",
       "3                              mAbs      5\n",
       "4             Biotechnology journal      4"
      ]
     },
     "execution_count": 407,
     "metadata": {},
     "output_type": "execute_result"
    }
   ],
   "source": [
    "# Count of distinct journals of Article nodes\n",
    "gds.run_cypher('''\n",
    "  MATCH (a:Article)\n",
    "  RETURN a.journal as Journal, COUNT(a.journal) AS Count\n",
    "  ORDER BY Count DESC limit 10\n",
    "''')"
   ]
  },
  {
   "cell_type": "markdown",
   "id": "927952da-0068-43b8-a967-3f795e7a3983",
   "metadata": {},
   "source": [
    "# Graph Projection"
   ]
  },
  {
   "cell_type": "code",
   "execution_count": 408,
   "id": "7957f4c2-5ff0-4d30-8b9c-b8c57cffef38",
   "metadata": {
    "tags": []
   },
   "outputs": [
    {
     "data": {
      "text/plain": [
       "13"
      ]
     },
     "execution_count": 408,
     "metadata": {},
     "output_type": "execute_result"
    }
   ],
   "source": [
    "# Show all projected graphs\n",
    "projected_graph = gds.graph.list()\n",
    "projected_graph.size"
   ]
  },
  {
   "cell_type": "code",
   "execution_count": 409,
   "id": "39d8c5d3-2d7d-4ce0-a6e7-46ab2c5232c9",
   "metadata": {
    "tags": []
   },
   "outputs": [],
   "source": [
    "# drop projected KG\n",
    "if projected_graph.size != 0:\n",
    "    gds.graph.drop(gds.graph.get('kg'))"
   ]
  },
  {
   "cell_type": "code",
   "execution_count": null,
   "id": "9c5b9445-83ba-4e7c-9cd6-0233e388ae20",
   "metadata": {
    "tags": []
   },
   "outputs": [],
   "source": [
    "g_kg, kg_desc = gds.graph.project('kg', '*', '*')"
   ]
  },
  {
   "cell_type": "markdown",
   "id": "6a3ed2f0-5fbc-4919-b4d2-912516219c6c",
   "metadata": {},
   "source": [
    "## Degree Centrality\n",
    "\n",
    "The Degree Centrality algorithm can be used to find popular nodes within a graph. Degree centrality measures the number of incoming or outgoing (or both) relationships from a node, depending on the orientation of a relationship projection. For more information on relationship orientations, see the relationship projection syntax section.\n",
    "\n",
    "It can be applied to either weighted or unweighted graphs. In the weighted case the algorithm computes the sum of all positive weights of adjacent relationships of a node, for each node in the graph. Non-positive weights are ignored.\n",
    "\n",
    "It can be applied to heterogenous graphs, however the algorithm will not calculate degree centrality per relationship type. Instead it will treat the graph as homogenous, as indicated by the algorithm traits."
   ]
  },
  {
   "cell_type": "code",
   "execution_count": 411,
   "id": "99736e07-a42c-4449-ad43-e5f101bca52f",
   "metadata": {
    "tags": []
   },
   "outputs": [
    {
     "data": {
      "text/html": [
       "<div>\n",
       "<style scoped>\n",
       "    .dataframe tbody tr th:only-of-type {\n",
       "        vertical-align: middle;\n",
       "    }\n",
       "\n",
       "    .dataframe tbody tr th {\n",
       "        vertical-align: top;\n",
       "    }\n",
       "\n",
       "    .dataframe thead th {\n",
       "        text-align: right;\n",
       "    }\n",
       "</style>\n",
       "<table border=\"1\" class=\"dataframe\">\n",
       "  <thead>\n",
       "    <tr style=\"text-align: right;\">\n",
       "      <th></th>\n",
       "      <th>0</th>\n",
       "    </tr>\n",
       "  </thead>\n",
       "  <tbody>\n",
       "    <tr>\n",
       "      <th>centralityDistribution</th>\n",
       "      <td>{'min': 0.0, 'max': 13.000053405761719, 'p90': 4.000022888183594, 'p999': 10.000053405761719, 'p99': 6.000022888183594, 'p50': 2.0000076293945312, 'p75': 3.0000076293945312, 'p95': 4.000022888183594, 'mean': 2.2857210927788674}</td>\n",
       "    </tr>\n",
       "    <tr>\n",
       "      <th>postProcessingMillis</th>\n",
       "      <td>24</td>\n",
       "    </tr>\n",
       "    <tr>\n",
       "      <th>preProcessingMillis</th>\n",
       "      <td>0</td>\n",
       "    </tr>\n",
       "    <tr>\n",
       "      <th>computeMillis</th>\n",
       "      <td>0</td>\n",
       "    </tr>\n",
       "    <tr>\n",
       "      <th>configuration</th>\n",
       "      <td>{'orientation': 'NATURAL', 'jobId': 'df1b460a-c855-4251-b3b8-1f107d445fca', 'logProgress': True, 'nodeLabels': ['*'], 'relationshipTypes': ['*'], 'concurrency': 4, 'sudo': False}</td>\n",
       "    </tr>\n",
       "  </tbody>\n",
       "</table>\n",
       "</div>"
      ],
      "text/plain": [
       "                                                                                                                                                                                                                                                          0\n",
       "centralityDistribution  {'min': 0.0, 'max': 13.000053405761719, 'p90': 4.000022888183594, 'p999': 10.000053405761719, 'p99': 6.000022888183594, 'p50': 2.0000076293945312, 'p75': 3.0000076293945312, 'p95': 4.000022888183594, 'mean': 2.2857210927788674}\n",
       "postProcessingMillis                                                                                                                                                                                                                                     24\n",
       "preProcessingMillis                                                                                                                                                                                                                                       0\n",
       "computeMillis                                                                                                                                                                                                                                             0\n",
       "configuration                                                            {'orientation': 'NATURAL', 'jobId': 'df1b460a-c855-4251-b3b8-1f107d445fca', 'logProgress': True, 'nodeLabels': ['*'], 'relationshipTypes': ['*'], 'concurrency': 4, 'sudo': False}"
      ]
     },
     "execution_count": 411,
     "metadata": {},
     "output_type": "execute_result"
    }
   ],
   "source": [
    "# Get knowledge graph centrality\n",
    "kg_centrality = gds.degree.stats(g_kg)\n",
    "pd.DataFrame(kg_centrality)"
   ]
  },
  {
   "cell_type": "code",
   "execution_count": 412,
   "id": "b0357907-2e72-4349-aa80-f3f5b8c10906",
   "metadata": {
    "tags": []
   },
   "outputs": [
    {
     "data": {
      "text/plain": [
       "{'min': 0.0,\n",
       " 'max': 13.000053405761719,\n",
       " 'p90': 4.000022888183594,\n",
       " 'p999': 10.000053405761719,\n",
       " 'p99': 6.000022888183594,\n",
       " 'p50': 2.0000076293945312,\n",
       " 'p75': 3.0000076293945312,\n",
       " 'p95': 4.000022888183594,\n",
       " 'mean': 2.2857210927788674}"
      ]
     },
     "execution_count": 412,
     "metadata": {},
     "output_type": "execute_result"
    }
   ],
   "source": [
    "# Get knowledge graph centrality distribution\n",
    "pd.DataFrame(kg_centrality)[0]['centralityDistribution']"
   ]
  },
  {
   "cell_type": "code",
   "execution_count": 413,
   "id": "ce33b6ad-e6ba-4cc9-b66e-6dd89320531a",
   "metadata": {
    "tags": []
   },
   "outputs": [],
   "source": [
    "# Write back degree centrality\n",
    "_ = gds.degree.write(G=g_kg, \n",
    "                     writeProperty='kgDC')"
   ]
  },
  {
   "cell_type": "code",
   "execution_count": 414,
   "id": "ac5fb9a7-cba6-4377-96c7-0d2121f0b61a",
   "metadata": {
    "tags": []
   },
   "outputs": [
    {
     "data": {
      "text/html": [
       "<div>\n",
       "<style scoped>\n",
       "    .dataframe tbody tr th:only-of-type {\n",
       "        vertical-align: middle;\n",
       "    }\n",
       "\n",
       "    .dataframe tbody tr th {\n",
       "        vertical-align: top;\n",
       "    }\n",
       "\n",
       "    .dataframe thead th {\n",
       "        text-align: right;\n",
       "    }\n",
       "</style>\n",
       "<table border=\"1\" class=\"dataframe\">\n",
       "  <thead>\n",
       "    <tr style=\"text-align: right;\">\n",
       "      <th></th>\n",
       "      <th>term</th>\n",
       "      <th>type</th>\n",
       "      <th>degreeCentrality</th>\n",
       "    </tr>\n",
       "  </thead>\n",
       "  <tbody>\n",
       "    <tr>\n",
       "      <th>0</th>\n",
       "      <td>pH</td>\n",
       "      <td>bioreactor conditions</td>\n",
       "      <td>10.0</td>\n",
       "    </tr>\n",
       "    <tr>\n",
       "      <th>1</th>\n",
       "      <td>time</td>\n",
       "      <td>process parameters or process control</td>\n",
       "      <td>10.0</td>\n",
       "    </tr>\n",
       "    <tr>\n",
       "      <th>2</th>\n",
       "      <td>glycolysis</td>\n",
       "      <td>metabolic pathways</td>\n",
       "      <td>9.0</td>\n",
       "    </tr>\n",
       "    <tr>\n",
       "      <th>3</th>\n",
       "      <td>pCO2</td>\n",
       "      <td>process condition</td>\n",
       "      <td>9.0</td>\n",
       "    </tr>\n",
       "    <tr>\n",
       "      <th>4</th>\n",
       "      <td>manganese</td>\n",
       "      <td>trace metals or minerals (subset of secondary raw materials)</td>\n",
       "      <td>9.0</td>\n",
       "    </tr>\n",
       "  </tbody>\n",
       "</table>\n",
       "</div>"
      ],
      "text/plain": [
       "         term                                                          type  \\\n",
       "0          pH                                         bioreactor conditions   \n",
       "1        time                         process parameters or process control   \n",
       "2  glycolysis                                            metabolic pathways   \n",
       "3        pCO2                                             process condition   \n",
       "4   manganese  trace metals or minerals (subset of secondary raw materials)   \n",
       "\n",
       "   degreeCentrality  \n",
       "0              10.0  \n",
       "1              10.0  \n",
       "2               9.0  \n",
       "3               9.0  \n",
       "4               9.0  "
      ]
     },
     "execution_count": 414,
     "metadata": {},
     "output_type": "execute_result"
    }
   ],
   "source": [
    "# Get top 10 degree centrality of textmining nodes\n",
    "gds.run_cypher('''\n",
    "  MATCH (n:TextMining)\n",
    "      WHERE n.kgDC IS NOT NULL AND n.term IS NOT NULL AND n.type IS NOT NULL\n",
    "  RETURN DISTINCT\n",
    "      n.term AS term,\n",
    "      n.type AS type,\n",
    "      n.kgDC AS degreeCentrality\n",
    "  ORDER BY degreeCentrality DESC\n",
    "  LIMIT 10\n",
    "''')"
   ]
  },
  {
   "cell_type": "markdown",
   "id": "433fd399-9a10-4845-87ea-79fc711f37d7",
   "metadata": {},
   "source": [
    "## Weakly Connected Components\n",
    "\n",
    "The Weakly Connected Components (WCC) algorithm finds sets of connected nodes in directed and undirected graphs. Two nodes are connected, if there exists a path between them. The set of all nodes that are connected with each other form a component. In contrast to Strongly Connected Components (SCC), the direction of relationships on the path between two nodes is not considered. For example, in a directed graph (a)→(b), a and b will be in the same component, even if there is no directed relationship (b)→(a).\n",
    "\n",
    "WCC is often used early in an analysis to understand the structure of a graph. Using WCC to understand the graph structure enables running other algorithms independently on an identified cluster."
   ]
  },
  {
   "cell_type": "code",
   "execution_count": 415,
   "id": "85244291-4a55-4722-be0b-c3553a26d098",
   "metadata": {
    "tags": []
   },
   "outputs": [],
   "source": [
    "# Generate statistics for WCC\n",
    "kg_wcc = gds.wcc.stats(g_kg)"
   ]
  },
  {
   "cell_type": "code",
   "execution_count": 416,
   "id": "af753c06-3099-4a10-86e4-483f3affb809",
   "metadata": {
    "tags": []
   },
   "outputs": [],
   "source": [
    "# Create a dataframe for componentCount and componentDistribution\n",
    "kg_wcc = pd.DataFrame(kg_wcc)[0][['componentCount', 'componentDistribution']]"
   ]
  },
  {
   "cell_type": "code",
   "execution_count": 417,
   "id": "7840520a-b927-43ba-a97e-c709ce7e75e8",
   "metadata": {
    "tags": []
   },
   "outputs": [
    {
     "data": {
      "text/plain": [
       "7"
      ]
     },
     "execution_count": 417,
     "metadata": {},
     "output_type": "execute_result"
    }
   ],
   "source": [
    "# Show WCC componentCount\n",
    "kg_wcc['componentCount']"
   ]
  },
  {
   "cell_type": "code",
   "execution_count": 418,
   "id": "8c42af2a-e647-4d9d-8cc1-211b92dbbcdd",
   "metadata": {
    "tags": []
   },
   "outputs": [
    {
     "data": {
      "text/plain": [
       "{'min': 1,\n",
       " 'p5': 1,\n",
       " 'max': 3501,\n",
       " 'p999': 3501,\n",
       " 'p99': 3501,\n",
       " 'p1': 1,\n",
       " 'p10': 1,\n",
       " 'p90': 3501,\n",
       " 'p50': 1,\n",
       " 'p25': 1,\n",
       " 'p75': 1,\n",
       " 'p95': 3501,\n",
       " 'mean': 501.0}"
      ]
     },
     "execution_count": 418,
     "metadata": {},
     "output_type": "execute_result"
    }
   ],
   "source": [
    "# Show WCC componentDistribution\n",
    "kg_wcc['componentDistribution']"
   ]
  },
  {
   "cell_type": "code",
   "execution_count": 419,
   "id": "25dd673c-794a-4278-b6be-eef119784b91",
   "metadata": {
    "tags": []
   },
   "outputs": [],
   "source": [
    "# Write WCCs to graph \n",
    "_ = gds.wcc.write(G=g_kg, writeProperty='kgWcc')"
   ]
  },
  {
   "cell_type": "code",
   "execution_count": 420,
   "id": "2eadffc5-f3ae-46f9-bfff-2287bf577153",
   "metadata": {
    "tags": []
   },
   "outputs": [
    {
     "data": {
      "text/plain": [
       "(7, 2)"
      ]
     },
     "execution_count": 420,
     "metadata": {},
     "output_type": "execute_result"
    }
   ],
   "source": [
    "# View top components\n",
    "kg_WCCs = gds.run_cypher('''\n",
    "  MATCH (n)\n",
    "    WHERE n.kgWcc IS NOT NULL\n",
    "  RETURN n.kgWcc AS wcc, \n",
    "        COUNT(n.kgWcc) AS wccSize\n",
    "  ORDER BY wccSize DESC\n",
    "''')\n",
    "\n",
    "kg_WCCs.shape"
   ]
  },
  {
   "cell_type": "code",
   "execution_count": 421,
   "id": "a9b2745d-8e5c-4e4c-910b-046951034162",
   "metadata": {
    "tags": []
   },
   "outputs": [
    {
     "data": {
      "text/html": [
       "<div>\n",
       "<style scoped>\n",
       "    .dataframe tbody tr th:only-of-type {\n",
       "        vertical-align: middle;\n",
       "    }\n",
       "\n",
       "    .dataframe tbody tr th {\n",
       "        vertical-align: top;\n",
       "    }\n",
       "\n",
       "    .dataframe thead th {\n",
       "        text-align: right;\n",
       "    }\n",
       "</style>\n",
       "<table border=\"1\" class=\"dataframe\">\n",
       "  <thead>\n",
       "    <tr style=\"text-align: right;\">\n",
       "      <th></th>\n",
       "      <th>wcc</th>\n",
       "      <th>wccSize</th>\n",
       "    </tr>\n",
       "  </thead>\n",
       "  <tbody>\n",
       "    <tr>\n",
       "      <th>0</th>\n",
       "      <td>0</td>\n",
       "      <td>3501</td>\n",
       "    </tr>\n",
       "    <tr>\n",
       "      <th>1</th>\n",
       "      <td>178</td>\n",
       "      <td>1</td>\n",
       "    </tr>\n",
       "    <tr>\n",
       "      <th>2</th>\n",
       "      <td>226</td>\n",
       "      <td>1</td>\n",
       "    </tr>\n",
       "    <tr>\n",
       "      <th>3</th>\n",
       "      <td>378</td>\n",
       "      <td>1</td>\n",
       "    </tr>\n",
       "    <tr>\n",
       "      <th>4</th>\n",
       "      <td>548</td>\n",
       "      <td>1</td>\n",
       "    </tr>\n",
       "    <tr>\n",
       "      <th>5</th>\n",
       "      <td>579</td>\n",
       "      <td>1</td>\n",
       "    </tr>\n",
       "    <tr>\n",
       "      <th>6</th>\n",
       "      <td>587</td>\n",
       "      <td>1</td>\n",
       "    </tr>\n",
       "  </tbody>\n",
       "</table>\n",
       "</div>"
      ],
      "text/plain": [
       "   wcc  wccSize\n",
       "0    0     3501\n",
       "1  178        1\n",
       "2  226        1\n",
       "3  378        1\n",
       "4  548        1\n",
       "5  579        1\n",
       "6  587        1"
      ]
     },
     "execution_count": 421,
     "metadata": {},
     "output_type": "execute_result"
    }
   ],
   "source": [
    "# Get top 10 weakly connected components\n",
    "kg_WCCs.head(10)"
   ]
  },
  {
   "cell_type": "markdown",
   "id": "d527ff78-e58e-4976-b6f6-a5cb3f21c2bf",
   "metadata": {},
   "source": [
    "### View WCCs in Browser"
   ]
  },
  {
   "cell_type": "code",
   "execution_count": 422,
   "id": "3d04e6eb-846e-44fd-b5e6-aeb6d70b16f7",
   "metadata": {
    "tags": []
   },
   "outputs": [
    {
     "data": {
      "text/plain": [
       "'\\nMATCH (n)\\nWHERE n.kgWcc IN [0]\\nRETURN *\\n'"
      ]
     },
     "execution_count": 422,
     "metadata": {},
     "output_type": "execute_result"
    }
   ],
   "source": [
    "# Run the cypher queruy below to view the most connect component in Neo4j browser\n",
    "\n",
    "MATCH (n)\n",
    "WHERE n.kgWcc IN [0]\n",
    "RETURN *"
   ]
  },
  {
   "cell_type": "markdown",
   "id": "56a381fa-0f40-4816-910a-feac78c81ad7",
   "metadata": {},
   "source": [
    "## Strongly Connected Components\n",
    "\n",
    "The Strongly Connected Components (SCC) algorithm finds maximal sets of connected nodes in a directed graph. A set is considered a strongly connected component if there is a directed path between each pair of nodes within the set. It is often used early in a graph analysis process to help us get an idea of how our graph is structured."
   ]
  },
  {
   "cell_type": "code",
   "execution_count": 423,
   "id": "54622e93-e1c1-4424-bfce-2f26df1db881",
   "metadata": {
    "tags": []
   },
   "outputs": [],
   "source": [
    "# Generate statistics for SCC\n",
    "kg_scc = gds.scc.stats(g_kg)"
   ]
  },
  {
   "cell_type": "code",
   "execution_count": 424,
   "id": "59e8c89b-79e9-4692-b1c2-50ac46267c0e",
   "metadata": {
    "tags": []
   },
   "outputs": [],
   "source": [
    "# Create a dataframe for componentCount and componentDistribution\n",
    "kg_scc = pd.DataFrame(kg_scc)[0][['componentCount', 'componentDistribution']]"
   ]
  },
  {
   "cell_type": "code",
   "execution_count": 425,
   "id": "6bc4c6e1-bf1a-4c0a-96df-685fa3d83e6a",
   "metadata": {
    "tags": []
   },
   "outputs": [
    {
     "data": {
      "text/plain": [
       "3507"
      ]
     },
     "execution_count": 425,
     "metadata": {},
     "output_type": "execute_result"
    }
   ],
   "source": [
    "# Show SCC componentCount\n",
    "kg_scc['componentCount']"
   ]
  },
  {
   "cell_type": "code",
   "execution_count": 426,
   "id": "1a754e4c-4248-41e2-8f18-6467df486098",
   "metadata": {
    "tags": []
   },
   "outputs": [
    {
     "data": {
      "text/plain": [
       "{'min': 1,\n",
       " 'p5': 1,\n",
       " 'max': 1,\n",
       " 'p999': 1,\n",
       " 'p99': 1,\n",
       " 'p1': 1,\n",
       " 'p10': 1,\n",
       " 'p90': 1,\n",
       " 'p50': 1,\n",
       " 'p25': 1,\n",
       " 'p75': 1,\n",
       " 'p95': 1,\n",
       " 'mean': 1.0}"
      ]
     },
     "execution_count": 426,
     "metadata": {},
     "output_type": "execute_result"
    }
   ],
   "source": [
    "# Show SCC componentDistribution\n",
    "kg_scc['componentDistribution']"
   ]
  },
  {
   "cell_type": "code",
   "execution_count": 427,
   "id": "253d5fd5-970e-4d7c-a122-c48fc707fe0e",
   "metadata": {
    "tags": []
   },
   "outputs": [],
   "source": [
    "# Write SCCs to graph \n",
    "_ = gds.scc.write(G=g_kg, writeProperty='kgScc')"
   ]
  },
  {
   "cell_type": "code",
   "execution_count": 428,
   "id": "c2149e87-bc06-4381-86c3-d922dca2ec6b",
   "metadata": {
    "tags": []
   },
   "outputs": [
    {
     "data": {
      "text/plain": [
       "(3507, 2)"
      ]
     },
     "execution_count": 428,
     "metadata": {},
     "output_type": "execute_result"
    }
   ],
   "source": [
    "# View top components\n",
    "kg_SCCs = gds.run_cypher('''\n",
    "  MATCH (n)\n",
    "    WHERE n.kgScc IS NOT NULL\n",
    "  RETURN n.kgScc AS scc, \n",
    "        COUNT(n.kgScc) AS sccSize\n",
    "  ORDER BY sccSize DESC\n",
    "''')\n",
    "\n",
    "kg_SCCs.shape"
   ]
  },
  {
   "cell_type": "code",
   "execution_count": 429,
   "id": "462e6c51-b5fc-4876-b55a-9bc49ec31f4d",
   "metadata": {
    "tags": []
   },
   "outputs": [
    {
     "data": {
      "text/html": [
       "<div>\n",
       "<style scoped>\n",
       "    .dataframe tbody tr th:only-of-type {\n",
       "        vertical-align: middle;\n",
       "    }\n",
       "\n",
       "    .dataframe tbody tr th {\n",
       "        vertical-align: top;\n",
       "    }\n",
       "\n",
       "    .dataframe thead th {\n",
       "        text-align: right;\n",
       "    }\n",
       "</style>\n",
       "<table border=\"1\" class=\"dataframe\">\n",
       "  <thead>\n",
       "    <tr style=\"text-align: right;\">\n",
       "      <th></th>\n",
       "      <th>scc</th>\n",
       "      <th>sccSize</th>\n",
       "    </tr>\n",
       "  </thead>\n",
       "  <tbody>\n",
       "    <tr>\n",
       "      <th>0</th>\n",
       "      <td>0</td>\n",
       "      <td>1</td>\n",
       "    </tr>\n",
       "    <tr>\n",
       "      <th>1</th>\n",
       "      <td>1</td>\n",
       "      <td>1</td>\n",
       "    </tr>\n",
       "    <tr>\n",
       "      <th>2</th>\n",
       "      <td>2</td>\n",
       "      <td>1</td>\n",
       "    </tr>\n",
       "    <tr>\n",
       "      <th>3</th>\n",
       "      <td>3</td>\n",
       "      <td>1</td>\n",
       "    </tr>\n",
       "    <tr>\n",
       "      <th>4</th>\n",
       "      <td>4</td>\n",
       "      <td>1</td>\n",
       "    </tr>\n",
       "    <tr>\n",
       "      <th>5</th>\n",
       "      <td>5</td>\n",
       "      <td>1</td>\n",
       "    </tr>\n",
       "    <tr>\n",
       "      <th>6</th>\n",
       "      <td>6</td>\n",
       "      <td>1</td>\n",
       "    </tr>\n",
       "    <tr>\n",
       "      <th>7</th>\n",
       "      <td>7</td>\n",
       "      <td>1</td>\n",
       "    </tr>\n",
       "    <tr>\n",
       "      <th>8</th>\n",
       "      <td>8</td>\n",
       "      <td>1</td>\n",
       "    </tr>\n",
       "    <tr>\n",
       "      <th>9</th>\n",
       "      <td>9</td>\n",
       "      <td>1</td>\n",
       "    </tr>\n",
       "  </tbody>\n",
       "</table>\n",
       "</div>"
      ],
      "text/plain": [
       "   scc  sccSize\n",
       "0    0        1\n",
       "1    1        1\n",
       "2    2        1\n",
       "3    3        1\n",
       "4    4        1\n",
       "5    5        1\n",
       "6    6        1\n",
       "7    7        1\n",
       "8    8        1\n",
       "9    9        1"
      ]
     },
     "execution_count": 429,
     "metadata": {},
     "output_type": "execute_result"
    }
   ],
   "source": [
    "# Get top 10 strongly connected components\n",
    "kg_SCCs.head(10)"
   ]
  },
  {
   "cell_type": "markdown",
   "id": "9473d1ab-b164-49cb-a670-0fb49d71e025",
   "metadata": {
    "tags": []
   },
   "source": [
    "### View SCCs in Browser"
   ]
  },
  {
   "cell_type": "code",
   "execution_count": 430,
   "id": "c709c816-ba29-472d-ac33-a8f2e163eecb",
   "metadata": {},
   "outputs": [
    {
     "data": {
      "text/plain": [
       "'\\nMATCH (n)\\nWHERE n.kgScc IN [0]\\nRETURN *\\n'"
      ]
     },
     "execution_count": 430,
     "metadata": {},
     "output_type": "execute_result"
    }
   ],
   "source": [
    "# Run the cypher query below to view the most connect component in Neo4j browser\n",
    "\n",
    "MATCH (n)\n",
    "WHERE n.kgScc IN [0]\n",
    "RETURN *\n"
   ]
  },
  {
   "attachments": {
    "77d538aa-1e3e-4457-b459-b3169bf38af9.png": {
     "image/png": "[encoded data removed]"
    }
   },
   "cell_type": "markdown",
   "id": "c88754f4-c65c-4149-be17-969bd974c2d4",
   "metadata": {},
   "source": [
    "# PageRank\n",
    "\n",
    "The PageRank algorithm measures the importance of each node within the graph, based on the number incoming relationships and the importance of the corresponding source nodes. The underlying assumption roughly speaking is that a page is only as important as the pages that link to it.\n",
    "\n",
    "PageRank is introduced in the original Google paper as a function that solves the following equation:\n",
    "\n",
    "![image.png](attachment:77d538aa-1e3e-4457-b459-b3169bf38af9.png)\n",
    "\n",
    "where,\n",
    "\n",
    "- we assume that a page A has pages T1 to Tn which point to it.\n",
    "- d is a damping factor which can be set between 0 (inclusive) and 1 (exclusive). It is usually set to 0.85.\n",
    "- C(A) is defined as the number of links going out of page A.\n",
    "\n",
    "This equation is used to iteratively update a candidate solution and arrive at an approximate solution to the same equation."
   ]
  },
  {
   "cell_type": "code",
   "execution_count": 431,
   "id": "83ba6655-0624-470e-9e60-bd29afc9e7f1",
   "metadata": {
    "tags": []
   },
   "outputs": [],
   "source": [
    "kg_PageRank = gds.pageRank.write(G=g_kg, writeProperty='kgPageRank')"
   ]
  },
  {
   "cell_type": "code",
   "execution_count": 432,
   "id": "f7fd4439-5f03-4c2c-9527-e830ba9efa67",
   "metadata": {
    "tags": []
   },
   "outputs": [
    {
     "data": {
      "text/plain": [
       "{'min': 0.14999961853027344,\n",
       " 'max': 39.284422874450684,\n",
       " 'p90': 0.2987508773803711,\n",
       " 'p999': 35.635985374450684,\n",
       " 'p99': 4.700316429138184,\n",
       " 'p50': 0.17549991607666016,\n",
       " 'p75': 0.19249916076660156,\n",
       " 'p95': 0.709406852722168,\n",
       " 'mean': 0.3855337956572381}"
      ]
     },
     "execution_count": 432,
     "metadata": {},
     "output_type": "execute_result"
    }
   ],
   "source": [
    "pd.DataFrame(kg_PageRank)[0]['centralityDistribution']"
   ]
  },
  {
   "cell_type": "code",
   "execution_count": 433,
   "id": "889190dc-8abb-42f9-bf96-6db87c12d419",
   "metadata": {
    "tags": []
   },
   "outputs": [
    {
     "data": {
      "text/html": [
       "<div>\n",
       "<style scoped>\n",
       "    .dataframe tbody tr th:only-of-type {\n",
       "        vertical-align: middle;\n",
       "    }\n",
       "\n",
       "    .dataframe tbody tr th {\n",
       "        vertical-align: top;\n",
       "    }\n",
       "\n",
       "    .dataframe thead th {\n",
       "        text-align: right;\n",
       "    }\n",
       "</style>\n",
       "<table border=\"1\" class=\"dataframe\">\n",
       "  <thead>\n",
       "    <tr style=\"text-align: right;\">\n",
       "      <th></th>\n",
       "      <th>term</th>\n",
       "      <th>type</th>\n",
       "      <th>pageRank</th>\n",
       "    </tr>\n",
       "  </thead>\n",
       "  <tbody>\n",
       "    <tr>\n",
       "      <th>0</th>\n",
       "      <td>time</td>\n",
       "      <td>process parameters or process control</td>\n",
       "      <td>0.532500</td>\n",
       "    </tr>\n",
       "    <tr>\n",
       "      <th>1</th>\n",
       "      <td>sialylation</td>\n",
       "      <td>glycosylation</td>\n",
       "      <td>0.458125</td>\n",
       "    </tr>\n",
       "    <tr>\n",
       "      <th>2</th>\n",
       "      <td>biological activities</td>\n",
       "      <td>clinical outcomes</td>\n",
       "      <td>0.405000</td>\n",
       "    </tr>\n",
       "    <tr>\n",
       "      <th>3</th>\n",
       "      <td>N-glycosylation</td>\n",
       "      <td>glycosylation</td>\n",
       "      <td>0.405000</td>\n",
       "    </tr>\n",
       "    <tr>\n",
       "      <th>4</th>\n",
       "      <td>CQAs</td>\n",
       "      <td>product quality attributes</td>\n",
       "      <td>0.362500</td>\n",
       "    </tr>\n",
       "  </tbody>\n",
       "</table>\n",
       "</div>"
      ],
      "text/plain": [
       "                    term                                   type  pageRank\n",
       "0                   time  process parameters or process control  0.532500\n",
       "1            sialylation                          glycosylation  0.458125\n",
       "2  biological activities                      clinical outcomes  0.405000\n",
       "3        N-glycosylation                          glycosylation  0.405000\n",
       "4                   CQAs             product quality attributes  0.362500"
      ]
     },
     "execution_count": 433,
     "metadata": {},
     "output_type": "execute_result"
    }
   ],
   "source": [
    "# Get top 10 PageRank nodes\n",
    "gds.run_cypher('''\n",
    "  MATCH (n)\n",
    "      WHERE n.kgPageRank IS NOT NULL AND n.term IS NOT NULL AND n.type IS NOT NULL\n",
    "  RETURN DISTINCT\n",
    "      //n.pmid AS pmid,\n",
    "      n.term AS term,\n",
    "      n.type AS type,\n",
    "      //n.np AS noun_phrase,\n",
    "      n.kgPageRank AS pageRank\n",
    "  ORDER BY pageRank DESC\n",
    "  LIMIT 10\n",
    "''')"
   ]
  },
  {
   "cell_type": "markdown",
   "id": "71c170b5-7a59-482b-834c-013d10215db8",
   "metadata": {},
   "source": [
    "### View Top PageRank nodes in Browser"
   ]
  },
  {
   "cell_type": "code",
   "execution_count": 434,
   "id": "8599594e-7a5c-4508-a509-7dae7db3442d",
   "metadata": {},
   "outputs": [
    {
     "data": {
      "text/plain": [
       "\"\\nMATCH (n)-[r]-(m)\\n//WHERE n.term IN ['antibody-dependent cell-mediated cytotoxicity', 'ADCC', 'glycosylation']\\nWHERE n.term IN ['glycans', 'afucosylation', 'n-glycosylation profile']\\nRETURN n, r, m\\n\""
      ]
     },
     "execution_count": 434,
     "metadata": {},
     "output_type": "execute_result"
    }
   ],
   "source": [
    "# Run the cypher query below to view top pagerank nodes in Neo4j browser\n",
    "\n",
    "MATCH (n)-[r]-(m)\n",
    "WHERE n.term IN ['time', 'sialylation', 'biological activities', 'N-glycosylation', 'CQAs']\n",
    "RETURN n, r, m"
   ]
  },
  {
   "attachments": {
    "05a6ec1b-ab88-4027-b807-9678cd7a45a4.png": {
     "image/png": "[encoded data removed]"
    },
    "d3f6a538-c809-4803-90cb-ca12edc17958.png": {
     "image/png": "[encoded data removed]"
    }
   },
   "cell_type": "markdown",
   "id": "e98030e6-fd41-42cd-bf3e-715e04300d8b",
   "metadata": {},
   "source": [
    "# Node Similarity\n",
    "\n",
    "The Node Similarity algorithm compares a set of nodes based on the nodes they are connected to. Two nodes are considered similar if they share many of the same neighbors. Node Similarity computes pair-wise similarities based on either the Jaccard metric, also known as the Jaccard Similarity Score, or the Overlap coefficient, also known as the Szymkiewicz–Simpson coefficient.\n",
    "\n",
    "Given two sets A and B, the Jaccard Similarity is computed using the following formula:\n",
    "\n",
    "![image.png](attachment:d3f6a538-c809-4803-90cb-ca12edc17958.png)\n",
    "\n",
    "The Overlap coefficient is computed using the following formula:\n",
    "\n",
    "![image.png](attachment:05a6ec1b-ab88-4027-b807-9678cd7a45a4.png)\n",
    "\n",
    "The input of this algorithm is a bipartite, connected graph containing two disjoint node sets. Each relationship starts from a node in the first node set and ends at a node in the second node set.\n",
    "\n",
    "The Node Similarity algorithm compares each node that has outgoing relationships with each other such node. For every node n, we collect the outgoing neighborhood N(n) of that node, that is, all nodes m such that there is a relationship from n to m. For each pair n, m, the algorithm computes a similarity for that pair that equals the outcome of the selected similarity metric for N(n) and N(m).\n",
    "\n",
    "Node Similarity has time complexity O(n3) and space complexity O(n2). We compute and store neighbour sets in time and space O(n2), then compute pairwise similarity scores in time O(n3).\n",
    "\n",
    "In order to bound memory usage you can specify an explicit limit on the number of results to output per node, this is the 'topK' parameter. It can be set to any value, except 0. You will lose precision in the overall computation of course, and running time is unaffected - we still have to compute results before potentially throwing them away.\n",
    "\n",
    "The output of the algorithm are new relationships between pairs of the first node set. Similarity scores are expressed via relationship properties."
   ]
  },
  {
   "cell_type": "code",
   "execution_count": 435,
   "id": "99475806-3865-43cc-ba42-d60281632b56",
   "metadata": {
    "tags": []
   },
   "outputs": [
    {
     "data": {
      "text/html": [
       "<div>\n",
       "<style scoped>\n",
       "    .dataframe tbody tr th:only-of-type {\n",
       "        vertical-align: middle;\n",
       "    }\n",
       "\n",
       "    .dataframe tbody tr th {\n",
       "        vertical-align: top;\n",
       "    }\n",
       "\n",
       "    .dataframe thead th {\n",
       "        text-align: right;\n",
       "    }\n",
       "</style>\n",
       "<table border=\"1\" class=\"dataframe\">\n",
       "  <thead>\n",
       "    <tr style=\"text-align: right;\">\n",
       "      <th></th>\n",
       "      <th>node1</th>\n",
       "      <th>node2</th>\n",
       "      <th>similarity</th>\n",
       "    </tr>\n",
       "  </thead>\n",
       "  <tbody>\n",
       "    <tr>\n",
       "      <th>0</th>\n",
       "      <td>2-F-peracetyl fucose</td>\n",
       "      <td>2-F-peracetyl fucose</td>\n",
       "      <td>1.0</td>\n",
       "    </tr>\n",
       "    <tr>\n",
       "      <th>1</th>\n",
       "      <td>ADCC</td>\n",
       "      <td>ADCC</td>\n",
       "      <td>1.0</td>\n",
       "    </tr>\n",
       "    <tr>\n",
       "      <th>2</th>\n",
       "      <td>ADCC</td>\n",
       "      <td>antibody-dependent cell-mediated cytotoxicity</td>\n",
       "      <td>1.0</td>\n",
       "    </tr>\n",
       "    <tr>\n",
       "      <th>3</th>\n",
       "      <td>ADCC</td>\n",
       "      <td>antibody-dependent cellular cytotoxicity</td>\n",
       "      <td>1.0</td>\n",
       "    </tr>\n",
       "    <tr>\n",
       "      <th>4</th>\n",
       "      <td>Amino acids</td>\n",
       "      <td>amino acid</td>\n",
       "      <td>1.0</td>\n",
       "    </tr>\n",
       "    <tr>\n",
       "      <th>5</th>\n",
       "      <td>Amino acids</td>\n",
       "      <td>amino acids</td>\n",
       "      <td>1.0</td>\n",
       "    </tr>\n",
       "    <tr>\n",
       "      <th>6</th>\n",
       "      <td>Antibody</td>\n",
       "      <td>antibody</td>\n",
       "      <td>1.0</td>\n",
       "    </tr>\n",
       "    <tr>\n",
       "      <th>7</th>\n",
       "      <td>BA</td>\n",
       "      <td>butyric acid</td>\n",
       "      <td>1.0</td>\n",
       "    </tr>\n",
       "    <tr>\n",
       "      <th>8</th>\n",
       "      <td>Bioreactors</td>\n",
       "      <td>bioreactor</td>\n",
       "      <td>1.0</td>\n",
       "    </tr>\n",
       "    <tr>\n",
       "      <th>9</th>\n",
       "      <td>Bioreactors</td>\n",
       "      <td>bioreactors</td>\n",
       "      <td>1.0</td>\n",
       "    </tr>\n",
       "  </tbody>\n",
       "</table>\n",
       "</div>"
      ],
      "text/plain": [
       "                  node1                                          node2  \\\n",
       "0  2-F-peracetyl fucose                           2-F-peracetyl fucose   \n",
       "1                  ADCC                                           ADCC   \n",
       "2                  ADCC  antibody-dependent cell-mediated cytotoxicity   \n",
       "3                  ADCC       antibody-dependent cellular cytotoxicity   \n",
       "4           Amino acids                                     amino acid   \n",
       "5           Amino acids                                    amino acids   \n",
       "6              Antibody                                       antibody   \n",
       "7                    BA                                   butyric acid   \n",
       "8           Bioreactors                                     bioreactor   \n",
       "9           Bioreactors                                    bioreactors   \n",
       "\n",
       "   similarity  \n",
       "0         1.0  \n",
       "1         1.0  \n",
       "2         1.0  \n",
       "3         1.0  \n",
       "4         1.0  \n",
       "5         1.0  \n",
       "6         1.0  \n",
       "7         1.0  \n",
       "8         1.0  \n",
       "9         1.0  "
      ]
     },
     "execution_count": 435,
     "metadata": {},
     "output_type": "execute_result"
    }
   ],
   "source": [
    "gds.run_cypher('''\n",
    "CALL gds.nodeSimilarity.stream('kg')\n",
    "YIELD node1, node2, similarity\n",
    "RETURN DISTINCT gds.util.asNode(node1).term AS node1, gds.util.asNode(node2).term AS node2, similarity\n",
    "ORDER BY similarity DESCENDING, node1, node2\n",
    "LIMIT 10\n",
    "''')"
   ]
  }
 ],
 "metadata": {
  "kernelspec": {
   "display_name": "Python 3 (ipykernel)",
   "language": "python",
   "name": "python3"
  },
  "language_info": {
   "codemirror_mode": {
    "name": "ipython",
    "version": 3
   },
   "file_extension": ".py",
   "mimetype": "text/x-python",
   "name": "python",
   "nbconvert_exporter": "python",
   "pygments_lexer": "ipython3",
   "version": "3.9.11"
  }
 },
 "nbformat": 4,
 "nbformat_minor": 5
}
