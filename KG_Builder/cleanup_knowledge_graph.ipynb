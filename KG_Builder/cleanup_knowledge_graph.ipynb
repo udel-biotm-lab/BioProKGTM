{
 "cells": [
  {
   "cell_type": "markdown",
   "id": "485da00d-b687-4c10-aa5e-fb12608140b8",
   "metadata": {},
   "source": [
    "# Clean up the Knowledge Graph"
   ]
  },
  {
   "cell_type": "markdown",
   "id": "065021f8-e19d-4cb0-b171-89f513aaefaa",
   "metadata": {},
   "source": [
    "This notebook deletes all the nodes, edges, indexes and constraints in the Neo4j graph database!!!! This makes sure you have a fresh database to start with."
   ]
  },
  {
   "cell_type": "markdown",
   "id": "a4150f2e-de4a-41d9-a274-fec94fc0b418",
   "metadata": {},
   "source": [
    "## Import Libraries"
   ]
  },
  {
   "cell_type": "code",
   "execution_count": 41,
   "id": "3b03aa94-451a-4770-8a14-39728e13ade7",
   "metadata": {
    "tags": []
   },
   "outputs": [],
   "source": [
    "import os \n",
    "import configparser"
   ]
  },
  {
   "cell_type": "code",
   "execution_count": 42,
   "id": "7db70fa5-fdb6-4f5a-bac2-b2d16b4720dc",
   "metadata": {},
   "outputs": [
    {
     "name": "stdout",
     "output_type": "stream",
     "text": [
      "Successfully imported GraphDataScience\n"
     ]
    }
   ],
   "source": [
    "# install or import Neo4j GraphDataScience library\n",
    "try: \n",
    "  from graphdatascience import GraphDataScience\n",
    "  print('Successfully imported GraphDataScience')\n",
    "except ModuleNotFoundError:\n",
    "  !pip3 install graphdatascience\n",
    "  from graphdatascience import GraphDataScience\n",
    "  print('installed and imported GraphDataScience')"
   ]
  },
  {
   "cell_type": "markdown",
   "id": "7b5c4ce0-2834-4162-97a7-6483528210ef",
   "metadata": {},
   "source": [
    "# Custom Functions"
   ]
  },
  {
   "cell_type": "code",
   "execution_count": 43,
   "id": "3b4bda5b-e838-4acb-b10e-e30fa1b4cec6",
   "metadata": {
    "tags": []
   },
   "outputs": [],
   "source": [
    "# function adapted from Neo4j GDS Demo Notebook (h/t Zach B.) mainly used for connecting to Neo4j database from Python\n",
    "def read_neo4j_properties(NEO4J_PROPERTIES_FILE: str=None) -> str:\n",
    "  '''Parses Neo4j database or Aura connection details from provided .ini filepath.\n",
    "  Requirements:\n",
    "    configparser\n",
    "\n",
    "  Args:\n",
    "    NEO4J_PROPERTIES_FILE: path to a .ini file\n",
    "  \n",
    "  Returns:\n",
    "    HOST: link to Neo4j or Aura host \n",
    "    USERNAME: login username\n",
    "    PASSWORD: login password \n",
    "\n",
    "  Note: The .ini file should use the following syntax\n",
    "    [NEO4J]\n",
    "    PASSWORD=<password>\n",
    "    USERNAME=<database name>\n",
    "    HOST=<host uri>\n",
    "\n",
    "  If no path is passed, the function will return the defaults:\n",
    "    HOST = 'neo4j://localhost'\n",
    "    USERNAME = 'neo4j'\n",
    "    PASSWORD = 'password'\n",
    "  '''\n",
    "\n",
    "  if NEO4J_PROPERTIES_FILE is not None and os.path.exists(NEO4J_PROPERTIES_FILE):\n",
    "      config = configparser.RawConfigParser()\n",
    "      config.read(NEO4J_PROPERTIES_FILE)\n",
    "      HOST = config['NEO4J']['HOST']\n",
    "      USERNAME = config['NEO4J']['USERNAME']\n",
    "      PASSWORD = config['NEO4J']['PASSWORD']\n",
    "      print('Using HOST, USERNAME, PASSWORD from .ini file')\n",
    "      return HOST, USERNAME, PASSWORD\n",
    "  else:\n",
    "      print('Could not find database properties file, using defaults:')\n",
    "      HOST = 'neo4j://localhost'\n",
    "      USERNAME = 'neo4j'\n",
    "      PASSWORD = 'password'\n",
    "      print(f'HOST: {HOST} \\nUSERHAME: {USERNAME} \\nPASSWORD: {PASSWORD}')\n",
    "      return HOST, USERNAME, PASSWORD "
   ]
  },
  {
   "cell_type": "markdown",
   "id": "b46d1b55-bc72-4eb0-be33-a79344aea66b",
   "metadata": {},
   "source": [
    "# Connect to Neo4j DB\n",
    "It is recommended to store authentication credentials in a separate file and read them in to the notebook as variables. This code assumes the files are stored in a local auth directory."
   ]
  },
  {
   "cell_type": "code",
   "execution_count": 44,
   "id": "810cd43b-0b3a-4354-9409-ea3728a86d1d",
   "metadata": {
    "tags": []
   },
   "outputs": [
    {
     "name": "stdout",
     "output_type": "stream",
     "text": [
      "Using HOST, USERNAME, PASSWORD from .ini file\n"
     ]
    }
   ],
   "source": [
    "# get authentication credentials from local auth file\n",
    "NEO4J_PROPERTIES_FILE = 'auth/immerse_kg_auth.ini'\n",
    "HOST, USERNAME, PASSWORD = read_neo4j_properties(NEO4J_PROPERTIES_FILE=NEO4J_PROPERTIES_FILE)"
   ]
  },
  {
   "cell_type": "code",
   "execution_count": null,
   "id": "84b8d0f5-2ae0-4b06-9646-846fed660e77",
   "metadata": {
    "tags": []
   },
   "outputs": [],
   "source": [
    "# connect to neo4j instance \n",
    "gds = GraphDataScience(HOST, auth=(USERNAME, PASSWORD), aura_ds=False)"
   ]
  },
  {
   "cell_type": "code",
   "execution_count": 46,
   "id": "5e21483a-1f3e-45fa-bb98-18c0ba1fed91",
   "metadata": {
    "tags": []
   },
   "outputs": [
    {
     "data": {
      "text/plain": [
       "'2.5.0'"
      ]
     },
     "execution_count": 46,
     "metadata": {},
     "output_type": "execute_result"
    }
   ],
   "source": [
    "# confirm connection with GDS version \n",
    "gds.version()"
   ]
  },
  {
   "cell_type": "markdown",
   "id": "6415098d-6b8a-4320-b34f-b3dcc2e9283a",
   "metadata": {},
   "source": [
    "# Delete all the nodes and edges"
   ]
  },
  {
   "cell_type": "code",
   "execution_count": 47,
   "id": "a1eca4eb-eae5-4bf3-a33e-2d11ca812a20",
   "metadata": {
    "tags": []
   },
   "outputs": [
    {
     "data": {
      "text/html": [
       "<div>\n",
       "<style scoped>\n",
       "    .dataframe tbody tr th:only-of-type {\n",
       "        vertical-align: middle;\n",
       "    }\n",
       "\n",
       "    .dataframe tbody tr th {\n",
       "        vertical-align: top;\n",
       "    }\n",
       "\n",
       "    .dataframe thead th {\n",
       "        text-align: right;\n",
       "    }\n",
       "</style>\n",
       "<table border=\"1\" class=\"dataframe\">\n",
       "  <thead>\n",
       "    <tr style=\"text-align: right;\">\n",
       "      <th></th>\n",
       "    </tr>\n",
       "  </thead>\n",
       "  <tbody>\n",
       "  </tbody>\n",
       "</table>\n",
       "</div>"
      ],
      "text/plain": [
       "Empty DataFrame\n",
       "Columns: []\n",
       "Index: []"
      ]
     },
     "execution_count": 47,
     "metadata": {},
     "output_type": "execute_result"
    }
   ],
   "source": [
    "gds.run_cypher('''\n",
    "                MATCH(n) \n",
    "                DETACH DELETE n\n",
    "                ''')"
   ]
  },
  {
   "cell_type": "markdown",
   "id": "f05c4b8a-a7ba-4b29-9eef-8f3d5b78cf5d",
   "metadata": {},
   "source": [
    "# Delete all the indexes and constraints"
   ]
  },
  {
   "cell_type": "code",
   "execution_count": 48,
   "id": "9de65b65-0731-4d51-835b-883679b474b8",
   "metadata": {},
   "outputs": [
    {
     "data": {
      "text/html": [
       "<div>\n",
       "<style scoped>\n",
       "    .dataframe tbody tr th:only-of-type {\n",
       "        vertical-align: middle;\n",
       "    }\n",
       "\n",
       "    .dataframe tbody tr th {\n",
       "        vertical-align: top;\n",
       "    }\n",
       "\n",
       "    .dataframe thead th {\n",
       "        text-align: right;\n",
       "    }\n",
       "</style>\n",
       "<table border=\"1\" class=\"dataframe\">\n",
       "  <thead>\n",
       "    <tr style=\"text-align: right;\">\n",
       "      <th></th>\n",
       "      <th>label</th>\n",
       "      <th>key</th>\n",
       "      <th>keys</th>\n",
       "      <th>unique</th>\n",
       "      <th>action</th>\n",
       "    </tr>\n",
       "  </thead>\n",
       "  <tbody>\n",
       "    <tr>\n",
       "      <th>0</th>\n",
       "      <td>DictionaryConcept</td>\n",
       "      <td>name</td>\n",
       "      <td>[name]</td>\n",
       "      <td>False</td>\n",
       "      <td>DROPPED</td>\n",
       "    </tr>\n",
       "    <tr>\n",
       "      <th>1</th>\n",
       "      <td>TextMining</td>\n",
       "      <td>None</td>\n",
       "      <td>[base, head, np, doc_id, term, type]</td>\n",
       "      <td>False</td>\n",
       "      <td>DROPPED</td>\n",
       "    </tr>\n",
       "    <tr>\n",
       "      <th>2</th>\n",
       "      <td>BookChapter</td>\n",
       "      <td>None</td>\n",
       "      <td>[isbm, title, authors, year, publisher]</td>\n",
       "      <td>False</td>\n",
       "      <td>DROPPED</td>\n",
       "    </tr>\n",
       "    <tr>\n",
       "      <th>3</th>\n",
       "      <td>OntologicalConcept</td>\n",
       "      <td>name</td>\n",
       "      <td>[name]</td>\n",
       "      <td>False</td>\n",
       "      <td>DROPPED</td>\n",
       "    </tr>\n",
       "    <tr>\n",
       "      <th>4</th>\n",
       "      <td>BookChapter</td>\n",
       "      <td>isbn</td>\n",
       "      <td>[isbn]</td>\n",
       "      <td>True</td>\n",
       "      <td>DROPPED</td>\n",
       "    </tr>\n",
       "    <tr>\n",
       "      <th>5</th>\n",
       "      <td>OntologicalConcept</td>\n",
       "      <td>id</td>\n",
       "      <td>[id]</td>\n",
       "      <td>True</td>\n",
       "      <td>DROPPED</td>\n",
       "    </tr>\n",
       "    <tr>\n",
       "      <th>6</th>\n",
       "      <td>DictionaryConcept</td>\n",
       "      <td>id</td>\n",
       "      <td>[id]</td>\n",
       "      <td>True</td>\n",
       "      <td>DROPPED</td>\n",
       "    </tr>\n",
       "    <tr>\n",
       "      <th>7</th>\n",
       "      <td>TextMining</td>\n",
       "      <td>id</td>\n",
       "      <td>[id]</td>\n",
       "      <td>True</td>\n",
       "      <td>DROPPED</td>\n",
       "    </tr>\n",
       "  </tbody>\n",
       "</table>\n",
       "</div>"
      ],
      "text/plain": [
       "                label   key                                     keys  unique  \\\n",
       "0   DictionaryConcept  name                                   [name]   False   \n",
       "1          TextMining  None     [base, head, np, doc_id, term, type]   False   \n",
       "2         BookChapter  None  [isbm, title, authors, year, publisher]   False   \n",
       "3  OntologicalConcept  name                                   [name]   False   \n",
       "4         BookChapter  isbn                                   [isbn]    True   \n",
       "5  OntologicalConcept    id                                     [id]    True   \n",
       "6   DictionaryConcept    id                                     [id]    True   \n",
       "7          TextMining    id                                     [id]    True   \n",
       "\n",
       "    action  \n",
       "0  DROPPED  \n",
       "1  DROPPED  \n",
       "2  DROPPED  \n",
       "3  DROPPED  \n",
       "4  DROPPED  \n",
       "5  DROPPED  \n",
       "6  DROPPED  \n",
       "7  DROPPED  "
      ]
     },
     "execution_count": 48,
     "metadata": {},
     "output_type": "execute_result"
    }
   ],
   "source": [
    "gds.run_cypher('''\n",
    "                CALL apoc.schema.assert({}, {})\n",
    "                ''')"
   ]
  }
 ],
 "metadata": {
  "kernelspec": {
   "display_name": "Python 3 (ipykernel)",
   "language": "python",
   "name": "python3"
  },
  "language_info": {
   "codemirror_mode": {
    "name": "ipython",
    "version": 3
   },
   "file_extension": ".py",
   "mimetype": "text/x-python",
   "name": "python",
   "nbconvert_exporter": "python",
   "pygments_lexer": "ipython3",
   "version": "3.9.11"
  }
 },
 "nbformat": 4,
 "nbformat_minor": 5
}
